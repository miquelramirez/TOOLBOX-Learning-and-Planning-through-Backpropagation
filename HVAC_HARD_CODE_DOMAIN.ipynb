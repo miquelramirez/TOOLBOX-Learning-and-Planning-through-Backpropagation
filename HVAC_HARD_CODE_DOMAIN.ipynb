{
 "cells": [
  {
   "cell_type": "code",
   "execution_count": 1,
   "metadata": {
    "collapsed": true
   },
   "outputs": [],
   "source": [
    "%matplotlib inline\n",
    "import matplotlib.pyplot as plt\n",
    "import tensorflow as tf\n",
    "import numpy as np\n",
    "from sklearn.metrics import confusion_matrix\n",
    "import time\n",
    "from datetime import timedelta\n",
    "import math\n",
    "import os\n",
    "import pandas as pd\n",
    "#Functional coding\n",
    "import functools\n",
    "from functools import partial\n",
    "from tensorflow.python.ops import array_ops "
   ]
  },
  {
   "cell_type": "code",
   "execution_count": 2,
   "metadata": {
    "collapsed": false
   },
   "outputs": [
    {
     "data": {
      "text/plain": [
       "True"
      ]
     },
     "execution_count": 2,
     "metadata": {},
     "output_type": "execute_result"
    }
   ],
   "source": [
    "'a' in ['a','b','c']"
   ]
  },
  {
   "cell_type": "code",
   "execution_count": 3,
   "metadata": {
    "collapsed": true
   },
   "outputs": [],
   "source": [
    "Datapath=\"DATA/HVAC/HVAC_Data.txt\"\n",
    "Labelpath=\"DATA/HVAC/HVAC_Label.txt\"\n",
    "Rewardpath=\"DATA/HVAC/HVAC_Reward.txt\""
   ]
  },
  {
   "cell_type": "code",
   "execution_count": 4,
   "metadata": {
    "collapsed": true
   },
   "outputs": [],
   "source": [
    "#Given local path, find full path\n",
    "def PathFinder(path):\n",
    "    #python 2\n",
    "    #script_dir = os.path.dirname('__file__')\n",
    "    #fullpath = os.path.join(script_dir,path)\n",
    "    #python 3\n",
    "    fullpath=os.path.abspath(path)\n",
    "    print(fullpath)\n",
    "    return fullpath\n",
    "\n",
    "#Read Data for Deep Learning\n",
    "def ReadData(path):\n",
    "    fullpath=PathFinder(path)\n",
    "    return pd.read_csv(fullpath, sep=',', header=0)"
   ]
  },
  {
   "cell_type": "code",
   "execution_count": 5,
   "metadata": {
    "collapsed": false
   },
   "outputs": [
    {
     "name": "stdout",
     "output_type": "stream",
     "text": [
      "/home/wuga/Documents/Notebook/VAE-PLANNING/DATA/HVAC/HVAC_Data.txt\n",
      "/home/wuga/Documents/Notebook/VAE-PLANNING/DATA/HVAC/HVAC_Label.txt\n",
      "/home/wuga/Documents/Notebook/VAE-PLANNING/DATA/HVAC/HVAC_Reward.txt\n"
     ]
    }
   ],
   "source": [
    "S_A_pd = ReadData(Datapath)\n",
    "SP_pd = ReadData(Labelpath)\n",
    "R_pd = ReadData(Rewardpath)\n",
    "S_A_matrix=S_A_pd.as_matrix()\n",
    "SP_matrix=SP_pd.as_matrix()\n",
    "R_matrix=R_pd.as_matrix()"
   ]
  },
  {
   "cell_type": "code",
   "execution_count": 6,
   "metadata": {
    "collapsed": true
   },
   "outputs": [],
   "source": [
    "default_settings = {                \n",
    "    \"cap\": tf.constant(80.0,dtype=tf.float32), \n",
    "    \"outside_resist\" : tf.constant(4.0,dtype=tf.float32),\n",
    "    \"hall_resist\" : tf.constant(2.0,dtype=tf.float32),\n",
    "    \"wall_resist\" : tf.constant(1.5,dtype=tf.float32),\n",
    "    \"cap_air\" : tf.constant(1.006,dtype=tf.float32), \n",
    "    \"cost_air\" : tf.constant(1.0,dtype=tf.float32), \n",
    "    \"time_delta\" : tf.constant(1.0,dtype=tf.float32),\n",
    "    \"temp_air\" : tf.constant(40.0,dtype=tf.float32),\n",
    "    \"temp_up\" : tf.constant(23.5,dtype=tf.float32),\n",
    "    \"temp_low\" : tf.constant(20.0,dtype=tf.float32),\n",
    "    \"temp_outside\" : tf.constant(6.0,dtype=tf.float32),\n",
    "    \"temp_hall\" : tf.constant(10.0,dtype=tf.float32),\n",
    "    \"penalty\" : tf.constant(20000.0,dtype=tf.float32),\n",
    "    \"air_max\" : tf.constant(10.0,dtype=tf.float32)\n",
    "   }"
   ]
  },
  {
   "cell_type": "code",
   "execution_count": 7,
   "metadata": {
    "collapsed": false
   },
   "outputs": [],
   "source": [
    "class HVAC(object):\n",
    "    def __init__(self, \n",
    "                 adj_outside, #Adjacent to outside \n",
    "                 adj_hall, #Adjacent to hall\n",
    "                 adj, #Adjacent between rooms\n",
    "                 rooms, #Room names\n",
    "                 default_settings):\n",
    "        self.__dict__.update(default_settings)\n",
    "        self.adj_outside = adj_outside\n",
    "        self.adj_hall = adj_hall\n",
    "        self.adj = adj\n",
    "        self.rooms = rooms\n",
    "        self.zero = tf.constant(0,dtype=tf.float32)\n",
    "        \n",
    "    def ADJ(self, space1, space2):\n",
    "        for pair in self.adj:\n",
    "            if space1 in pair and space2 in pair:\n",
    "                return True\n",
    "        return False\n",
    "                 \n",
    "    def ADJ_OUTSIDE(self,  space):\n",
    "        if space in self.adj_outside:\n",
    "            return True\n",
    "        else:\n",
    "            return False\n",
    "            \n",
    "    def ADJ_HALL(self, space):\n",
    "        if space in self.adj_hall:\n",
    "            return True\n",
    "        else:\n",
    "            return False  \n",
    "        \n",
    "    def R_OUTSIDE(self, space):\n",
    "        return self.outside_resist\n",
    "    \n",
    "    def R_HALL(self, space):\n",
    "        return self.hall_resist\n",
    "    \n",
    "    def R_WALL(self, space1, space2):\n",
    "        return self.wall_resist\n",
    "        \n",
    "    def CAP(self, space):\n",
    "        return self.cap\n",
    "    \n",
    "    def CAP_AIR(self):\n",
    "        return self.cap_air\n",
    "    \n",
    "    def COST_AIR(self):\n",
    "        return self.cost_air\n",
    "    \n",
    "    def TIME_DELTA(self):\n",
    "        return self.time_delta\n",
    "    \n",
    "    def TEMP_AIR(self):\n",
    "        return self.temp_air\n",
    "    \n",
    "    def TEMP_UP(self, space):\n",
    "        return self.temp_up\n",
    "    \n",
    "    def TEMP_LOW(self, space):\n",
    "        return self.temp_low\n",
    "    \n",
    "    def TEMP_OUTSIDE(self, space):\n",
    "        return self.temp_outside\n",
    "    \n",
    "    def TEMP_HALL(self, space):\n",
    "        return self.temp_hall\n",
    "    \n",
    "    def PENALTY(self):\n",
    "        return self.penalty\n",
    "    \n",
    "    def AIR_MAX(self, space):\n",
    "        return self.air_max\n",
    "    \n",
    "    # Single state function, need map to matrix later\n",
    "    def _transition(self, space, states, actions):\n",
    "        \n",
    "        previous_state = states[space]\n",
    "        heating_info = actions[space]*self.CAP_AIR()*(self.TEMP_AIR()-previous_state)\n",
    "        neighbor_info = self.zero\n",
    "        for p in self.rooms:\n",
    "            if self.ADJ(space,p):\n",
    "                neighbor_info += (states[p]-previous_state)/self.R_WALL(space,p)\n",
    "        outside_info = self.zero\n",
    "        if self.ADJ_OUTSIDE(space):\n",
    "            outside_info=(self.TEMP_OUTSIDE(space)-previous_state)/self.R_OUTSIDE(space)\n",
    "        wall_info = self.zero\n",
    "        if self.ADJ_HALL(space):\n",
    "            wall_info=(self.TEMP_HALL(space)-previous_state)/self.R_HALL(space)\n",
    "            \n",
    "        new_state = previous_state + self.TIME_DELTA()/self.CAP(space)*(heating_info + neighbor_info + outside_info + wall_info)\n",
    "        return new_state\n",
    "    \n",
    "    # For single data point\n",
    "    def _vector_trans(self, state_size, states_packed, actions_packed):\n",
    "        new_states = []\n",
    "        states = tf.unpack(states_packed)\n",
    "        actions = tf.unpack(actions_packed)\n",
    "        for i in range(state_size):\n",
    "            new_states.append(self._transition(i,states,actions))\n",
    "        return tf.pack(new_states)\n",
    "    \n",
    "    def Transition(self, states, actions):\n",
    "        new_states = []\n",
    "        batch_size,state_size = states.get_shape()\n",
    "        states_list = tf.unpack(states)\n",
    "        actions_list = tf.unpack(actions)\n",
    "        for i in range(batch_size):\n",
    "            new_states.append(self._vector_trans(state_size,states_list[i],actions_list[i]))\n",
    "        return tf.pack(new_states)\n",
    "    \n",
    "    # For single data point\n",
    "    def _reward(self, state_size, states_packed, actions_packed):\n",
    "        reward = self.zero\n",
    "        states = tf.unpack(states_packed)\n",
    "        actions = tf.unpack(actions_packed)\n",
    "        \n",
    "        #For each room\n",
    "        for i in range(state_size):\n",
    "            \n",
    "            #Penalty for breaking upper or lower bound constraints\n",
    "            break_penalty = tf.cond(tf.logical_or(states[i] <self.TEMP_LOW(i), states[i] > self.TEMP_UP(i)), lambda: self.PENALTY(), lambda: self.zero)\n",
    "                \n",
    "            #Penalty for distance to centre(no bug)\n",
    "            dist_penalty = tf.abs(((self.TEMP_UP(i)+self.TEMP_LOW(i))/tf.constant(2.0, dtype=tf.float32))-states[i])\n",
    "            \n",
    "            #Penalty for energy cost\n",
    "            ener_penalty = actions[i]*self.COST_AIR()\n",
    "            \n",
    "            #break_penalty+tf.constant(10.0, tf.float32)*dist_penalty\n",
    "            reward -= (break_penalty+tf.constant(10.0, tf.float32)*dist_penalty+ener_penalty)\n",
    "            \n",
    "        return tf.pack([reward])\n",
    "            \n",
    "    def Reward(self, states,actions):\n",
    "        new_rewards = []\n",
    "        batch_size,state_size = states.get_shape()\n",
    "        states_list = tf.unpack(states)\n",
    "        actions_list = tf.unpack(actions)\n",
    "        for i in range(batch_size):\n",
    "            new_rewards.append(self._reward(state_size,states_list[i],actions_list[i]))\n",
    "        return tf.pack(new_rewards)\n",
    "            \n",
    "    \n",
    "                "
   ]
  },
  {
   "cell_type": "code",
   "execution_count": 8,
   "metadata": {
    "collapsed": false
   },
   "outputs": [],
   "source": [
    "adj_outside = [0,2,3,5]\n",
    "adj_hall = [0,1,2,3,4,5]\n",
    "adj = [[0,1],[0,3],[1,2],[1,4],[2,5],[3,4],[4,5]]\n",
    "rooms = [0,1,2,3,4,5]"
   ]
  },
  {
   "cell_type": "code",
   "execution_count": 9,
   "metadata": {
    "collapsed": true
   },
   "outputs": [],
   "source": [
    "# States\n",
    "states = tf.placeholder(tf.float32,[10, 6],name=\"States\")\n",
    "\n",
    "# Actions\n",
    "actions = tf.placeholder(tf.float32,[10, 6],name=\"Actions\")"
   ]
  },
  {
   "cell_type": "code",
   "execution_count": 10,
   "metadata": {
    "collapsed": false
   },
   "outputs": [],
   "source": [
    "hvac_inst = HVAC(adj_outside,adj_hall,adj,rooms,default_settings)"
   ]
  },
  {
   "cell_type": "code",
   "execution_count": 11,
   "metadata": {
    "collapsed": false
   },
   "outputs": [
    {
     "name": "stdout",
     "output_type": "stream",
     "text": [
      "[13.76]\n",
      "[array([ 13.76000023,  13.77250004,  13.76000023,  13.76000023,\n",
      "        13.77250004,  13.76000023], dtype=float32)]\n",
      "[array([ 13.76000023,  13.77250004,  13.76000023,  13.76000023,\n",
      "        13.77250004,  13.76000023], dtype=float32)]\n"
     ]
    }
   ],
   "source": [
    "states_list=tf.unpack(states)\n",
    "actions_list = tf.unpack(actions)\n",
    "sess = tf.InteractiveSession()\n",
    "sess.run(tf.global_variables_initializer())\n",
    "feed_dict={states:S_A_matrix[:10,6:], actions:S_A_matrix[:10,:6]}\n",
    "new_state = hvac_inst._transition(0,states_list[0],actions_list[0])\n",
    "print(sess.run([new_state], feed_dict=feed_dict))\n",
    "print(sess.run([states_list[1]], feed_dict=feed_dict))\n",
    "print(sess.run([states_list[1]], feed_dict=feed_dict))\n"
   ]
  },
  {
   "cell_type": "code",
   "execution_count": 12,
   "metadata": {
    "collapsed": false
   },
   "outputs": [
    {
     "data": {
      "text/plain": [
       "True"
      ]
     },
     "execution_count": 12,
     "metadata": {},
     "output_type": "execute_result"
    }
   ],
   "source": [
    "hvac_inst.ADJ(4,5)"
   ]
  },
  {
   "cell_type": "code",
   "execution_count": 13,
   "metadata": {
    "collapsed": false
   },
   "outputs": [],
   "source": [
    "new_states=hvac_inst.Transition(states,actions)"
   ]
  },
  {
   "cell_type": "code",
   "execution_count": 14,
   "metadata": {
    "collapsed": false
   },
   "outputs": [
    {
     "data": {
      "text/plain": [
       "TensorShape([Dimension(10), Dimension(6)])"
      ]
     },
     "execution_count": 14,
     "metadata": {},
     "output_type": "execute_result"
    }
   ],
   "source": [
    "states.get_shape()"
   ]
  },
  {
   "cell_type": "code",
   "execution_count": 15,
   "metadata": {
    "collapsed": false
   },
   "outputs": [],
   "source": [
    "feed_dict={states:S_A_matrix[:10,6:], actions:S_A_matrix[:10,:6]}\n",
    "state_prim = sess.run(new_states,feed_dict=feed_dict )"
   ]
  },
  {
   "cell_type": "code",
   "execution_count": 16,
   "metadata": {
    "collapsed": false
   },
   "outputs": [
    {
     "name": "stdout",
     "output_type": "stream",
     "text": [
      "[[ 10.  10.  10.  10.  10.  10.]\n",
      " [ 10.  10.  10.  10.  10.  10.]\n",
      " [ 10.  10.  10.  10.  10.  10.]]\n"
     ]
    }
   ],
   "source": [
    "print(S_A_matrix[:3,:6])"
   ]
  },
  {
   "cell_type": "code",
   "execution_count": 17,
   "metadata": {
    "collapsed": false
   },
   "outputs": [
    {
     "name": "stdout",
     "output_type": "stream",
     "text": [
      "[[ 10.          10.          10.          10.          10.          10.        ]\n",
      " [ 13.76        13.7725      13.76        13.76        13.7725      13.76      ]\n",
      " [ 17.01203417  17.04682167  17.01203417  17.01203417  17.04682167\n",
      "   17.01203417]]\n"
     ]
    }
   ],
   "source": [
    "print(S_A_matrix[:3,6:])"
   ]
  },
  {
   "cell_type": "code",
   "execution_count": 18,
   "metadata": {
    "collapsed": false
   },
   "outputs": [],
   "source": [
    "new_rewards = hvac_inst.Reward(states,actions)"
   ]
  },
  {
   "cell_type": "code",
   "execution_count": 19,
   "metadata": {
    "collapsed": false
   },
   "outputs": [
    {
     "data": {
      "text/plain": [
       "array([[ -1.20765000e+05],\n",
       "       [ -1.20539148e+05],\n",
       "       [ -1.20343578e+05],\n",
       "       [ -1.20174234e+05],\n",
       "       [ -6.58814545e+01],\n",
       "       [ -6.01172969e+04],\n",
       "       [ -1.00133281e+05],\n",
       "       [ -8.01341719e+04],\n",
       "       [ -1.00139266e+05],\n",
       "       [ -1.20141102e+05]], dtype=float32)"
      ]
     },
     "execution_count": 19,
     "metadata": {},
     "output_type": "execute_result"
    }
   ],
   "source": [
    "feed_dict={states:S_A_matrix[:10,6:], actions:S_A_matrix[:10,:6]}\n",
    "sess.run(new_rewards,feed_dict=feed_dict )"
   ]
  },
  {
   "cell_type": "code",
   "execution_count": 20,
   "metadata": {
    "collapsed": true
   },
   "outputs": [],
   "source": [
    "class HVACCell(tf.nn.rnn_cell.RNNCell):\n",
    "\n",
    "    def __init__(self, adj_outside,adj_hall,adj,rooms,default_settings):\n",
    "        self._num_state_units = len(rooms)\n",
    "        self._num_reward_units = 1\n",
    "        self.hvac = HVAC(adj_outside,adj_hall,adj,rooms,default_settings)\n",
    "\n",
    "    @property\n",
    "    def state_size(self):\n",
    "        return self._num_state_units\n",
    "\n",
    "    @property\n",
    "    def output_size(self):\n",
    "        return self._num_reward_units\n",
    "\n",
    "    def __call__(self, inputs, state, scope=None):\n",
    "        next_state =  self.hvac.Transition(state, inputs)\n",
    "        reward = self.hvac.Reward(state, inputs)      \n",
    "        return reward, next_state\n",
    "    "
   ]
  },
  {
   "cell_type": "code",
   "execution_count": 21,
   "metadata": {
    "collapsed": true
   },
   "outputs": [],
   "source": [
    "hvac_inst_cell = HVACCell(adj_outside,adj_hall,adj,rooms,default_settings)"
   ]
  },
  {
   "cell_type": "code",
   "execution_count": 22,
   "metadata": {
    "collapsed": false
   },
   "outputs": [
    {
     "data": {
      "text/plain": [
       "(<tf.Tensor 'pack_28:0' shape=(2, 1) dtype=float32>,\n",
       " <tf.Tensor 'pack_25:0' shape=(2, 6) dtype=float32>)"
      ]
     },
     "execution_count": 22,
     "metadata": {},
     "output_type": "execute_result"
    }
   ],
   "source": [
    "a = tf.Variable(tf.constant(0.0, dtype=tf.float32,shape=[2,6]),name=\"action\")\n",
    "initial_state = hvac_inst_cell.zero_state(2, dtype=tf.float32)+tf.constant([[10,10,10,10,10,10]],dtype=tf.float32)\n",
    "hvac_inst_cell(a,initial_state )\n",
    "#print(initial_state.get_shape())"
   ]
  },
  {
   "cell_type": "code",
   "execution_count": 23,
   "metadata": {
    "collapsed": true
   },
   "outputs": [],
   "source": [
    "class ActionOptimizer(object):\n",
    "    def __init__(self,\n",
    "                a, # Actions\n",
    "                num_step, # Number of RNN step, this is a fixed step RNN sequence, 12 for navigation\n",
    "                learning_rate=0.1): \n",
    "        self.action = tf.reshape(a,[-1,num_step,6]) #Reshape rewards\n",
    "        print(self.action)\n",
    "        self.num_step = num_step\n",
    "        self.learning_rate = learning_rate\n",
    "        self._p_create_rnn_graph()\n",
    "        self._p_create_loss()\n",
    "        self.sess = tf.InteractiveSession()\n",
    "        self.sess.run(tf.global_variables_initializer())\n",
    "    \n",
    "    def _p_create_rnn_graph(self):\n",
    "        cell = HVACCell(adj_outside,adj_hall,adj,rooms,default_settings)\n",
    "        initial_state = cell.zero_state(1, dtype=tf.float32)+tf.constant([[10,10,10,10,10,10]],dtype=tf.float32)\n",
    "        print('action batch size:{0}'.format(array_ops.shape(self.action)[0]))\n",
    "        print('Initial_state shape:{0}'.format(initial_state))\n",
    "        rnn_outputs, state = tf.nn.dynamic_rnn(cell, self.action, dtype=tf.float32,initial_state=initial_state)\n",
    "        #need output intermediate states as well\n",
    "        self.outputs = rnn_outputs\n",
    "        self.last_state = state\n",
    "        self.pred = tf.reduce_sum(self.outputs,1)\n",
    "        print(\"self.pred:{0}\".format(self.pred))\n",
    "            \n",
    "    def _p_create_loss(self):\n",
    "\n",
    "        objective = tf.reduce_mean(self.pred) \n",
    "        self.loss = -objective\n",
    "        print(self.loss.get_shape())\n",
    "        #self.loss = -objective\n",
    "        self.optimizer = tf.train.RMSPropOptimizer(self.learning_rate).minimize(self.loss, var_list=[a])\n",
    "        \n",
    "    def Optimize(self,epoch=100):\n",
    "        \n",
    "        new_loss = self.sess.run([self.loss])\n",
    "        print('Loss in epoch {0}: {1}'.format(\"Initial\", new_loss)) \n",
    "        for epoch in range(epoch):\n",
    "            training = self.sess.run([self.optimizer])\n",
    "            self.sess.run(tf.assign(a, tf.clip_by_value(a, 0, 10)))\n",
    "            if True:\n",
    "                new_loss = self.sess.run([self.loss])\n",
    "                print('Loss in epoch {0}: {1}'.format(epoch, new_loss))  \n",
    "        minimum_costs_id=self.sess.run(tf.argmax(self.pred,0))\n",
    "        print(minimum_costs_id)\n",
    "        print('Optimal Action Squence:{0}'.format(self.sess.run(self.action)[minimum_costs_id[0]]))\n",
    "        print('The last state:{0}'.format(self.sess.run(self.last_state)))\n",
    "        print('Rewards each time step:{0}'.format(self.sess.run(self.outputs)))"
   ]
  },
  {
   "cell_type": "code",
   "execution_count": 24,
   "metadata": {
    "collapsed": false
   },
   "outputs": [
    {
     "name": "stdout",
     "output_type": "stream",
     "text": [
      "Tensor(\"Reshape:0\", shape=(1, 10, 6), dtype=float32)\n",
      "action batch size:Tensor(\"strided_slice_5:0\", shape=(), dtype=int32)\n",
      "Initial_state shape:Tensor(\"add_752:0\", shape=(1, 6), dtype=float32)\n",
      "self.pred:Tensor(\"Sum:0\", shape=(1, 1), dtype=float32)\n",
      "()\n"
     ]
    }
   ],
   "source": [
    "a = tf.Variable(tf.constant(5.0, dtype=tf.float32,shape=[60]),name=\"action\")\n",
    "rnn_inst = ActionOptimizer(a, 10)  "
   ]
  },
  {
   "cell_type": "code",
   "execution_count": 25,
   "metadata": {
    "collapsed": false
   },
   "outputs": [
    {
     "name": "stdout",
     "output_type": "stream",
     "text": [
      "Loss in epoch Initial: [843264.75]\n",
      "Loss in epoch 0: [843168.19]\n",
      "Loss in epoch 1: [723099.25]\n",
      "Loss in epoch 2: [723040.06]\n",
      "Loss in epoch 3: [722986.75]\n",
      "Loss in epoch 4: [722937.62]\n",
      "Loss in epoch 5: [722893.25]\n",
      "Loss in epoch 6: [722854.44]\n",
      "Loss in epoch 7: [722821.88]\n",
      "Loss in epoch 8: [682786.5]\n",
      "Loss in epoch 9: [682755.94]\n",
      "Loss in epoch 10: [602726.06]\n",
      "Loss in epoch 11: [602693.69]\n",
      "Loss in epoch 12: [602665.12]\n",
      "Loss in epoch 13: [602638.25]\n",
      "Loss in epoch 14: [602608.25]\n",
      "Loss in epoch 15: [602579.06]\n",
      "Loss in epoch 16: [602553.06]\n",
      "Loss in epoch 17: [602526.88]\n",
      "Loss in epoch 18: [602498.69]\n",
      "Loss in epoch 19: [602470.88]\n",
      "Loss in epoch 20: [602444.19]\n",
      "Loss in epoch 21: [602419.0]\n",
      "Loss in epoch 22: [602393.25]\n",
      "Loss in epoch 23: [602366.31]\n",
      "Loss in epoch 24: [602339.5]\n",
      "Loss in epoch 25: [602313.38]\n",
      "Loss in epoch 26: [562288.94]\n",
      "Loss in epoch 27: [562262.88]\n",
      "Loss in epoch 28: [482237.59]\n",
      "Loss in epoch 29: [482211.41]\n",
      "Loss in epoch 30: [482185.28]\n",
      "Loss in epoch 31: [482160.31]\n",
      "Loss in epoch 32: [482135.78]\n",
      "Loss in epoch 33: [482114.25]\n",
      "Loss in epoch 34: [482093.19]\n",
      "Loss in epoch 35: [482073.44]\n",
      "Loss in epoch 36: [482061.0]\n",
      "Loss in epoch 37: [482027.97]\n",
      "Loss in epoch 38: [482034.53]\n",
      "Loss in epoch 39: [482011.34]\n",
      "Loss in epoch 40: [481998.28]\n",
      "Loss in epoch 41: [481984.16]\n",
      "Loss in epoch 42: [481964.19]\n",
      "Loss in epoch 43: [481954.66]\n",
      "Loss in epoch 44: [481952.56]\n",
      "Loss in epoch 45: [481936.81]\n",
      "Loss in epoch 46: [481926.69]\n",
      "Loss in epoch 47: [481922.25]\n",
      "Loss in epoch 48: [481922.28]\n",
      "Loss in epoch 49: [481908.62]\n",
      "Loss in epoch 50: [481902.19]\n",
      "Loss in epoch 51: [481899.44]\n",
      "Loss in epoch 52: [481898.25]\n",
      "Loss in epoch 53: [481899.81]\n",
      "Loss in epoch 54: [481896.16]\n",
      "Loss in epoch 55: [481908.62]\n",
      "Loss in epoch 56: [481893.31]\n",
      "Loss in epoch 57: [481893.12]\n",
      "Loss in epoch 58: [481882.91]\n",
      "Loss in epoch 59: [481887.41]\n",
      "Loss in epoch 60: [481889.0]\n",
      "Loss in epoch 61: [481890.28]\n",
      "Loss in epoch 62: [481886.69]\n",
      "Loss in epoch 63: [481891.81]\n",
      "Loss in epoch 64: [481875.28]\n",
      "Loss in epoch 65: [481878.25]\n",
      "Loss in epoch 66: [481881.31]\n",
      "Loss in epoch 67: [481884.97]\n",
      "Loss in epoch 68: [481877.91]\n",
      "Loss in epoch 69: [481879.16]\n",
      "Loss in epoch 70: [481875.59]\n",
      "Loss in epoch 71: [481873.78]\n",
      "Loss in epoch 72: [481870.84]\n",
      "Loss in epoch 73: [481888.03]\n",
      "Loss in epoch 74: [481866.75]\n",
      "Loss in epoch 75: [481863.06]\n",
      "Loss in epoch 76: [481865.03]\n",
      "Loss in epoch 77: [481873.38]\n",
      "Loss in epoch 78: [481868.03]\n",
      "Loss in epoch 79: [481877.16]\n",
      "Loss in epoch 80: [481860.44]\n",
      "Loss in epoch 81: [481868.19]\n",
      "Loss in epoch 82: [481855.84]\n",
      "Loss in epoch 83: [481860.84]\n",
      "Loss in epoch 84: [481867.22]\n",
      "Loss in epoch 85: [481869.47]\n",
      "Loss in epoch 86: [481854.94]\n",
      "Loss in epoch 87: [481868.06]\n",
      "Loss in epoch 88: [481855.81]\n",
      "Loss in epoch 89: [481860.28]\n",
      "Loss in epoch 90: [481855.38]\n",
      "Loss in epoch 91: [481865.16]\n",
      "Loss in epoch 92: [481852.56]\n",
      "Loss in epoch 93: [481854.78]\n",
      "Loss in epoch 94: [481853.88]\n",
      "Loss in epoch 95: [481867.22]\n",
      "Loss in epoch 96: [481852.34]\n",
      "Loss in epoch 97: [481874.16]\n",
      "Loss in epoch 98: [481848.53]\n",
      "Loss in epoch 99: [481861.09]\n",
      "Loss in epoch 100: [481850.72]\n",
      "Loss in epoch 101: [481864.72]\n",
      "Loss in epoch 102: [481849.5]\n",
      "Loss in epoch 103: [481857.78]\n",
      "Loss in epoch 104: [481852.47]\n",
      "Loss in epoch 105: [481861.28]\n",
      "Loss in epoch 106: [481851.19]\n",
      "Loss in epoch 107: [481867.69]\n",
      "Loss in epoch 108: [481846.81]\n",
      "Loss in epoch 109: [481854.53]\n",
      "Loss in epoch 110: [481857.88]\n",
      "Loss in epoch 111: [481849.0]\n",
      "Loss in epoch 112: [481854.78]\n",
      "Loss in epoch 113: [481851.66]\n",
      "Loss in epoch 114: [481858.38]\n",
      "Loss in epoch 115: [481850.25]\n",
      "Loss in epoch 116: [481864.78]\n",
      "Loss in epoch 117: [481847.28]\n",
      "Loss in epoch 118: [481854.25]\n",
      "Loss in epoch 119: [481847.84]\n",
      "Loss in epoch 120: [481859.16]\n",
      "Loss in epoch 121: [481843.94]\n",
      "Loss in epoch 122: [481856.41]\n",
      "Loss in epoch 123: [481845.78]\n",
      "Loss in epoch 124: [481860.69]\n",
      "Loss in epoch 125: [481844.97]\n",
      "Loss in epoch 126: [481853.28]\n",
      "Loss in epoch 127: [481847.62]\n",
      "Loss in epoch 128: [481857.38]\n",
      "Loss in epoch 129: [481846.34]\n",
      "Loss in epoch 130: [481864.0]\n",
      "Loss in epoch 131: [481843.22]\n",
      "Loss in epoch 132: [481852.59]\n",
      "Loss in epoch 133: [481843.78]\n",
      "Loss in epoch 134: [481857.84]\n",
      "Loss in epoch 135: [481842.44]\n",
      "Loss in epoch 136: [481852.22]\n",
      "Loss in epoch 137: [481845.69]\n",
      "Loss in epoch 138: [481854.81]\n",
      "Loss in epoch 139: [481843.78]\n",
      "Loss in epoch 140: [481862.12]\n",
      "Loss in epoch 141: [481839.09]\n",
      "Loss in epoch 142: [481840.53]\n",
      "Loss in epoch 143: [481845.03]\n",
      "Loss in epoch 144: [481863.03]\n",
      "Loss in epoch 145: [481840.31]\n",
      "Loss in epoch 146: [481849.91]\n",
      "Loss in epoch 147: [481843.38]\n",
      "Loss in epoch 148: [481854.69]\n",
      "Loss in epoch 149: [481841.44]\n",
      "Loss in epoch 150: [481861.12]\n",
      "Loss in epoch 151: [481838.69]\n",
      "Loss in epoch 152: [481843.28]\n",
      "Loss in epoch 153: [481844.22]\n",
      "Loss in epoch 154: [481857.97]\n",
      "Loss in epoch 155: [481839.69]\n",
      "Loss in epoch 156: [481846.72]\n",
      "Loss in epoch 157: [481841.41]\n",
      "Loss in epoch 158: [481852.03]\n",
      "Loss in epoch 159: [481838.88]\n",
      "Loss in epoch 160: [481846.09]\n",
      "Loss in epoch 161: [481843.25]\n",
      "Loss in epoch 162: [481848.97]\n",
      "Loss in epoch 163: [481841.59]\n",
      "Loss in epoch 164: [481856.09]\n",
      "Loss in epoch 165: [481834.75]\n",
      "Loss in epoch 166: [481848.25]\n",
      "Loss in epoch 167: [481836.84]\n",
      "Loss in epoch 168: [481853.06]\n",
      "Loss in epoch 169: [481835.88]\n",
      "Loss in epoch 170: [481845.44]\n",
      "Loss in epoch 171: [481838.72]\n",
      "Loss in epoch 172: [481849.91]\n",
      "Loss in epoch 173: [481837.28]\n",
      "Loss in epoch 174: [481862.09]\n",
      "Loss in epoch 175: [481833.53]\n",
      "Loss in epoch 176: [481839.72]\n",
      "Loss in epoch 177: [481839.16]\n",
      "Loss in epoch 178: [481860.12]\n",
      "Loss in epoch 179: [481833.44]\n",
      "Loss in epoch 180: [481849.59]\n",
      "Loss in epoch 181: [481836.69]\n",
      "Loss in epoch 182: [481844.09]\n",
      "Loss in epoch 183: [481835.88]\n",
      "Loss in epoch 184: [481847.06]\n",
      "Loss in epoch 185: [481837.34]\n",
      "Loss in epoch 186: [481860.53]\n",
      "Loss in epoch 187: [481831.5]\n",
      "Loss in epoch 188: [481854.47]\n",
      "Loss in epoch 189: [481833.25]\n",
      "Loss in epoch 190: [481847.44]\n",
      "Loss in epoch 191: [481833.84]\n",
      "Loss in epoch 192: [481863.0]\n",
      "Loss in epoch 193: [481833.47]\n",
      "Loss in epoch 194: [481838.22]\n",
      "Loss in epoch 195: [481844.25]\n",
      "Loss in epoch 196: [481862.72]\n",
      "Loss in epoch 197: [481836.47]\n",
      "Loss in epoch 198: [481859.03]\n",
      "Loss in epoch 199: [481834.28]\n",
      "[0]\n",
      "Optimal Action Squence:[[ 10.          10.          10.          10.          10.          10.        ]\n",
      " [ 10.          10.          10.          10.          10.          10.        ]\n",
      " [ 10.          10.          10.          10.          10.          10.        ]\n",
      " [  8.02383232   7.64297295   8.02383232   8.02383232   7.64297199\n",
      "    8.02383232]\n",
      " [  0.77731419   0.57743984   0.77731383   0.77731383   0.57743984\n",
      "    0.77731383]\n",
      " [  0.3766517    0.15857667   0.37665123   0.37665123   0.15857664\n",
      "    0.37665123]\n",
      " [  0.53751624   0.36417648   0.53751624   0.53751624   0.36417654\n",
      "    0.53751624]\n",
      " [  0.56368518   0.39161229   0.56368542   0.56368554   0.39161223\n",
      "    0.56368554]\n",
      " [  0.31502736   0.19420058   0.31502751   0.31502745   0.19420055\n",
      "    0.31502745]\n",
      " [  0.           0.           0.           0.           0.           0.        ]]\n",
      "The last state:[[ 21.60904694  21.7012558   21.60904694  21.60904694  21.7012558\n",
      "   21.60904694]]\n",
      "Rewards each time step:[[[ -1.20765000e+05]\n",
      "  [ -1.20539148e+05]\n",
      "  [ -1.20343578e+05]\n",
      "  [ -1.20161609e+05]\n",
      "  [ -4.69305944e+00]\n",
      "  [ -5.65634680e+00]\n",
      "  [ -4.47528839e+00]\n",
      "  [ -4.84304237e+00]\n",
      "  [ -4.02495289e+00]\n",
      "  [ -1.26567841e+00]]]\n"
     ]
    }
   ],
   "source": [
    "rnn_inst.Optimize(200)"
   ]
  },
  {
   "cell_type": "code",
   "execution_count": null,
   "metadata": {
    "collapsed": true
   },
   "outputs": [],
   "source": []
  }
 ],
 "metadata": {
  "kernelspec": {
   "display_name": "Python 3",
   "language": "python",
   "name": "python3"
  },
  "language_info": {
   "codemirror_mode": {
    "name": "ipython",
    "version": 3
   },
   "file_extension": ".py",
   "mimetype": "text/x-python",
   "name": "python",
   "nbconvert_exporter": "python",
   "pygments_lexer": "ipython3",
   "version": "3.4.3"
  }
 },
 "nbformat": 4,
 "nbformat_minor": 2
}
