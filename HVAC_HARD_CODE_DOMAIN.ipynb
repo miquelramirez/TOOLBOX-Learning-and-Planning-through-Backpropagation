{
 "cells": [
  {
   "cell_type": "code",
   "execution_count": 1,
   "metadata": {
    "collapsed": true
   },
   "outputs": [],
   "source": [
    "%matplotlib inline\n",
    "import matplotlib.pyplot as plt\n",
    "import tensorflow as tf\n",
    "import numpy as np\n",
    "from sklearn.metrics import confusion_matrix\n",
    "import time\n",
    "from datetime import timedelta\n",
    "import math\n",
    "import os\n",
    "import pandas as pd\n",
    "#Functional coding\n",
    "import functools\n",
    "from functools import partial"
   ]
  },
  {
   "cell_type": "code",
   "execution_count": 2,
   "metadata": {
    "collapsed": false
   },
   "outputs": [
    {
     "data": {
      "text/plain": [
       "True"
      ]
     },
     "execution_count": 2,
     "metadata": {},
     "output_type": "execute_result"
    }
   ],
   "source": [
    "'a' in ['a','b','c']"
   ]
  },
  {
   "cell_type": "code",
   "execution_count": null,
   "metadata": {
    "collapsed": true
   },
   "outputs": [],
   "source": [
    "default_settings = {                \n",
    "    \"cap\": tf.constant(80), \n",
    "    \"outside_resist\" : tf.constant(4),\n",
    "    \"wall_resist\" : tf.constant(1.5),\n",
    "    \"cap_air\" : tf.constant(1.006), \n",
    "    \"cost_air\" : tf.constant(1), \n",
    "    \"time_delta\" : tf.constant(1),\n",
    "    \"temp_air\" : tf.constant(40),\n",
    "    \"temp_up\" : tf.constant(23.5),\n",
    "    \"temp_low\" : tf.constant(20.0),\n",
    "    \"temp_outside\" : tf.constant(6),\n",
    "    \"temp_hall\" : tf.constant(10),\n",
    "    \"penalty\" : tf.constant(20000),\n",
    "    \"air_max\" : tf.constant(10)\n",
    "   }"
   ]
  },
  {
   "cell_type": "code",
   "execution_count": null,
   "metadata": {
    "collapsed": true
   },
   "outputs": [],
   "source": [
    "class HVAC(object):\n",
    "    def __init__(self, \n",
    "                 temp, #STATE\n",
    "                 air, #ACTION\n",
    "                 adj_outside, #Adjacent to outside \n",
    "                 adj_hall, #Adjacent to hall\n",
    "                 adj, #Adjacent between rooms\n",
    "                 rooms, #Room names\n",
    "                 default_settings):\n",
    "        self.__dict__.update(default_settings)\n",
    "        self.temp = temp\n",
    "        self.air = air\n",
    "        self.adj_outside = adj_outside\n",
    "        self.adj_hall = adj_hall\n",
    "        self.adj = adj\n",
    "        self.room = room\n",
    "        \n",
    "    def ADJ(self, space1, space2):\n",
    "        for pair in self.adj:\n",
    "            if space1 in pair and space2 in pair:\n",
    "                return True\n",
    "            else:\n",
    "                return False\n",
    "                 \n",
    "    def ADJ_OUTSIDE(self,  space):\n",
    "        if space in self.adj_outside:\n",
    "            return True\n",
    "        else:\n",
    "            return False\n",
    "            \n",
    "    def ADJ_HALL(self, space):\n",
    "        if space in self.adj_hall:\n",
    "            return True\n",
    "        else:\n",
    "            return False  \n",
    "        \n",
    "    def R_OUTSIDE(self, space):\n",
    "        return self.outside_resist\n",
    "    \n",
    "    def R_WALL(self, space1, space2):\n",
    "        return self.wall_resist\n",
    "    \n",
    "    def IS_ROOM(self, space):\n",
    "        if space in self.rooms:\n",
    "            return 1.0\n",
    "        else:\n",
    "            return 0.0\n",
    "        \n",
    "    def CAP(self, space):\n",
    "        return self.cap\n",
    "    \n",
    "    def CAP_AIR(self):\n",
    "        return self.cap_air\n",
    "    \n",
    "    def COST_AIR(self):\n",
    "        return self.cost_air\n",
    "    \n",
    "    def TIME_DELTA(self):\n",
    "        return self.time_delta\n",
    "    \n",
    "    def TEMP_AIR(self):\n",
    "        return self.temp_air\n",
    "    \n",
    "    def TEMP_UP(self, space):\n",
    "        return self.temp_up\n",
    "    \n",
    "    def TEMP_LOW(self, space):\n",
    "        return self.temp_low\n",
    "    \n",
    "    def TEMP_OUTSIDE(self, space):\n",
    "        return self.temp_outside\n",
    "    \n",
    "    def TEMP_HALL(self, space):\n",
    "        return self.temp_hall\n",
    "    \n",
    "    def PENALTY(self):\n",
    "        return self.penalty\n",
    "    \n",
    "    def AIR_MAX(self, space):\n",
    "        return self.air_max\n",
    "    \n",
    "    # Single state function, need map to matrix later\n",
    "    def _transition(self, space, states, actions):\n",
    "        previous_state = states[space]\n",
    "        heating_info = self.TIME_DELTA()/self.CAP(space)*(actions[space]*self.CAP_AIR()*(self.TEMP_AIR()-previous_state)*self.IS_ROOM(space))\n",
    "        neighbor_info = tf.constant(0)\n",
    "        for p in self.rooms:\n",
    "            if self.ADJ(space,p):\n",
    "                neighbor_info += (states[p]-previous_state)/self.R_WALL(space,p)\n",
    "        outside_info = tf.constant(0)\n",
    "        if self.ADJ_OUTSIDE(space):\n",
    "            outside_info=(self.TEMP_OUTSIDE(space)-previous_state)/self.R_OUTSIDE(space)\n",
    "        wall_info = tf.constant(0)\n",
    "        if self.ADJ_WALL(space):\n",
    "            wall_info=(self.TEMP_HALL(space)-previous_state)/self.self.R_HALL(space)\n",
    "            \n",
    "        new_state = previous_state + heating_info + neighbor_info + outside_info + wall_info\n",
    "        return new_state\n",
    "            \n",
    "                "
   ]
  }
 ],
 "metadata": {
  "kernelspec": {
   "display_name": "Python 3",
   "language": "python",
   "name": "python3"
  },
  "language_info": {
   "codemirror_mode": {
    "name": "ipython",
    "version": 3
   },
   "file_extension": ".py",
   "mimetype": "text/x-python",
   "name": "python",
   "nbconvert_exporter": "python",
   "pygments_lexer": "ipython3",
   "version": "3.4.3"
  }
 },
 "nbformat": 4,
 "nbformat_minor": 2
}
