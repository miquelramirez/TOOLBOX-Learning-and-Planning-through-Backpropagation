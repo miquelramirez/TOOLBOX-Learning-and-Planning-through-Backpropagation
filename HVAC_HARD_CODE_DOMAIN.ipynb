{
 "cells": [
  {
   "cell_type": "code",
   "execution_count": 1,
   "metadata": {
    "collapsed": true
   },
   "outputs": [],
   "source": [
    "%matplotlib inline\n",
    "import matplotlib.pyplot as plt\n",
    "import tensorflow as tf\n",
    "import numpy as np\n",
    "from sklearn.metrics import confusion_matrix\n",
    "import time\n",
    "from datetime import timedelta\n",
    "import math\n",
    "import os\n",
    "import pandas as pd\n",
    "#Functional coding\n",
    "import functools\n",
    "from functools import partial"
   ]
  },
  {
   "cell_type": "code",
   "execution_count": 2,
   "metadata": {
    "collapsed": false
   },
   "outputs": [
    {
     "data": {
      "text/plain": [
       "True"
      ]
     },
     "execution_count": 2,
     "metadata": {},
     "output_type": "execute_result"
    }
   ],
   "source": [
    "'a' in ['a','b','c']"
   ]
  },
  {
   "cell_type": "code",
   "execution_count": 3,
   "metadata": {
    "collapsed": true
   },
   "outputs": [],
   "source": [
    "Datapath=\"DATA/HVAC/HVAC_Data.txt\"\n",
    "Labelpath=\"DATA/HVAC/HVAC_Label.txt\"\n",
    "Rewardpath=\"DATA/HVAC/HVAC_Reward.txt\""
   ]
  },
  {
   "cell_type": "code",
   "execution_count": 4,
   "metadata": {
    "collapsed": true
   },
   "outputs": [],
   "source": [
    "#Given local path, find full path\n",
    "def PathFinder(path):\n",
    "    #python 2\n",
    "    #script_dir = os.path.dirname('__file__')\n",
    "    #fullpath = os.path.join(script_dir,path)\n",
    "    #python 3\n",
    "    fullpath=os.path.abspath(path)\n",
    "    print(fullpath)\n",
    "    return fullpath\n",
    "\n",
    "#Read Data for Deep Learning\n",
    "def ReadData(path):\n",
    "    fullpath=PathFinder(path)\n",
    "    return pd.read_csv(fullpath, sep=',', header=0)"
   ]
  },
  {
   "cell_type": "code",
   "execution_count": 5,
   "metadata": {
    "collapsed": false
   },
   "outputs": [
    {
     "name": "stdout",
     "output_type": "stream",
     "text": [
      "/home/wuga/Documents/Notebook/VAE-PLANNING/DATA/HVAC/HVAC_Data.txt\n",
      "/home/wuga/Documents/Notebook/VAE-PLANNING/DATA/HVAC/HVAC_Label.txt\n",
      "/home/wuga/Documents/Notebook/VAE-PLANNING/DATA/HVAC/HVAC_Reward.txt\n"
     ]
    }
   ],
   "source": [
    "S_A_pd = ReadData(Datapath)\n",
    "SP_pd = ReadData(Labelpath)\n",
    "R_pd = ReadData(Rewardpath)\n",
    "S_A_matrix=S_A_pd.as_matrix()\n",
    "SP_matrix=SP_pd.as_matrix()\n",
    "R_matrix=R_pd.as_matrix()"
   ]
  },
  {
   "cell_type": "code",
   "execution_count": 6,
   "metadata": {
    "collapsed": true
   },
   "outputs": [],
   "source": [
    "default_settings = {                \n",
    "    \"cap\": tf.constant(80.0,dtype=tf.float32), \n",
    "    \"outside_resist\" : tf.constant(4.0,dtype=tf.float32),\n",
    "    \"hall_resist\" : tf.constant(2.0,dtype=tf.float32),\n",
    "    \"wall_resist\" : tf.constant(1.5,dtype=tf.float32),\n",
    "    \"cap_air\" : tf.constant(1.006,dtype=tf.float32), \n",
    "    \"cost_air\" : tf.constant(1.0,dtype=tf.float32), \n",
    "    \"time_delta\" : tf.constant(1.0,dtype=tf.float32),\n",
    "    \"temp_air\" : tf.constant(40.0,dtype=tf.float32),\n",
    "    \"temp_up\" : tf.constant(23.5,dtype=tf.float32),\n",
    "    \"temp_low\" : tf.constant(20.0,dtype=tf.float32),\n",
    "    \"temp_outside\" : tf.constant(6.0,dtype=tf.float32),\n",
    "    \"temp_hall\" : tf.constant(10.0,dtype=tf.float32),\n",
    "    \"penalty\" : tf.constant(20000.0,dtype=tf.float32),\n",
    "    \"air_max\" : tf.constant(10.0,dtype=tf.float32)\n",
    "   }"
   ]
  },
  {
   "cell_type": "code",
   "execution_count": 7,
   "metadata": {
    "collapsed": false
   },
   "outputs": [],
   "source": [
    "class HVAC(object):\n",
    "    def __init__(self, \n",
    "                 adj_outside, #Adjacent to outside \n",
    "                 adj_hall, #Adjacent to hall\n",
    "                 adj, #Adjacent between rooms\n",
    "                 rooms, #Room names\n",
    "                 default_settings):\n",
    "        self.__dict__.update(default_settings)\n",
    "        self.adj_outside = adj_outside\n",
    "        self.adj_hall = adj_hall\n",
    "        self.adj = adj\n",
    "        self.rooms = rooms\n",
    "        self.zero = tf.constant(0,dtype=tf.float32)\n",
    "        \n",
    "    def ADJ(self, space1, space2):\n",
    "        for pair in self.adj:\n",
    "            if space1 in pair and space2 in pair:\n",
    "                return True\n",
    "        return False\n",
    "                 \n",
    "    def ADJ_OUTSIDE(self,  space):\n",
    "        if space in self.adj_outside:\n",
    "            return True\n",
    "        else:\n",
    "            return False\n",
    "            \n",
    "    def ADJ_HALL(self, space):\n",
    "        if space in self.adj_hall:\n",
    "            return True\n",
    "        else:\n",
    "            return False  \n",
    "        \n",
    "    def R_OUTSIDE(self, space):\n",
    "        return self.outside_resist\n",
    "    \n",
    "    def R_HALL(self, space):\n",
    "        return self.hall_resist\n",
    "    \n",
    "    def R_WALL(self, space1, space2):\n",
    "        return self.wall_resist\n",
    "        \n",
    "    def CAP(self, space):\n",
    "        return self.cap\n",
    "    \n",
    "    def CAP_AIR(self):\n",
    "        return self.cap_air\n",
    "    \n",
    "    def COST_AIR(self):\n",
    "        return self.cost_air\n",
    "    \n",
    "    def TIME_DELTA(self):\n",
    "        return self.time_delta\n",
    "    \n",
    "    def TEMP_AIR(self):\n",
    "        return self.temp_air\n",
    "    \n",
    "    def TEMP_UP(self, space):\n",
    "        return self.temp_up\n",
    "    \n",
    "    def TEMP_LOW(self, space):\n",
    "        return self.temp_low\n",
    "    \n",
    "    def TEMP_OUTSIDE(self, space):\n",
    "        return self.temp_outside\n",
    "    \n",
    "    def TEMP_HALL(self, space):\n",
    "        return self.temp_hall\n",
    "    \n",
    "    def PENALTY(self):\n",
    "        return self.penalty\n",
    "    \n",
    "    def AIR_MAX(self, space):\n",
    "        return self.air_max\n",
    "    \n",
    "    # Single state function, need map to matrix later\n",
    "    def _transition(self, space, states, actions):\n",
    "        \n",
    "        previous_state = states[space]\n",
    "        heating_info = actions[space]*self.CAP_AIR()*(self.TEMP_AIR()-previous_state)\n",
    "        neighbor_info = self.zero\n",
    "        for p in self.rooms:\n",
    "            if self.ADJ(space,p):\n",
    "                neighbor_info += (states[p]-previous_state)/self.R_WALL(space,p)\n",
    "        outside_info = self.zero\n",
    "        if self.ADJ_OUTSIDE(space):\n",
    "            outside_info=(self.TEMP_OUTSIDE(space)-previous_state)/self.R_OUTSIDE(space)\n",
    "        wall_info = self.zero\n",
    "        if self.ADJ_HALL(space):\n",
    "            wall_info=(self.TEMP_HALL(space)-previous_state)/self.R_HALL(space)\n",
    "            \n",
    "        new_state = previous_state + self.TIME_DELTA()/self.CAP(space)*(heating_info + neighbor_info + outside_info + wall_info)\n",
    "        return new_state\n",
    "    \n",
    "    def _vector_trans(self, state_size, states_packed, actions_packed):\n",
    "        new_states = []\n",
    "        states = tf.unpack(states_packed)\n",
    "        actions = tf.unpack(actions_packed)\n",
    "        for i in range(state_size):\n",
    "            new_states.append(self._transition(i,states,actions))\n",
    "        return tf.pack(new_states)\n",
    "    \n",
    "    def Transition(self, states, actions):\n",
    "        new_states = []\n",
    "        batch_size,state_size = states.get_shape()\n",
    "        states_list = tf.unpack(states)\n",
    "        actions_list = tf.unpack(actions)\n",
    "        for i in range(batch_size):\n",
    "            new_states.append(self._vector_trans(state_size,states_list[i],actions_list[i]))\n",
    "        return tf.pack(new_states)\n",
    "                "
   ]
  },
  {
   "cell_type": "code",
   "execution_count": 8,
   "metadata": {
    "collapsed": false
   },
   "outputs": [],
   "source": [
    "adj_outside = [0,2,3,5]\n",
    "adj_hall = [0,1,2,3,4,5]\n",
    "adj = [[0,1],[0,3],[1,2],[1,4],[2,5],[3,4],[4,5]]\n",
    "rooms = [0,1,2,3,4,5]"
   ]
  },
  {
   "cell_type": "code",
   "execution_count": 9,
   "metadata": {
    "collapsed": true
   },
   "outputs": [],
   "source": [
    "# States\n",
    "states = tf.placeholder(tf.float32,[10, 6],name=\"States\")\n",
    "\n",
    "# Actions\n",
    "actions = tf.placeholder(tf.float32,[10, 6],name=\"Actions\")"
   ]
  },
  {
   "cell_type": "code",
   "execution_count": 10,
   "metadata": {
    "collapsed": false
   },
   "outputs": [],
   "source": [
    "hvac_inst = HVAC(adj_outside,adj_hall,adj,rooms,default_settings)"
   ]
  },
  {
   "cell_type": "code",
   "execution_count": 11,
   "metadata": {
    "collapsed": false
   },
   "outputs": [
    {
     "name": "stdout",
     "output_type": "stream",
     "text": [
      "[13.76]\n",
      "[array([ 13.76000023,  13.77250004,  13.76000023,  13.76000023,\n",
      "        13.77250004,  13.76000023], dtype=float32)]\n",
      "[array([ 13.76000023,  13.77250004,  13.76000023,  13.76000023,\n",
      "        13.77250004,  13.76000023], dtype=float32)]\n"
     ]
    }
   ],
   "source": [
    "states_list=tf.unpack(states)\n",
    "actions_list = tf.unpack(actions)\n",
    "sess = tf.InteractiveSession()\n",
    "sess.run(tf.global_variables_initializer())\n",
    "feed_dict={states:S_A_matrix[:10,6:], actions:S_A_matrix[:10,:6]}\n",
    "new_state = hvac_inst._transition(0,states_list[0],actions_list[0])\n",
    "print(sess.run([new_state], feed_dict=feed_dict))\n",
    "print(sess.run([states_list[1]], feed_dict=feed_dict))\n",
    "print(sess.run([states_list[1]], feed_dict=feed_dict))\n"
   ]
  },
  {
   "cell_type": "code",
   "execution_count": 12,
   "metadata": {
    "collapsed": false
   },
   "outputs": [
    {
     "data": {
      "text/plain": [
       "True"
      ]
     },
     "execution_count": 12,
     "metadata": {},
     "output_type": "execute_result"
    }
   ],
   "source": [
    "hvac_inst.ADJ(4,5)"
   ]
  },
  {
   "cell_type": "code",
   "execution_count": 13,
   "metadata": {
    "collapsed": false
   },
   "outputs": [],
   "source": [
    "new_states=hvac_inst.Transition(states,actions)"
   ]
  },
  {
   "cell_type": "code",
   "execution_count": 14,
   "metadata": {
    "collapsed": false
   },
   "outputs": [
    {
     "data": {
      "text/plain": [
       "TensorShape([Dimension(10), Dimension(6)])"
      ]
     },
     "execution_count": 14,
     "metadata": {},
     "output_type": "execute_result"
    }
   ],
   "source": [
    "states.get_shape()"
   ]
  },
  {
   "cell_type": "code",
   "execution_count": 15,
   "metadata": {
    "collapsed": false
   },
   "outputs": [
    {
     "data": {
      "text/plain": [
       "array([[ 13.76000023,  13.77250004,  13.76000023,  13.76000023,\n",
       "         13.77250004,  13.76000023],\n",
       "       [ 17.01203346,  17.04682159,  17.01203346,  17.01203346,\n",
       "         17.04682159,  17.01203346],\n",
       "       [ 19.82482338,  19.88856125,  19.82482338,  19.82482338,\n",
       "         19.88856125,  19.82482338],\n",
       "       [ 22.25777435,  22.35470963,  22.25777435,  22.25777435,\n",
       "         22.35470963,  22.25777435],\n",
       "       [ 23.728508  ,  23.39896965,  22.84729958,  22.92673302,\n",
       "         22.76039124,  23.42865753],\n",
       "       [ 23.57787704,  23.31531715,  23.8857708 ,  24.33020782,\n",
       "         23.5410347 ,  24.69763947],\n",
       "       [ 23.44216537,  25.29025269,  23.74510384,  24.17051697,\n",
       "         23.47073746,  24.53094673],\n",
       "       [ 24.57853508,  25.15124893,  23.62316895,  24.01326752,\n",
       "         24.09562111,  24.36683464],\n",
       "       [ 24.42942429,  25.03025055,  23.50188255,  23.87479019,\n",
       "         24.01789474,  24.21118736],\n",
       "       [ 24.28203201,  24.91013145,  23.38145065,  23.73802757,\n",
       "         23.93913651,  24.05793762]], dtype=float32)"
      ]
     },
     "execution_count": 15,
     "metadata": {},
     "output_type": "execute_result"
    }
   ],
   "source": [
    "sess = tf.InteractiveSession()\n",
    "sess.run(tf.global_variables_initializer())\n",
    "feed_dict={states:S_A_matrix[:10,6:], actions:S_A_matrix[:10,:6]}\n",
    "sess.run(new_states,feed_dict=feed_dict )"
   ]
  },
  {
   "cell_type": "code",
   "execution_count": 16,
   "metadata": {
    "collapsed": false
   },
   "outputs": [
    {
     "name": "stdout",
     "output_type": "stream",
     "text": [
      "[[ 10.  10.  10.  10.  10.  10.]\n",
      " [ 10.  10.  10.  10.  10.  10.]\n",
      " [ 10.  10.  10.  10.  10.  10.]]\n"
     ]
    }
   ],
   "source": [
    "print(S_A_matrix[:3,:6])"
   ]
  },
  {
   "cell_type": "code",
   "execution_count": 17,
   "metadata": {
    "collapsed": false
   },
   "outputs": [
    {
     "name": "stdout",
     "output_type": "stream",
     "text": [
      "[[ 10.          10.          10.          10.          10.          10.        ]\n",
      " [ 13.76        13.7725      13.76        13.76        13.7725      13.76      ]\n",
      " [ 17.01203417  17.04682167  17.01203417  17.01203417  17.04682167\n",
      "   17.01203417]]\n"
     ]
    }
   ],
   "source": [
    "print(S_A_matrix[:3,6:])"
   ]
  },
  {
   "cell_type": "code",
   "execution_count": null,
   "metadata": {
    "collapsed": true
   },
   "outputs": [],
   "source": []
  }
 ],
 "metadata": {
  "kernelspec": {
   "display_name": "Python 3",
   "language": "python",
   "name": "python3"
  },
  "language_info": {
   "codemirror_mode": {
    "name": "ipython",
    "version": 3
   },
   "file_extension": ".py",
   "mimetype": "text/x-python",
   "name": "python",
   "nbconvert_exporter": "python",
   "pygments_lexer": "ipython3",
   "version": "3.4.3"
  }
 },
 "nbformat": 4,
 "nbformat_minor": 2
}
