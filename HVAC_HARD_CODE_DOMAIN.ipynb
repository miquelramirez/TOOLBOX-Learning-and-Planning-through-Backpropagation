{
 "cells": [
  {
   "cell_type": "code",
   "execution_count": 1,
   "metadata": {
    "collapsed": true
   },
   "outputs": [],
   "source": [
    "%matplotlib inline\n",
    "import matplotlib.pyplot as plt\n",
    "import tensorflow as tf\n",
    "import numpy as np\n",
    "from sklearn.metrics import confusion_matrix\n",
    "import time\n",
    "from datetime import timedelta\n",
    "import math\n",
    "import os\n",
    "import pandas as pd\n",
    "#Functional coding\n",
    "import functools\n",
    "from functools import partial\n",
    "from tensorflow.python.ops import array_ops "
   ]
  },
  {
   "cell_type": "code",
   "execution_count": 2,
   "metadata": {
    "collapsed": false
   },
   "outputs": [
    {
     "data": {
      "text/plain": [
       "True"
      ]
     },
     "execution_count": 2,
     "metadata": {},
     "output_type": "execute_result"
    }
   ],
   "source": [
    "'a' in ['a','b','c']"
   ]
  },
  {
   "cell_type": "code",
   "execution_count": 3,
   "metadata": {
    "collapsed": true
   },
   "outputs": [],
   "source": [
    "Datapath=\"DATA/HVAC/HVAC_Data.txt\"\n",
    "Labelpath=\"DATA/HVAC/HVAC_Label.txt\"\n",
    "Rewardpath=\"DATA/HVAC/HVAC_Reward.txt\""
   ]
  },
  {
   "cell_type": "code",
   "execution_count": 4,
   "metadata": {
    "collapsed": true
   },
   "outputs": [],
   "source": [
    "#Given local path, find full path\n",
    "def PathFinder(path):\n",
    "    #python 2\n",
    "    #script_dir = os.path.dirname('__file__')\n",
    "    #fullpath = os.path.join(script_dir,path)\n",
    "    #python 3\n",
    "    fullpath=os.path.abspath(path)\n",
    "    print(fullpath)\n",
    "    return fullpath\n",
    "\n",
    "#Read Data for Deep Learning\n",
    "def ReadData(path):\n",
    "    fullpath=PathFinder(path)\n",
    "    return pd.read_csv(fullpath, sep=',', header=0)"
   ]
  },
  {
   "cell_type": "code",
   "execution_count": 5,
   "metadata": {
    "collapsed": false
   },
   "outputs": [
    {
     "name": "stdout",
     "output_type": "stream",
     "text": [
      "/home/wuga/Documents/Notebook/VAE-PLANNING/DATA/HVAC/HVAC_Data.txt\n",
      "/home/wuga/Documents/Notebook/VAE-PLANNING/DATA/HVAC/HVAC_Label.txt\n",
      "/home/wuga/Documents/Notebook/VAE-PLANNING/DATA/HVAC/HVAC_Reward.txt\n"
     ]
    }
   ],
   "source": [
    "S_A_pd = ReadData(Datapath)\n",
    "SP_pd = ReadData(Labelpath)\n",
    "R_pd = ReadData(Rewardpath)\n",
    "S_A_matrix=S_A_pd.as_matrix()\n",
    "SP_matrix=SP_pd.as_matrix()\n",
    "R_matrix=R_pd.as_matrix()"
   ]
  },
  {
   "cell_type": "code",
   "execution_count": 6,
   "metadata": {
    "collapsed": true
   },
   "outputs": [],
   "source": [
    "default_settings = {                \n",
    "    \"cap\": tf.constant(80.0,dtype=tf.float32), \n",
    "    \"outside_resist\" : tf.constant(4.0,dtype=tf.float32),\n",
    "    \"hall_resist\" : tf.constant(2.0,dtype=tf.float32),\n",
    "    \"wall_resist\" : tf.constant(1.5,dtype=tf.float32),\n",
    "    \"cap_air\" : tf.constant(1.006,dtype=tf.float32), \n",
    "    \"cost_air\" : tf.constant(1.0,dtype=tf.float32), \n",
    "    \"time_delta\" : tf.constant(1.0,dtype=tf.float32),\n",
    "    \"temp_air\" : tf.constant(40.0,dtype=tf.float32),\n",
    "    \"temp_up\" : tf.constant(23.5,dtype=tf.float32),\n",
    "    \"temp_low\" : tf.constant(20.0,dtype=tf.float32),\n",
    "    \"temp_outside\" : tf.constant(6.0,dtype=tf.float32),\n",
    "    \"temp_hall\" : tf.constant(10.0,dtype=tf.float32),\n",
    "    \"penalty\" : tf.constant(20000.0,dtype=tf.float32),\n",
    "    \"air_max\" : tf.constant(10.0,dtype=tf.float32)\n",
    "   }"
   ]
  },
  {
   "cell_type": "code",
   "execution_count": 7,
   "metadata": {
    "collapsed": false
   },
   "outputs": [],
   "source": [
    "class HVAC(object):\n",
    "    def __init__(self, \n",
    "                 adj_outside, #Adjacent to outside \n",
    "                 adj_hall, #Adjacent to hall\n",
    "                 adj, #Adjacent between rooms\n",
    "                 rooms, #Room names\n",
    "                 default_settings):\n",
    "        self.__dict__.update(default_settings)\n",
    "        self.adj_outside = adj_outside\n",
    "        self.adj_hall = adj_hall\n",
    "        self.adj = adj\n",
    "        self.rooms = rooms\n",
    "        self.zero = tf.constant(0,dtype=tf.float32)\n",
    "        \n",
    "    def ADJ(self, space1, space2):\n",
    "        for pair in self.adj:\n",
    "            if space1 in pair and space2 in pair:\n",
    "                return True\n",
    "        return False\n",
    "                 \n",
    "    def ADJ_OUTSIDE(self,  space):\n",
    "        if space in self.adj_outside:\n",
    "            return True\n",
    "        else:\n",
    "            return False\n",
    "            \n",
    "    def ADJ_HALL(self, space):\n",
    "        if space in self.adj_hall:\n",
    "            return True\n",
    "        else:\n",
    "            return False  \n",
    "        \n",
    "    def R_OUTSIDE(self, space):\n",
    "        return self.outside_resist\n",
    "    \n",
    "    def R_HALL(self, space):\n",
    "        return self.hall_resist\n",
    "    \n",
    "    def R_WALL(self, space1, space2):\n",
    "        return self.wall_resist\n",
    "        \n",
    "    def CAP(self, space):\n",
    "        return self.cap\n",
    "    \n",
    "    def CAP_AIR(self):\n",
    "        return self.cap_air\n",
    "    \n",
    "    def COST_AIR(self):\n",
    "        return self.cost_air\n",
    "    \n",
    "    def TIME_DELTA(self):\n",
    "        return self.time_delta\n",
    "    \n",
    "    def TEMP_AIR(self):\n",
    "        return self.temp_air\n",
    "    \n",
    "    def TEMP_UP(self, space):\n",
    "        return self.temp_up\n",
    "    \n",
    "    def TEMP_LOW(self, space):\n",
    "        return self.temp_low\n",
    "    \n",
    "    def TEMP_OUTSIDE(self, space):\n",
    "        return self.temp_outside\n",
    "    \n",
    "    def TEMP_HALL(self, space):\n",
    "        return self.temp_hall\n",
    "    \n",
    "    def PENALTY(self):\n",
    "        return self.penalty\n",
    "    \n",
    "    def AIR_MAX(self, space):\n",
    "        return self.air_max\n",
    "    \n",
    "    # Single state function, need map to matrix later\n",
    "    def _transition(self, space, states, actions):\n",
    "        \n",
    "        previous_state = states[space]\n",
    "        heating_info = actions[space]*self.CAP_AIR()*(self.TEMP_AIR()-previous_state)\n",
    "        neighbor_info = self.zero\n",
    "        for p in self.rooms:\n",
    "            if self.ADJ(space,p):\n",
    "                neighbor_info += (states[p]-previous_state)/self.R_WALL(space,p)\n",
    "        outside_info = self.zero\n",
    "        if self.ADJ_OUTSIDE(space):\n",
    "            outside_info=(self.TEMP_OUTSIDE(space)-previous_state)/self.R_OUTSIDE(space)\n",
    "        wall_info = self.zero\n",
    "        if self.ADJ_HALL(space):\n",
    "            wall_info=(self.TEMP_HALL(space)-previous_state)/self.R_HALL(space)\n",
    "            \n",
    "        new_state = previous_state + self.TIME_DELTA()/self.CAP(space)*(heating_info + neighbor_info + outside_info + wall_info)\n",
    "        return new_state\n",
    "    \n",
    "    # For single data point\n",
    "    def _vector_trans(self, state_size, states_packed, actions_packed):\n",
    "        new_states = []\n",
    "        states = tf.unpack(states_packed)\n",
    "        actions = tf.unpack(actions_packed)\n",
    "        for i in range(state_size):\n",
    "            new_states.append(self._transition(i,states,actions))\n",
    "        return tf.pack(new_states)\n",
    "    \n",
    "    def Transition(self, states, actions):\n",
    "        new_states = []\n",
    "        batch_size,state_size = states.get_shape()\n",
    "        states_list = tf.unpack(states)\n",
    "        actions_list = tf.unpack(actions)\n",
    "        for i in range(batch_size):\n",
    "            new_states.append(self._vector_trans(state_size,states_list[i],actions_list[i]))\n",
    "        return tf.pack(new_states)\n",
    "    \n",
    "    # For single data point\n",
    "    def _reward(self, state_size, states_packed, actions_packed):\n",
    "        reward = self.zero\n",
    "        states = tf.unpack(states_packed)\n",
    "        actions = tf.unpack(actions_packed)\n",
    "        \n",
    "        #For each room\n",
    "        for i in range(state_size):\n",
    "            \n",
    "            #Penalty for breaking upper or lower bound constraints\n",
    "            break_penalty = tf.cond(tf.logical_or(states[i] <self.TEMP_LOW(i), states[i] > self.TEMP_UP(i)), lambda: self.PENALTY(), lambda: self.zero)\n",
    "                \n",
    "            #Penalty for distance to centre(no bug)\n",
    "            dist_penalty = tf.abs(((self.TEMP_UP(i)+self.TEMP_LOW(i))/tf.constant(2.0, dtype=tf.float32))-states[i])\n",
    "            \n",
    "            #Penalty for energy cost\n",
    "            ener_penalty = actions[i]*self.COST_AIR()\n",
    "            \n",
    "            #break_penalty+tf.constant(10.0, tf.float32)*dist_penalty\n",
    "            reward -= (break_penalty+tf.constant(10.0, tf.float32)*dist_penalty+ener_penalty)\n",
    "            \n",
    "        return tf.pack([reward])\n",
    "            \n",
    "    def Reward(self, states,actions):\n",
    "        new_rewards = []\n",
    "        batch_size,state_size = states.get_shape()\n",
    "        states_list = tf.unpack(states)\n",
    "        actions_list = tf.unpack(actions)\n",
    "        for i in range(batch_size):\n",
    "            new_rewards.append(self._reward(state_size,states_list[i],actions_list[i]))\n",
    "        return tf.pack(new_rewards)\n",
    "            \n",
    "    \n",
    "                "
   ]
  },
  {
   "cell_type": "code",
   "execution_count": 8,
   "metadata": {
    "collapsed": false
   },
   "outputs": [],
   "source": [
    "adj_outside = [0,2,3,5]\n",
    "adj_hall = [0,1,2,3,4,5]\n",
    "adj = [[0,1],[0,3],[1,2],[1,4],[2,5],[3,4],[4,5]]\n",
    "rooms = [0,1,2,3,4,5]"
   ]
  },
  {
   "cell_type": "code",
   "execution_count": 9,
   "metadata": {
    "collapsed": true
   },
   "outputs": [],
   "source": [
    "# States\n",
    "states = tf.placeholder(tf.float32,[10, 6],name=\"States\")\n",
    "\n",
    "# Actions\n",
    "actions = tf.placeholder(tf.float32,[10, 6],name=\"Actions\")"
   ]
  },
  {
   "cell_type": "code",
   "execution_count": 10,
   "metadata": {
    "collapsed": false
   },
   "outputs": [],
   "source": [
    "hvac_inst = HVAC(adj_outside,adj_hall,adj,rooms,default_settings)"
   ]
  },
  {
   "cell_type": "code",
   "execution_count": 11,
   "metadata": {
    "collapsed": false
   },
   "outputs": [
    {
     "name": "stdout",
     "output_type": "stream",
     "text": [
      "[13.76]\n",
      "[array([ 13.76000023,  13.77250004,  13.76000023,  13.76000023,\n",
      "        13.77250004,  13.76000023], dtype=float32)]\n",
      "[array([ 13.76000023,  13.77250004,  13.76000023,  13.76000023,\n",
      "        13.77250004,  13.76000023], dtype=float32)]\n"
     ]
    }
   ],
   "source": [
    "states_list=tf.unpack(states)\n",
    "actions_list = tf.unpack(actions)\n",
    "sess = tf.InteractiveSession()\n",
    "sess.run(tf.global_variables_initializer())\n",
    "feed_dict={states:S_A_matrix[:10,6:], actions:S_A_matrix[:10,:6]}\n",
    "new_state = hvac_inst._transition(0,states_list[0],actions_list[0])\n",
    "print(sess.run([new_state], feed_dict=feed_dict))\n",
    "print(sess.run([states_list[1]], feed_dict=feed_dict))\n",
    "print(sess.run([states_list[1]], feed_dict=feed_dict))\n"
   ]
  },
  {
   "cell_type": "code",
   "execution_count": 12,
   "metadata": {
    "collapsed": false
   },
   "outputs": [
    {
     "data": {
      "text/plain": [
       "True"
      ]
     },
     "execution_count": 12,
     "metadata": {},
     "output_type": "execute_result"
    }
   ],
   "source": [
    "hvac_inst.ADJ(4,5)"
   ]
  },
  {
   "cell_type": "code",
   "execution_count": 13,
   "metadata": {
    "collapsed": false
   },
   "outputs": [],
   "source": [
    "new_states=hvac_inst.Transition(states,actions)"
   ]
  },
  {
   "cell_type": "code",
   "execution_count": 14,
   "metadata": {
    "collapsed": false
   },
   "outputs": [
    {
     "data": {
      "text/plain": [
       "TensorShape([Dimension(10), Dimension(6)])"
      ]
     },
     "execution_count": 14,
     "metadata": {},
     "output_type": "execute_result"
    }
   ],
   "source": [
    "states.get_shape()"
   ]
  },
  {
   "cell_type": "code",
   "execution_count": 15,
   "metadata": {
    "collapsed": false
   },
   "outputs": [],
   "source": [
    "feed_dict={states:S_A_matrix[:10,6:], actions:S_A_matrix[:10,:6]}\n",
    "state_prim = sess.run(new_states,feed_dict=feed_dict )"
   ]
  },
  {
   "cell_type": "code",
   "execution_count": 16,
   "metadata": {
    "collapsed": false
   },
   "outputs": [
    {
     "name": "stdout",
     "output_type": "stream",
     "text": [
      "[[ 10.  10.  10.  10.  10.  10.]\n",
      " [ 10.  10.  10.  10.  10.  10.]\n",
      " [ 10.  10.  10.  10.  10.  10.]]\n"
     ]
    }
   ],
   "source": [
    "print(S_A_matrix[:3,:6])"
   ]
  },
  {
   "cell_type": "code",
   "execution_count": 17,
   "metadata": {
    "collapsed": false
   },
   "outputs": [
    {
     "name": "stdout",
     "output_type": "stream",
     "text": [
      "[[ 10.          10.          10.          10.          10.          10.        ]\n",
      " [ 13.76        13.7725      13.76        13.76        13.7725      13.76      ]\n",
      " [ 17.01203417  17.04682167  17.01203417  17.01203417  17.04682167\n",
      "   17.01203417]]\n"
     ]
    }
   ],
   "source": [
    "print(S_A_matrix[:3,6:])"
   ]
  },
  {
   "cell_type": "code",
   "execution_count": 18,
   "metadata": {
    "collapsed": false
   },
   "outputs": [],
   "source": [
    "new_rewards = hvac_inst.Reward(states,actions)"
   ]
  },
  {
   "cell_type": "code",
   "execution_count": 19,
   "metadata": {
    "collapsed": false
   },
   "outputs": [
    {
     "data": {
      "text/plain": [
       "array([[ -1.20539148e+05],\n",
       "       [ -1.20343578e+05],\n",
       "       [ -1.20174234e+05],\n",
       "       [ -9.24051666e+01],\n",
       "       [ -4.01391562e+04],\n",
       "       [ -1.20200234e+05],\n",
       "       [ -1.20159375e+05],\n",
       "       [ -1.20151656e+05],\n",
       "       [ -1.20144008e+05],\n",
       "       [ -1.20705000e+05]], dtype=float32)"
      ]
     },
     "execution_count": 19,
     "metadata": {},
     "output_type": "execute_result"
    }
   ],
   "source": [
    "# Use transferred State..\n",
    "feed_dict={states:S_A_matrix[1:11,6:], actions:S_A_matrix[:10,:6]}\n",
    "sess.run(new_rewards,feed_dict=feed_dict )"
   ]
  },
  {
   "cell_type": "code",
   "execution_count": 20,
   "metadata": {
    "collapsed": true
   },
   "outputs": [],
   "source": [
    "class HVACCell(tf.nn.rnn_cell.RNNCell):\n",
    "\n",
    "    def __init__(self, adj_outside,adj_hall,adj,rooms,default_settings):\n",
    "        self._num_state_units = len(rooms)\n",
    "        self._num_reward_units = 1\n",
    "        self.hvac = HVAC(adj_outside,adj_hall,adj,rooms,default_settings)\n",
    "\n",
    "    @property\n",
    "    def state_size(self):\n",
    "        return self._num_state_units\n",
    "\n",
    "    @property\n",
    "    def output_size(self):\n",
    "        return self._num_reward_units\n",
    "\n",
    "    def __call__(self, inputs, state, scope=None):\n",
    "        next_state =  self.hvac.Transition(state, inputs)\n",
    "        reward = self.hvac.Reward(next_state, inputs)      \n",
    "        return reward, next_state\n",
    "    "
   ]
  },
  {
   "cell_type": "code",
   "execution_count": 21,
   "metadata": {
    "collapsed": true
   },
   "outputs": [],
   "source": [
    "hvac_inst_cell = HVACCell(adj_outside,adj_hall,adj,rooms,default_settings)"
   ]
  },
  {
   "cell_type": "code",
   "execution_count": 22,
   "metadata": {
    "collapsed": false
   },
   "outputs": [
    {
     "data": {
      "text/plain": [
       "(<tf.Tensor 'pack_28:0' shape=(2, 1) dtype=float32>,\n",
       " <tf.Tensor 'pack_25:0' shape=(2, 6) dtype=float32>)"
      ]
     },
     "execution_count": 22,
     "metadata": {},
     "output_type": "execute_result"
    }
   ],
   "source": [
    "a = tf.Variable(tf.constant(0.0, dtype=tf.float32,shape=[2,6]),name=\"action\")\n",
    "initial_state = hvac_inst_cell.zero_state(2, dtype=tf.float32)+tf.constant([[10,10,10,10,10,10]],dtype=tf.float32)\n",
    "hvac_inst_cell(a,initial_state )\n",
    "#print(initial_state.get_shape())"
   ]
  },
  {
   "cell_type": "code",
   "execution_count": 23,
   "metadata": {
    "collapsed": true
   },
   "outputs": [],
   "source": [
    "class ActionOptimizer(object):\n",
    "    def __init__(self,\n",
    "                a, # Actions\n",
    "                num_step, # Number of RNN step, this is a fixed step RNN sequence, 12 for navigation\n",
    "                learning_rate=0.1): \n",
    "        self.action = tf.reshape(a,[-1,num_step,6]) #Reshape rewards\n",
    "        print(self.action)\n",
    "        self.num_step = num_step\n",
    "        self.learning_rate = learning_rate\n",
    "        self._p_create_rnn_graph()\n",
    "        self._p_create_loss()\n",
    "        self.sess = tf.InteractiveSession()\n",
    "        self.sess.run(tf.global_variables_initializer())\n",
    "    \n",
    "    def _p_create_rnn_graph(self):\n",
    "        cell = HVACCell(adj_outside,adj_hall,adj,rooms,default_settings)\n",
    "        initial_state = cell.zero_state(1, dtype=tf.float32)+tf.constant([[10,10,10,10,10,10]],dtype=tf.float32)\n",
    "        print('action batch size:{0}'.format(array_ops.shape(self.action)[0]))\n",
    "        print('Initial_state shape:{0}'.format(initial_state))\n",
    "        rnn_outputs, state = tf.nn.dynamic_rnn(cell, self.action, dtype=tf.float32,initial_state=initial_state)\n",
    "        self.outputs = rnn_outputs\n",
    "        self.last_state = state\n",
    "        self.pred = tf.reduce_sum(self.outputs,1)\n",
    "        print(\"self.pred:{0}\".format(self.pred))\n",
    "            \n",
    "    def _p_create_loss(self):\n",
    "\n",
    "        objective = tf.reduce_mean(self.pred) \n",
    "        self.loss = -objective\n",
    "        print(self.loss.get_shape())\n",
    "        #self.loss = -objective\n",
    "        self.optimizer = tf.train.RMSPropOptimizer(self.learning_rate).minimize(self.loss, var_list=[a])\n",
    "        \n",
    "    def Optimize(self,epoch=100):\n",
    "        \n",
    "        new_loss = self.sess.run([self.loss])\n",
    "        print('Loss in epoch {0}: {1}'.format(\"Initial\", new_loss)) \n",
    "        for epoch in range(epoch):\n",
    "            training = self.sess.run([self.optimizer])\n",
    "            self.sess.run(tf.assign(a, tf.clip_by_value(a, 0, 10)))\n",
    "            if True:\n",
    "                new_loss = self.sess.run([self.loss])\n",
    "                print('Loss in epoch {0}: {1}'.format(epoch, new_loss))  \n",
    "        minimum_costs_id=self.sess.run(tf.argmax(self.pred,0))\n",
    "        print(minimum_costs_id)\n",
    "        print('Optimal Action Squence:{0}'.format(self.sess.run(self.action)[minimum_costs_id[0]]))\n",
    "        print('The last state:{0}'.format(self.sess.run(self.last_state)))\n",
    "        print('Rewards each time step:{0}'.format(self.sess.run(self.outputs)))"
   ]
  },
  {
   "cell_type": "code",
   "execution_count": 24,
   "metadata": {
    "collapsed": false
   },
   "outputs": [
    {
     "name": "stdout",
     "output_type": "stream",
     "text": [
      "Tensor(\"Reshape:0\", shape=(1, 10, 6), dtype=float32)\n",
      "action batch size:Tensor(\"strided_slice_5:0\", shape=(), dtype=int32)\n",
      "Initial_state shape:Tensor(\"add_752:0\", shape=(1, 6), dtype=float32)\n",
      "self.pred:Tensor(\"Sum:0\", shape=(1, 1), dtype=float32)\n",
      "()\n"
     ]
    }
   ],
   "source": [
    "a = tf.Variable(tf.constant(0.0, dtype=tf.float32,shape=[60]),name=\"action\")\n",
    "rnn_inst = ActionOptimizer(a, 10)  "
   ]
  },
  {
   "cell_type": "code",
   "execution_count": 25,
   "metadata": {
    "collapsed": false
   },
   "outputs": [
    {
     "name": "stdout",
     "output_type": "stream",
     "text": [
      "Loss in epoch Initial: [1207076.8]\n",
      "Loss in epoch 0: [1206721.9]\n",
      "Loss in epoch 1: [1206470.8]\n",
      "Loss in epoch 2: [1206264.6]\n",
      "Loss in epoch 3: [1206084.9]\n",
      "Loss in epoch 4: [1205922.8]\n",
      "Loss in epoch 5: [1205773.2]\n",
      "Loss in epoch 6: [1205633.5]\n",
      "Loss in epoch 7: [1205501.5]\n",
      "Loss in epoch 8: [1205375.8]\n",
      "Loss in epoch 9: [1205255.1]\n",
      "Loss in epoch 10: [1205138.9]\n",
      "Loss in epoch 11: [1205026.5]\n",
      "Loss in epoch 12: [1204917.4]\n",
      "Loss in epoch 13: [1204811.1]\n",
      "Loss in epoch 14: [1204707.5]\n",
      "Loss in epoch 15: [1204606.2]\n",
      "Loss in epoch 16: [1204507.0]\n",
      "Loss in epoch 17: [1204409.5]\n",
      "Loss in epoch 18: [1204313.9]\n",
      "Loss in epoch 19: [1204219.9]\n",
      "Loss in epoch 20: [1204127.2]\n",
      "Loss in epoch 21: [1204036.1]\n",
      "Loss in epoch 22: [1203946.1]\n",
      "Loss in epoch 23: [1203857.4]\n",
      "Loss in epoch 24: [1203769.8]\n",
      "Loss in epoch 25: [1163683.2]\n",
      "Loss in epoch 26: [1083597.6]\n",
      "Loss in epoch 27: [1083513.0]\n",
      "Loss in epoch 28: [1083429.4]\n",
      "Loss in epoch 29: [963346.69]\n",
      "Loss in epoch 30: [963264.69]\n",
      "Loss in epoch 31: [963183.62]\n",
      "Loss in epoch 32: [963103.25]\n",
      "Loss in epoch 33: [923027.0]\n",
      "Loss in epoch 34: [842963.81]\n",
      "Loss in epoch 35: [842917.12]\n",
      "Loss in epoch 36: [842870.25]\n",
      "Loss in epoch 37: [842823.12]\n",
      "Loss in epoch 38: [842775.69]\n",
      "Loss in epoch 39: [842728.69]\n",
      "Loss in epoch 40: [802686.44]\n",
      "Loss in epoch 41: [722652.75]\n",
      "Loss in epoch 42: [722620.62]\n",
      "Loss in epoch 43: [722588.44]\n",
      "Loss in epoch 44: [722556.19]\n",
      "Loss in epoch 45: [722523.5]\n",
      "Loss in epoch 46: [722490.62]\n",
      "Loss in epoch 47: [722457.56]\n",
      "Loss in epoch 48: [722424.19]\n",
      "Loss in epoch 49: [722390.44]\n",
      "Loss in epoch 50: [722356.5]\n",
      "Loss in epoch 51: [682322.31]\n",
      "Loss in epoch 52: [602292.19]\n",
      "Loss in epoch 53: [602263.25]\n",
      "Loss in epoch 54: [602234.88]\n",
      "Loss in epoch 55: [602206.31]\n",
      "Loss in epoch 56: [602176.94]\n",
      "Loss in epoch 57: [602149.56]\n",
      "Loss in epoch 58: [602120.44]\n",
      "Loss in epoch 59: [602091.44]\n",
      "Loss in epoch 60: [602062.81]\n",
      "Loss in epoch 61: [602033.56]\n",
      "Loss in epoch 62: [602005.06]\n",
      "Loss in epoch 63: [601976.5]\n",
      "Loss in epoch 64: [601947.06]\n",
      "Loss in epoch 65: [601917.94]\n",
      "Loss in epoch 66: [601889.25]\n",
      "Loss in epoch 67: [561862.88]\n",
      "Loss in epoch 68: [481837.78]\n",
      "Loss in epoch 69: [481809.53]\n",
      "Loss in epoch 70: [481781.78]\n",
      "Loss in epoch 71: [481756.59]\n",
      "Loss in epoch 72: [481741.88]\n",
      "Loss in epoch 73: [481712.31]\n",
      "Loss in epoch 74: [481697.84]\n",
      "Loss in epoch 75: [481670.09]\n",
      "Loss in epoch 76: [481650.41]\n",
      "Loss in epoch 77: [481630.5]\n",
      "Loss in epoch 78: [481610.56]\n",
      "Loss in epoch 79: [481593.81]\n",
      "Loss in epoch 80: [481575.28]\n",
      "Loss in epoch 81: [481550.62]\n",
      "Loss in epoch 82: [481532.06]\n",
      "Loss in epoch 83: [481522.41]\n",
      "Loss in epoch 84: [481502.78]\n",
      "Loss in epoch 85: [441496.03]\n",
      "Loss in epoch 86: [361477.59]\n",
      "Loss in epoch 87: [361462.22]\n",
      "Loss in epoch 88: [361454.34]\n",
      "Loss in epoch 89: [361434.38]\n",
      "Loss in epoch 90: [361419.53]\n",
      "Loss in epoch 91: [361407.91]\n",
      "Loss in epoch 92: [361400.0]\n",
      "Loss in epoch 93: [361387.31]\n",
      "Loss in epoch 94: [361387.31]\n",
      "Loss in epoch 95: [361371.16]\n",
      "Loss in epoch 96: [361348.56]\n",
      "Loss in epoch 97: [361335.53]\n",
      "Loss in epoch 98: [361330.0]\n",
      "Loss in epoch 99: [361312.56]\n",
      "Loss in epoch 100: [361299.69]\n",
      "Loss in epoch 101: [361291.78]\n",
      "Loss in epoch 102: [361293.19]\n",
      "Loss in epoch 103: [361273.47]\n",
      "Loss in epoch 104: [361281.44]\n",
      "Loss in epoch 105: [361260.06]\n",
      "Loss in epoch 106: [361256.97]\n",
      "Loss in epoch 107: [361249.28]\n",
      "Loss in epoch 108: [361254.16]\n",
      "Loss in epoch 109: [361244.91]\n",
      "Loss in epoch 110: [361240.44]\n",
      "Loss in epoch 111: [361232.38]\n",
      "Loss in epoch 112: [361226.38]\n",
      "Loss in epoch 113: [361228.47]\n",
      "Loss in epoch 114: [361241.12]\n",
      "Loss in epoch 115: [361222.84]\n",
      "Loss in epoch 116: [361235.91]\n",
      "Loss in epoch 117: [361211.78]\n",
      "Loss in epoch 118: [361206.25]\n",
      "Loss in epoch 119: [361206.81]\n",
      "Loss in epoch 120: [361232.31]\n",
      "Loss in epoch 121: [361207.16]\n",
      "Loss in epoch 122: [361231.22]\n",
      "Loss in epoch 123: [361199.88]\n",
      "Loss in epoch 124: [361200.69]\n",
      "Loss in epoch 125: [361216.53]\n",
      "Loss in epoch 126: [361204.34]\n",
      "Loss in epoch 127: [361199.41]\n",
      "Loss in epoch 128: [361226.5]\n",
      "Loss in epoch 129: [361196.12]\n",
      "Loss in epoch 130: [361212.84]\n",
      "Loss in epoch 131: [361191.84]\n",
      "Loss in epoch 132: [361197.62]\n",
      "Loss in epoch 133: [361205.5]\n",
      "Loss in epoch 134: [361189.19]\n",
      "Loss in epoch 135: [361195.47]\n",
      "Loss in epoch 136: [361198.53]\n",
      "Loss in epoch 137: [361208.31]\n",
      "Loss in epoch 138: [361193.34]\n",
      "Loss in epoch 139: [361199.44]\n",
      "Loss in epoch 140: [361181.12]\n",
      "Loss in epoch 141: [361200.91]\n",
      "Loss in epoch 142: [361178.94]\n",
      "Loss in epoch 143: [361182.56]\n",
      "Loss in epoch 144: [361190.44]\n",
      "Loss in epoch 145: [361207.19]\n",
      "Loss in epoch 146: [361186.47]\n",
      "Loss in epoch 147: [361192.88]\n",
      "Loss in epoch 148: [361184.66]\n",
      "Loss in epoch 149: [361197.56]\n",
      "Loss in epoch 150: [361171.66]\n",
      "Loss in epoch 151: [361171.78]\n",
      "Loss in epoch 152: [361182.62]\n",
      "Loss in epoch 153: [361199.31]\n",
      "Loss in epoch 154: [361178.72]\n",
      "Loss in epoch 155: [361194.12]\n",
      "Loss in epoch 156: [361171.0]\n",
      "Loss in epoch 157: [361176.56]\n",
      "Loss in epoch 158: [361173.56]\n",
      "Loss in epoch 159: [361194.75]\n",
      "Loss in epoch 160: [361169.38]\n",
      "Loss in epoch 161: [361179.22]\n",
      "Loss in epoch 162: [361166.34]\n",
      "Loss in epoch 163: [361180.47]\n",
      "Loss in epoch 164: [361168.22]\n",
      "Loss in epoch 165: [361175.75]\n",
      "Loss in epoch 166: [361171.53]\n",
      "Loss in epoch 167: [361185.41]\n",
      "Loss in epoch 168: [361160.09]\n",
      "Loss in epoch 169: [361167.31]\n",
      "Loss in epoch 170: [361170.53]\n",
      "Loss in epoch 171: [361183.34]\n",
      "Loss in epoch 172: [361158.12]\n",
      "Loss in epoch 173: [361173.84]\n",
      "Loss in epoch 174: [361161.75]\n",
      "Loss in epoch 175: [361179.97]\n",
      "Loss in epoch 176: [361159.66]\n",
      "Loss in epoch 177: [361186.62]\n",
      "Loss in epoch 178: [361154.0]\n",
      "Loss in epoch 179: [361166.44]\n",
      "Loss in epoch 180: [361160.75]\n",
      "Loss in epoch 181: [361184.41]\n",
      "Loss in epoch 182: [361153.19]\n",
      "Loss in epoch 183: [361164.72]\n",
      "Loss in epoch 184: [361161.88]\n",
      "Loss in epoch 185: [361182.94]\n",
      "Loss in epoch 186: [361151.59]\n",
      "Loss in epoch 187: [361163.62]\n",
      "Loss in epoch 188: [361158.66]\n",
      "Loss in epoch 189: [361171.97]\n",
      "Loss in epoch 190: [361160.06]\n",
      "Loss in epoch 191: [361170.16]\n",
      "Loss in epoch 192: [361153.78]\n",
      "Loss in epoch 193: [361159.94]\n",
      "Loss in epoch 194: [361163.31]\n",
      "Loss in epoch 195: [361167.91]\n",
      "Loss in epoch 196: [361153.03]\n",
      "Loss in epoch 197: [361159.09]\n",
      "Loss in epoch 198: [361164.12]\n",
      "Loss in epoch 199: [361166.66]\n",
      "[0]\n",
      "Optimal Action Squence:[[  9.99174118  10.           9.99174118   9.99174118  10.           9.99174118]\n",
      " [  9.95947266  10.           9.95947266   9.95947266  10.           9.95947266]\n",
      " [  9.92571354  10.           9.92571354   9.92571354  10.           9.92571354]\n",
      " [  6.757164     6.52503014   6.757164     6.757164     6.52503014\n",
      "    6.757164  ]\n",
      " [  1.99159181   1.82631993   1.99159181   1.99159181   1.82632041\n",
      "    1.99159181]\n",
      " [  0.3059842    0.17331094   0.3059842    0.3059842    0.17331091\n",
      "    0.3059842 ]\n",
      " [  0.26410189   0.21354529   0.26410189   0.26410189   0.21354532\n",
      "    0.26410189]\n",
      " [  0.51329947   0.39354786   0.51329947   0.51329947   0.39354786\n",
      "    0.51329947]\n",
      " [  0.56385118   0.46073332   0.56385118   0.56385118   0.46073321\n",
      "    0.56385118]\n",
      " [  0.29970366   0.15348819   0.29970366   0.29970366   0.15348819\n",
      "    0.29970366]]\n",
      "The last state:[[ 21.59462166  21.76826286  21.59462166  21.59462166  21.76826286\n",
      "   21.59462166]]\n",
      "Rewards each time step:[[[ -1.20539242e+05]\n",
      "  [ -1.20344062e+05]\n",
      "  [ -1.20175359e+05]\n",
      "  [ -5.94406281e+01]\n",
      "  [ -1.31847878e+01]\n",
      "  [ -4.46663857e+00]\n",
      "  [ -6.27697039e+00]\n",
      "  [ -8.00611877e+00]\n",
      "  [ -8.54033566e+00]\n",
      "  [ -8.08618164e+00]]]\n"
     ]
    }
   ],
   "source": [
    "rnn_inst.Optimize(200)"
   ]
  },
  {
   "cell_type": "code",
   "execution_count": null,
   "metadata": {
    "collapsed": true
   },
   "outputs": [],
   "source": []
  }
 ],
 "metadata": {
  "kernelspec": {
   "display_name": "Python 3",
   "language": "python",
   "name": "python3"
  },
  "language_info": {
   "codemirror_mode": {
    "name": "ipython",
    "version": 3
   },
   "file_extension": ".py",
   "mimetype": "text/x-python",
   "name": "python",
   "nbconvert_exporter": "python",
   "pygments_lexer": "ipython3",
   "version": "3.4.3"
  }
 },
 "nbformat": 4,
 "nbformat_minor": 2
}
