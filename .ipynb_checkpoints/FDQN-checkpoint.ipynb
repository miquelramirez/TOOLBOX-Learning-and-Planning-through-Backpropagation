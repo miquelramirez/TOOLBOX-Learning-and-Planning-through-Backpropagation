{
 "cells": [
  {
   "cell_type": "markdown",
   "metadata": {},
   "source": [
    "# Recurrent VAE\n",
    "By [Ga Wu](http://wuga214.github.io/) @ University of Toronto\n",
    "\n",
    "We notice that the VAE output may used to feed into VAE again, this is quite like RNN. Therefore, we decide to transform the VAE into RNN cell to call the rnn.run to take care of the rest."
   ]
  },
  {
   "cell_type": "markdown",
   "metadata": {},
   "source": [
    "In this code, we show how to compile any deep network structure into RNN, where previous step's output is much part of the input.  In (STATE,ACTION)->(STATE',ACTION') RNN sequence. STATE corresponding latent state of RNN cell and Action is input for each time step. The initial State is given."
   ]
  },
  {
   "cell_type": "code",
   "execution_count": null,
   "metadata": {
    "collapsed": true
   },
   "outputs": [],
   "source": []
  }
 ],
 "metadata": {
  "kernelspec": {
   "display_name": "Python 3",
   "language": "python",
   "name": "python3"
  },
  "language_info": {
   "codemirror_mode": {
    "name": "ipython",
    "version": 3
   },
   "file_extension": ".py",
   "mimetype": "text/x-python",
   "name": "python",
   "nbconvert_exporter": "python",
   "pygments_lexer": "ipython3",
   "version": "3.4.3"
  }
 },
 "nbformat": 4,
 "nbformat_minor": 2
}
