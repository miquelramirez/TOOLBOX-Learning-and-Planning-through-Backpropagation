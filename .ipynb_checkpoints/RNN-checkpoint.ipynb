{
 "cells": [
  {
   "cell_type": "code",
   "execution_count": null,
   "metadata": {
    "collapsed": true
   },
   "outputs": [],
   "source": [
    "# Share RNN weights"
   ]
  },
  {
   "cell_type": "code",
   "execution_count": 9,
   "metadata": {
    "collapsed": false
   },
   "outputs": [
    {
     "name": "stdout",
     "output_type": "stream",
     "text": [
      "['scope1_4/moo:0', 'scope1_4/Variable:0', 'scope1_5/moo:0', 'scope1_5/Variable:0']\n",
      "['scope1_4/moo:0', 'scope1_4/Variable:0', 'scope1_5/moo:0', 'scope1_5/Variable:0']\n"
     ]
    },
    {
     "data": {
      "text/plain": [
       "'scope1_4/moo:0'"
      ]
     },
     "execution_count": 9,
     "metadata": {},
     "output_type": "execute_result"
    }
   ],
   "source": [
    "import tensorflow as tf\n",
    "import numpy as np\n",
    "\n",
    "with tf.variable_scope(\"scope1\") as vs:\n",
    "    cell = tf.nn.rnn_cell.GRUCell(1)\n",
    "    vars = [v.name for v in tf.global_variables() if v.name.startswith(vs.name)]\n",
    "    print(vars)\n",
    "    init_state = cell.zero_state([1,1]])\n",
    "    stacked_cell = tf.nn.rnn_cell.MultiRNNCell([cell] * 2)\n",
    "    stacked_cell([tf.Variable(np.zeros((100, 100), dtype=np.float32), name=\"moo\"), tf.Variable(np.zeros((100, 100), dtype=np.float32), \"bla\")],None)\n",
    "    # Retrieve just the LSTM variables.\n",
    "    vars = [v.name for v in tf.global_variables() if v.name.startswith(vs.name)]\n",
    "    print(vars)\n"
   ]
  },
  {
   "cell_type": "code",
   "execution_count": 12,
   "metadata": {
    "collapsed": false
   },
   "outputs": [
    {
     "name": "stdout",
     "output_type": "stream",
     "text": [
      "WARNING:tensorflow:From <ipython-input-12-62394cdf41db>:20 in <module>.: all_variables (from tensorflow.python.ops.variables) is deprecated and will be removed after 2017-03-02.\n",
      "Instructions for updating:\n",
      "Please use tf.global_variables instead.\n",
      "['scope2/moo:0', 'scope2/Variable:0']\n"
     ]
    }
   ],
   "source": [
    "import tensorflow as tf\n",
    "\n",
    "class SharedGRUCell(tf.nn.rnn_cell.GRUCell):\n",
    "    def __init__(self, num_units, input_size=None, activation=tf.nn.tanh):\n",
    "        tf.nn.rnn_cell.GRUCell.__init__(self, num_units, input_size, activation)\n",
    "        self.my_scope = None\n",
    "\n",
    "    def __call__(self, a, b):\n",
    "        if self.my_scope == None:\n",
    "            self.my_scope = tf.get_variable_scope()\n",
    "        else:\n",
    "            self.my_scope.reuse_variables()\n",
    "        return tf.nn.rnn_cell.GRUCell.__call__(self, a, b, self.my_scope)\n",
    "\n",
    "with tf.variable_scope(\"scope2\") as vs:\n",
    "    cell = SharedGRUCell(10)\n",
    "    stacked_cell = tf.nn.rnn_cell.MultiRNNCell([cell] * 2)\n",
    "    #stacked_cell(tf.Variable(np.zeros((20, 10), dtype=np.float32), name=\"moo\"), tf.Variable(np.zeros((20, 10), dtype=np.float32), \"bla\"))\n",
    "    # Retrieve just the LSTM variables.\n",
    "    vars = [v.name for v in tf.all_variables()\n",
    "                    if v.name.startswith(vs.name)]\n",
    "    print(vars)"
   ]
  },
  {
   "cell_type": "code",
   "execution_count": null,
   "metadata": {
    "collapsed": true
   },
   "outputs": [],
   "source": []
  }
 ],
 "metadata": {
  "kernelspec": {
   "display_name": "Python 3",
   "language": "python",
   "name": "python3"
  },
  "language_info": {
   "codemirror_mode": {
    "name": "ipython",
    "version": 3
   },
   "file_extension": ".py",
   "mimetype": "text/x-python",
   "name": "python",
   "nbconvert_exporter": "python",
   "pygments_lexer": "ipython3",
   "version": "3.4.3"
  }
 },
 "nbformat": 4,
 "nbformat_minor": 2
}
