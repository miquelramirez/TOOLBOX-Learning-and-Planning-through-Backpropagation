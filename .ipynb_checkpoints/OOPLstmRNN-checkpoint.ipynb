{
 "cells": [
  {
   "cell_type": "markdown",
   "metadata": {},
   "source": [
    "# Recurrent Neural Network\n",
    "\n",
    "This is the third part of our whole neural network planning structure.\n",
    "\n",
    "The Data in this experiments is generated from RDDL simulator [Github](https://github.com/ssanner/rddlsim), which is written by Prof.Scott Sanner at University of Toronto.\n",
    "\n",
    "The objective of this network is to learn a bellman Q value equation. While seperated training stratedy cause the objective cannot be fullfilled such easy. The partial objective that training Q(s,a) = E[R+Q(s',a')] is ok, eventhough a' is not optimal choice. Later combined training will solve rest problem.\n",
    "\n",
    "Problem list:\n",
    "1. bellman equation is markov, which means LSTM doesn't necessary, BPTT is sufficient for the task. However, I heard there is a concept called TD($\\lambda$). Eventhough TD($\\lambda$) is not same concept with this one. I am wondering if LSTM is an approximation of Q with some backpropagation that $\\lambda\\geq 1$\n"
   ]
  },
  {
   "cell_type": "code",
   "execution_count": 1,
   "metadata": {
    "collapsed": true
   },
   "outputs": [],
   "source": [
    "%matplotlib inline\n",
    "import matplotlib.pyplot as plt\n",
    "import tensorflow as tf\n",
    "import numpy as np\n",
    "from sklearn.metrics import confusion_matrix\n",
    "import time\n",
    "from datetime import timedelta\n",
    "import math\n",
    "import os\n",
    "import pandas as pd\n",
    "#Functional coding\n",
    "import functools\n",
    "from functools import partial"
   ]
  },
  {
   "cell_type": "code",
   "execution_count": 5,
   "metadata": {
    "collapsed": true
   },
   "outputs": [],
   "source": [
    "Datapath=\"DATA/Navigation/Nav_RDDL_Data.txt\"\n",
    "Labelpath=\"DATA/Navigation/Nav_RDDL_Label.txt\"\n",
    "Rewardpath=\"DATA/Navigation/Nav_RDDL_Reward.txt\""
   ]
  },
  {
   "cell_type": "code",
   "execution_count": 6,
   "metadata": {
    "collapsed": true
   },
   "outputs": [],
   "source": [
    "#Given local path, find full path\n",
    "def PathFinder(path):\n",
    "    #python 2\n",
    "    #script_dir = os.path.dirname('__file__')\n",
    "    #fullpath = os.path.join(script_dir,path)\n",
    "    #python 3\n",
    "    fullpath=os.path.abspath(path)\n",
    "    print(fullpath)\n",
    "    return fullpath\n",
    "\n",
    "#Read Data for Deep Learning\n",
    "def ReadData(path):\n",
    "    fullpath=PathFinder(path)\n",
    "    return pd.read_csv(fullpath, sep=',', header=0)\n",
    "\n",
    "#Won't use this one to normalize\n",
    "#Input Normalization\n",
    "def Normalize(features, mean = [], std = []):\n",
    "    if mean == []:\n",
    "        mean = np.mean(features, axis = 0)\n",
    "        std = np.std(features, axis = 0)\n",
    "#     print std\n",
    "#     print std[:,None]\n",
    "    new_feature = (features.T - mean[:,None]).T\n",
    "    new_feature = (new_feature.T / std[:,None]).T\n",
    "    new_feature[np.isnan(new_feature)]=0\n",
    "#     print new_feature\n",
    "    return new_feature, mean, std"
   ]
  },
  {
   "cell_type": "code",
   "execution_count": 7,
   "metadata": {
    "collapsed": false
   },
   "outputs": [
    {
     "name": "stdout",
     "output_type": "stream",
     "text": [
      "/home/wuga/Documents/Notebook/VAE-PLANNING/DATA/Navigation/Nav_RDDL_Data.txt\n",
      "/home/wuga/Documents/Notebook/VAE-PLANNING/DATA/Navigation/Nav_RDDL_Label.txt\n",
      "/home/wuga/Documents/Notebook/VAE-PLANNING/DATA/Navigation/Nav_RDDL_Reward.txt\n"
     ]
    }
   ],
   "source": [
    "x_pd = ReadData(Datapath)\n",
    "y_pd = ReadData(Labelpath)\n",
    "r_pd = ReadData(Rewardpath)"
   ]
  },
  {
   "cell_type": "code",
   "execution_count": 9,
   "metadata": {
    "collapsed": true
   },
   "outputs": [],
   "source": [
    "x_matrix=x_pd.as_matrix()\n",
    "y_matrix=y_pd.as_matrix()\n",
    "r_matrix=r_pd.as_matrix()"
   ]
  },
  {
   "cell_type": "code",
   "execution_count": 13,
   "metadata": {
    "collapsed": false
   },
   "outputs": [],
   "source": [
    "data_size=len(x_matrix)\n",
    "# Uppercase for constants\n",
    "INPUT_S_A_SIZE = 8\n",
    "INPUT_SP_SIZE = 4\n",
    "OUTPUT_SIZE = 1\n",
    "NUM_STEP = 12"
   ]
  },
  {
   "cell_type": "code",
   "execution_count": 11,
   "metadata": {
    "collapsed": true
   },
   "outputs": [],
   "source": [
    "# Input features s,a\n",
    "x = tf.placeholder(tf.float32,[None, INPUT_S_A_SIZE],name=\"Features_S_A\")\n",
    "\n",
    "# Input features s'\n",
    "y = tf.placeholder(tf.float32, [None, INPUT_SP_SIZE],name=\"Features_SP\")\n",
    "\n",
    "# Input label\n",
    "r = tf.placeholder(tf.float32, [None, OUTPUT_SIZE],name=\"Labels\")"
   ]
  },
  {
   "cell_type": "code",
   "execution_count": 12,
   "metadata": {
    "collapsed": true
   },
   "outputs": [],
   "source": [
    "#Weight constructing function\n",
    "def weight_variable(shape):\n",
    "    initial = tf.truncated_normal(shape,stddev=0.001)\n",
    "    return tf.Variable(initial,name=\"weights\")\n",
    "\n",
    "#Bias constructing function\n",
    "def bias_variable(shape):\n",
    "    initial = tf.constant(0.,shape=shape)\n",
    "    return tf.Variable(initial,name=\"biases\")"
   ]
  },
  {
   "cell_type": "code",
   "execution_count": null,
   "metadata": {
    "collapsed": true
   },
   "outputs": [],
   "source": [
    "def Lstm_cell():\n",
    "    def __init__(self, scope=\"Rnn_cell\", )"
   ]
  },
  {
   "cell_type": "code",
   "execution_count": null,
   "metadata": {
    "collapsed": true
   },
   "outputs": [],
   "source": [
    "class LSTMRNN(object):\n",
    "    def __init__(self,\n",
    "                r, # Reward Value\n",
    "                num_step):# Number of RNN step, this is a fixed step RNN sequence\n",
    "        self.r = r\n",
    "        self._p_create_rnn_graph()\n",
    "        self._p_create_loss()\n",
    "        self.sess = tf.InteractiveSession()\n",
    "        self.sess.run(tf.global_variables_initializer())\n",
    "    \n",
    "    def _p_create_rnn_graph(self):\n",
    "        lstm = rnn_cell.BasicLSTMCell(lstm_size)\n",
    "        # Initial state of the LSTM memory.\n",
    "        initial_state = state = tf.zeros([batch_size, lstm.state_size])\n",
    "\n",
    "        for i in range(num_steps):\n",
    "            # The value of state is updated after processing each batch of words.\n",
    "            output, state = lstm(words[:, i], state)\n",
    "\n",
    "        final_state = state"
   ]
  }
 ],
 "metadata": {
  "kernelspec": {
   "display_name": "Python 3",
   "language": "python",
   "name": "python3"
  },
  "language_info": {
   "codemirror_mode": {
    "name": "ipython",
    "version": 3
   },
   "file_extension": ".py",
   "mimetype": "text/x-python",
   "name": "python",
   "nbconvert_exporter": "python",
   "pygments_lexer": "ipython3",
   "version": "3.4.3"
  }
 },
 "nbformat": 4,
 "nbformat_minor": 2
}
