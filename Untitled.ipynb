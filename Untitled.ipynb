{
 "cells": [
  {
   "cell_type": "code",
   "execution_count": null,
   "metadata": {
    "collapsed": true
   },
   "outputs": [],
   "source": [
    "x_matrix"
   ]
  },
  {
   "cell_type": "code",
   "execution_count": null,
   "metadata": {
    "collapsed": true
   },
   "outputs": [],
   "source": [
    "# Input features s,a\n",
    "x = tf.placeholder(tf.float32,[None, INPUT_S_A_SIZE],name=\"S_A_t\")\n",
    "\n",
    "# Input label\n",
    "r = tf.placeholder(tf.float32, [None, OUTPUT_SIZE],name=\"R_t\")\n",
    "\n",
    "sp = tf.placeholder(tf.float32,[None, INPUT_S_SIZE],name=\"S_t+1\")\n",
    "\n",
    "fa = tf.placeholder(tf.float32,[None, INPUT_A_SIZE],name=\"A_t+1\")\n",
    "\n",
    "xp = tf.concat((sp,fa),1)"
   ]
  }
 ],
 "metadata": {
  "kernelspec": {
   "display_name": "Python 3",
   "language": "python",
   "name": "python3"
  },
  "language_info": {
   "codemirror_mode": {
    "name": "ipython",
    "version": 3
   },
   "file_extension": ".py",
   "mimetype": "text/x-python",
   "name": "python",
   "nbconvert_exporter": "python",
   "pygments_lexer": "ipython3",
   "version": "3.4.3"
  }
 },
 "nbformat": 4,
 "nbformat_minor": 2
}
