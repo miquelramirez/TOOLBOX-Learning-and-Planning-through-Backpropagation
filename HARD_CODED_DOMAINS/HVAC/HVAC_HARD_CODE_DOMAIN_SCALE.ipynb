{
 "cells": [
  {
   "cell_type": "code",
   "execution_count": 1,
   "metadata": {
    "collapsed": true
   },
   "outputs": [],
   "source": [
    "import matplotlib.pyplot as plt\n",
    "import tensorflow as tf\n",
    "import numpy as np\n",
    "from sklearn.metrics import confusion_matrix\n",
    "import time\n",
    "from datetime import timedelta\n",
    "import math\n",
    "import os\n",
    "import pandas as pd\n",
    "#Functional coding\n",
    "import random\n",
    "import functools\n",
    "from functools import partial\n",
    "from tensorflow.python.ops import array_ops \n",
    "from scipy.stats import truncnorm"
   ]
  },
  {
   "cell_type": "code",
   "execution_count": 2,
   "metadata": {
    "collapsed": true
   },
   "outputs": [],
   "source": [
    "#Given local path, find full path\n",
    "def PathFinder(path):\n",
    "    #python 2\n",
    "    #script_dir = os.path.dirname('__file__')\n",
    "    #fullpath = os.path.join(script_dir,path)\n",
    "    #python 3\n",
    "    fullpath=os.path.abspath(path)\n",
    "    print(fullpath)\n",
    "    return fullpath\n",
    "\n",
    "#Read Data for Deep Learning\n",
    "def ReadData(path):\n",
    "    fullpath=PathFinder(path)\n",
    "    return pd.read_csv(fullpath, sep=',', header=0)\n",
    "\n",
    "def RandomInitialandWriteFile(rooms):\n",
    "    num_rooms = len(rooms)\n",
    "    initial_state=[truncnorm.rvs(-5/3,5/3,loc=15, scale=2.5) for _ in range(60)]\n",
    "    for i,room in enumerate(rooms):\n",
    "        print('TEMP(r{}) = {:2.6f};'.format(room,initial_state[i]))\n",
    "    return initial_state"
   ]
  },
  {
   "cell_type": "code",
   "execution_count": 3,
   "metadata": {
    "collapsed": true
   },
   "outputs": [],
   "source": [
    "default_settings = {                \n",
    "    \"cap\": 80, \n",
    "    \"outside_resist\" : 2.0,\n",
    "    \"hall_resist\" : 1.3,\n",
    "    \"wall_resist\" : 1.1,\n",
    "    \"cap_air\" : 1.006, \n",
    "    \"cost_air\" : 1.0, \n",
    "    \"time_delta\" : 1.0,\n",
    "    \"temp_air\" : 40.0,\n",
    "    \"temp_up\" : 23.5,\n",
    "    \"temp_low\" : 20.0,\n",
    "    \"temp_outside\" : 6.0,\n",
    "    \"temp_hall\" : 10.0,\n",
    "    \"penalty\" : 1000.0,\n",
    "    \"air_max\" : 10.0\n",
    "   }"
   ]
  },
  {
   "cell_type": "code",
   "execution_count": 4,
   "metadata": {
    "collapsed": false
   },
   "outputs": [],
   "source": [
    "#Matrix computation version update\n",
    "class HVAC(object):\n",
    "    def __init__(self, \n",
    "                 adj_outside, #Adjacent to outside \n",
    "                 adj_hall, #Adjacent to hall\n",
    "                 adj, #Adjacent between rooms\n",
    "                 rooms, #Room names\n",
    "                 batch_size,\n",
    "                 default_settings):\n",
    "        self.__dict__.update(default_settings)\n",
    "        self.rooms = rooms\n",
    "        self.batch_size = batch_size\n",
    "        self.room_size = len(rooms)\n",
    "        self.zero = tf.constant(0, shape=[self.batch_size,self.room_size], dtype=tf.float32)\n",
    "        self._init_ADJ_Matrix(adj)\n",
    "        self._init_ADJOUT_MATRIX(adj_outside)\n",
    "        self._init_ADJHALL_MATRIX(adj_hall)\n",
    "    \n",
    "    def _init_ADJ_Matrix(self,adj):\n",
    "        np_adj = np.zeros((self.room_size,self.room_size))\n",
    "        for i in adj:\n",
    "            m=self.rooms.index(i[0])\n",
    "            n=self.rooms.index(i[1])\n",
    "            np_adj[m,n] = 1\n",
    "            np_adj[n,m] = 1\n",
    "        self.adj = tf.constant(np_adj,dtype=tf.float32)\n",
    "        print('self.adj shape:{0}'.format(self.adj.get_shape()))\n",
    "            \n",
    "    def _init_ADJOUT_MATRIX(self, adj_outside):\n",
    "        np_adj_outside = np.zeros((self.room_size,))\n",
    "        for i in adj_outside:\n",
    "            m=self.rooms.index(i)\n",
    "            np_adj_outside[m] = 1\n",
    "        self.adj_outside = tf.constant(np_adj_outside,dtype=tf.float32)\n",
    "        \n",
    "    def _init_ADJHALL_MATRIX(self,adj_hall):\n",
    "        np_adj_hall = np.zeros((self.room_size,))\n",
    "        for i in adj_hall:\n",
    "            m=self.rooms.index(i)\n",
    "            np_adj_hall[m] = 1\n",
    "        self.adj_hall = tf.constant(np_adj_hall,dtype=tf.float32)\n",
    "    \n",
    "    def ADJ(self):\n",
    "        return self.adj\n",
    "                 \n",
    "    def ADJ_OUTSIDE(self):\n",
    "        return self.adj_outside\n",
    "            \n",
    "    def ADJ_HALL(self):\n",
    "        return self.adj_hall  \n",
    "        \n",
    "    def R_OUTSIDE(self):\n",
    "        return self.outside_resist\n",
    "    \n",
    "    def R_HALL(self):\n",
    "        return self.hall_resist\n",
    "    \n",
    "    def R_WALL(self):\n",
    "        return self.wall_resist\n",
    "        \n",
    "    def CAP(self):\n",
    "        return self.cap\n",
    "    \n",
    "    def CAP_AIR(self):\n",
    "        return self.cap_air\n",
    "    \n",
    "    def COST_AIR(self):\n",
    "        return self.cost_air\n",
    "    \n",
    "    def TIME_DELTA(self):\n",
    "        return self.time_delta\n",
    "    \n",
    "    def TEMP_AIR(self):\n",
    "        return self.temp_air\n",
    "    \n",
    "    def TEMP_UP(self):\n",
    "        return self.temp_up\n",
    "    \n",
    "    def TEMP_LOW(self):\n",
    "        return self.temp_low\n",
    "    \n",
    "    def TEMP_OUTSIDE(self):\n",
    "        return self.temp_outside\n",
    "    \n",
    "    def TEMP_HALL(self):\n",
    "        return self.temp_hall\n",
    "    \n",
    "    def PENALTY(self):\n",
    "        return self.penalty\n",
    "    \n",
    "    def AIR_MAX(self):\n",
    "        return self.air_max\n",
    "    \n",
    "    def ZERO(self):\n",
    "        return self.zero\n",
    "    \n",
    "    def Transition(self, states, actions):\n",
    "        previous_state = states\n",
    "        print('state shape:{0}'.format(states.get_shape()))\n",
    "        heating_info = actions*self.CAP_AIR()*(self.TEMP_AIR()-previous_state)\n",
    "        neighbor_info = (tf.transpose(tf.matmul(self.ADJ(),tf.transpose(states)))\\\n",
    "                         -previous_state*tf.reduce_sum(self.ADJ(),1))/self.R_WALL()\n",
    "        outside_info = (self.TEMP_OUTSIDE()-previous_state)*self.ADJ_OUTSIDE()/self.R_OUTSIDE()\n",
    "        hall_info = (self.TEMP_HALL()-previous_state)*self.ADJ_HALL()/self.R_HALL()\n",
    "        print('neighbor_info shape:{0}'.format(neighbor_info.get_shape()))\n",
    "        print('hall_info shape:{0}'.format(hall_info.get_shape()))\n",
    "        new_state = previous_state+self.TIME_DELTA()/self.CAP()*(heating_info + \\\n",
    "                                                                 neighbor_info + outside_info + hall_info)\n",
    "        return new_state\n",
    "            \n",
    "    def Reward(self, states,actions):\n",
    "        batch_size,state_size = states.get_shape()\n",
    "        #break_penalty = tf.select(tf.logical_or(tf.less(states,self.TEMP_LOW()),\\\n",
    "        #                                        tf.greater(states,self.TEMP_UP())),self.PENALTY()+self.ZERO(),self.ZERO())\n",
    "        dist_penalty = tf.abs(((self.TEMP_UP()+self.TEMP_LOW())/tf.constant(2.0, dtype=tf.float32))-states)\n",
    "        ener_penalty = actions*self.COST_AIR()\n",
    "        new_rewards = -tf.reduce_sum(tf.constant(10.0, tf.float32)*dist_penalty+ener_penalty,1,keep_dims=True)\n",
    "        return new_rewards            "
   ]
  },
  {
   "cell_type": "code",
   "execution_count": 5,
   "metadata": {
    "collapsed": false
   },
   "outputs": [],
   "source": [
    "adj_hall = [101,102,103,106,107,107,110,\\\n",
    "               201,202,203,206,207,207,210,\\\n",
    "               301,302,303,306,307,307,310,\\\n",
    "               401,402,403,406,407,407,410,\\\n",
    "               501,502,503,506,507,507,510]\n",
    "adj_outside = [101,102,103,104,105,106,108,110,111,112,\\\n",
    "              201,202,203,204,205,206,208,210,211,212,\\\n",
    "              301,302,303,304,305,306,308,310,311,312,\\\n",
    "              401,402,403,404,405,406,408,410,411,412,\\\n",
    "              501,502,503,504,505,506,508,510,511,512]\n",
    "adj = [[101,102],[102,103],[103,104],[104,105],[106,107],[107,108],[107,109],[108,109],[110,111],[111,112],\\\n",
    "       [201,202],[202,203],[203,204],[204,205],[206,207],[207,208],[207,209],[208,209],[210,211],[211,212],\\\n",
    "       [301,302],[302,303],[303,304],[304,305],[306,307],[307,308],[307,309],[308,309],[310,311],[311,312],\\\n",
    "       [401,402],[402,403],[403,404],[404,405],[406,407],[407,408],[407,409],[408,409],[410,411],[411,412],\\\n",
    "       [501,502],[502,503],[503,504],[504,505],[506,507],[507,508],[507,509],[508,509],[510,511],[511,512],\\\n",
    "       [101,201],[102,202],[103,203],[104,204],[105,205],[106,206],[107,207],[108,208],[109,209],[110,210],\\\n",
    "       [111,211],[112,212],[201,301],[202,302],[203,303],[204,304],[205,305],[206,306],[207,307],[208,308],\\\n",
    "       [209,309],[210,310],[211,311],[212,312],[301,401],[302,402],[303,403],[304,404],[305,405],[306,406],\\\n",
    "       [307,407],[308,408],[309,409],[310,410],[311,411],[312,412],[401,501],[402,502],[403,503],[404,504],\\\n",
    "       [405,505],[406,506],[407,507],[408,508],[409,509],[410,510],[411,511],[412,512]]\n",
    "rooms = list(range(101,113))+list(range(201,213))+list(range(301,313))+list(range(401,413))+list(range(501,513))\n",
    "\n",
    "batch_size = 2"
   ]
  },
  {
   "cell_type": "code",
   "execution_count": 6,
   "metadata": {
    "collapsed": false
   },
   "outputs": [
    {
     "data": {
      "text/plain": [
       "60"
      ]
     },
     "execution_count": 6,
     "metadata": {},
     "output_type": "execute_result"
    }
   ],
   "source": [
    "len(rooms)"
   ]
  },
  {
   "cell_type": "code",
   "execution_count": 7,
   "metadata": {
    "collapsed": false
   },
   "outputs": [],
   "source": [
    "# hvac_inst = HVAC(adj_outside,adj_hall,adj,rooms,10,default_settings)"
   ]
  },
  {
   "cell_type": "code",
   "execution_count": 8,
   "metadata": {
    "collapsed": true
   },
   "outputs": [],
   "source": [
    "# States\n",
    "states = tf.placeholder(tf.float32,[10, 60],name=\"States\")\n",
    "\n",
    "# Actions\n",
    "actions = tf.placeholder(tf.float32,[10, 60],name=\"Actions\")"
   ]
  },
  {
   "cell_type": "code",
   "execution_count": 9,
   "metadata": {
    "collapsed": false
   },
   "outputs": [],
   "source": [
    "# states_list=tf.unpack(states)\n",
    "# actions_list = tf.unpack(actions)\n",
    "# sess = tf.InteractiveSession()\n",
    "# sess.run(tf.global_variables_initializer())\n",
    "# new_state = hvac_inst.Transition(states, actions)\n",
    "# feed_dict={states:S_A_matrix[:10,60:], actions:S_A_matrix[:10,:60]}\n",
    "\n",
    "# print(sess.run([new_state], feed_dict=feed_dict))"
   ]
  },
  {
   "cell_type": "code",
   "execution_count": 10,
   "metadata": {
    "collapsed": true
   },
   "outputs": [],
   "source": [
    "# new_rewards = hvac_inst.Reward(states,actions)"
   ]
  },
  {
   "cell_type": "code",
   "execution_count": 11,
   "metadata": {
    "collapsed": false
   },
   "outputs": [],
   "source": [
    "# feed_dict={states:S_A_matrix[:10,60:], actions:S_A_matrix[:10,:60]}\n",
    "# sess.run(new_rewards,feed_dict=feed_dict )"
   ]
  },
  {
   "cell_type": "code",
   "execution_count": 12,
   "metadata": {
    "collapsed": true
   },
   "outputs": [],
   "source": [
    "class HVACCell(tf.nn.rnn_cell.RNNCell):\n",
    "\n",
    "    def __init__(self, adj_outside,adj_hall,adj,rooms,batch_size,default_settings):\n",
    "        self._num_state_units = len(rooms)\n",
    "        self._num_reward_units = 1+len(rooms)\n",
    "        self.hvac = HVAC(adj_outside,adj_hall,adj,rooms,batch_size,default_settings)\n",
    "\n",
    "    @property\n",
    "    def state_size(self):\n",
    "        return self._num_state_units\n",
    "\n",
    "    @property\n",
    "    def output_size(self):\n",
    "        return self._num_reward_units\n",
    "\n",
    "    def __call__(self, inputs, state, scope=None):\n",
    "        next_state =  self.hvac.Transition(state, inputs)\n",
    "        reward = self.hvac.Reward(state, inputs)      \n",
    "        return tf.concat(1,[reward,next_state]), next_state\n",
    "    "
   ]
  },
  {
   "cell_type": "code",
   "execution_count": 13,
   "metadata": {
    "collapsed": false
   },
   "outputs": [
    {
     "name": "stdout",
     "output_type": "stream",
     "text": [
      "self.adj shape:(60, 60)\n"
     ]
    }
   ],
   "source": [
    "hvac_inst_cell = HVACCell(adj_outside,adj_hall,adj,rooms,batch_size,default_settings)"
   ]
  },
  {
   "cell_type": "code",
   "execution_count": 14,
   "metadata": {
    "collapsed": false
   },
   "outputs": [
    {
     "name": "stdout",
     "output_type": "stream",
     "text": [
      "state shape:(2, 60)\n",
      "neighbor_info shape:(2, 60)\n",
      "hall_info shape:(2, 60)\n"
     ]
    },
    {
     "data": {
      "text/plain": [
       "(<tf.Tensor 'concat:0' shape=(2, 61) dtype=float32>,\n",
       " <tf.Tensor 'add_4:0' shape=(2, 60) dtype=float32>)"
      ]
     },
     "execution_count": 14,
     "metadata": {},
     "output_type": "execute_result"
    }
   ],
   "source": [
    "a = tf.Variable(tf.constant(0.0, dtype=tf.float32,shape=[2,60]),name=\"action\")\n",
    "initial_state = hvac_inst_cell.zero_state(2, dtype=tf.float32)+tf.constant([[random.randint(0,30) for _ in range(60)]],dtype=tf.float32)\n",
    "hvac_inst_cell(a,initial_state )\n",
    "#print(initial_state.get_shape())"
   ]
  },
  {
   "cell_type": "code",
   "execution_count": 15,
   "metadata": {
    "collapsed": false
   },
   "outputs": [],
   "source": [
    "class ActionOptimizer(object):\n",
    "    def __init__(self,\n",
    "                a, # Actions\n",
    "                num_step, # Number of RNN step, this is a fixed step RNN sequence, 12 for navigation\n",
    "                batch_size,\n",
    "                loss,\n",
    "                learning_rate=0.1): \n",
    "        self.action = tf.reshape(a,[-1,num_step,60]) #Reshape rewards\n",
    "        print(self.action)\n",
    "        self.num_step = num_step\n",
    "        self.batch_size=batch_size\n",
    "        self.learning_rate = learning_rate\n",
    "        self.previous_output = np.zeros((batch_size,num_step))\n",
    "        self.weights = np.ones((batch_size,num_step,1))\n",
    "        self._p_create_rnn_graph()\n",
    "        if loss == \"Qloss\":\n",
    "            self._p_Q_loss()\n",
    "        else:\n",
    "            self._p_create_loss()\n",
    "        self.sess = tf.InteractiveSession()\n",
    "        self.sess.run(tf.global_variables_initializer())\n",
    "    \n",
    "    def _p_create_rnn_graph(self):\n",
    "        cell = HVACCell(adj_outside,adj_hall,adj,rooms,self.batch_size,default_settings)\n",
    "        initial_state = cell.zero_state(self.action.get_shape()[0], dtype=tf.float32)\\\n",
    "                        +tf.constant(10,dtype=tf.float32)\n",
    "        #+tf.constant([RandomInitialandWriteFile(rooms)],dtype=tf.float32)\n",
    "        print('action batch size:{0}'.format(array_ops.shape(self.action)[0]))\n",
    "        print('Initial_state shape:{0}'.format(initial_state))\n",
    "        rnn_outputs, state = tf.nn.dynamic_rnn(cell, self.action, dtype=tf.float32,initial_state=initial_state)\n",
    "        #need output intermediate states as well\n",
    "        concated = tf.concat(0,rnn_outputs)\n",
    "        something_unpacked =  tf.unpack(concated, axis=2)\n",
    "        self.outputs = tf.reshape(something_unpacked[0],[-1,self.num_step,1])\n",
    "        self.intern_states = tf.pack(something_unpacked[1:61], axis=2)\n",
    "        self.last_state = state\n",
    "        self.pred = tf.reduce_sum(self.outputs,1)\n",
    "        self.average_pred = tf.reduce_mean(self.pred)\n",
    "        print(\"self.pred:{0}\".format(self.pred))\n",
    "            \n",
    "    def _p_create_loss(self):\n",
    "        print(\"MSE-loss\")\n",
    "        objective = tf.reduce_mean(tf.square(self.pred)) \n",
    "        self.loss = objective\n",
    "        print(self.loss.get_shape())\n",
    "        #self.loss = -objective\n",
    "        self.optimizer = tf.train.RMSPropOptimizer(self.learning_rate).minimize(self.loss, var_list=[a])\n",
    "        \n",
    "    def _p_Q_loss(self):\n",
    "        print(\"Q-loss\")\n",
    "        \n",
    "        objective = tf.reduce_sum(self.outputs*self.weights,1)\n",
    "        self.loss = tf.reduce_mean(tf.square(objective))\n",
    "        self.optimizer = tf.train.RMSPropOptimizer(self.learning_rate).minimize(self.loss, var_list=[a])\n",
    "        \n",
    "    def softmax(self,z,dim):\n",
    "        sm = np.exp(z) / np.sum(np.exp(z),axis=dim,keepdims=True)\n",
    "        return sm\n",
    "        \n",
    "    def _p_attention(self,new_output):\n",
    "        value = new_output-self.previous_output\n",
    "        self.weights = self.softmax(value+np.amin(value),1).reshape(self.batch_size,self.num_step,1)\n",
    "        self.previous_output = new_output\n",
    "        \n",
    "        \n",
    "    def Optimize(self,epoch=100):\n",
    "        Time_Target_List = [15,30,60,120,240,480,960]\n",
    "        #Time_Target_List = [15,30,60,120]\n",
    "        Target = Time_Target_List[0]\n",
    "        counter = 0\n",
    "        new_loss = self.sess.run([self.average_pred])  \n",
    "        self.previous_output = np.log(-self.sess.run([self.outputs])[0].reshape((self.batch_size,self.num_step)))\n",
    "        print('Loss in epoch {0}: {1}'.format(\"Initial\", new_loss)) \n",
    "        print('Compile to backend complete!') \n",
    "        start = time.time()\n",
    "        current_best = 0\n",
    "        while True:\n",
    "            training = self.sess.run([self.optimizer])\n",
    "            self.sess.run(tf.assign(a, tf.clip_by_value(a, 0, 10)))\n",
    "            new_output = np.log(-self.sess.run([self.outputs])[0])  \n",
    "            self._p_attention(new_output.reshape((self.batch_size,self.num_step)))\n",
    "            end = time.time()\n",
    "            if end-start>=Target:\n",
    "                print('Time: {0}'.format(Target))\n",
    "                pred_list = self.sess.run(self.pred)\n",
    "                pred_list=np.sort(pred_list.flatten())[::-1]\n",
    "                pred_list=pred_list[:5]\n",
    "                pred_mean = np.mean(pred_list)\n",
    "                pred_std = np.std(pred_list)\n",
    "                if counter == 0:\n",
    "                    current_best = pred_list[0]\n",
    "                if pred_list[0]>current_best:\n",
    "                    current_best=pred_list[0]\n",
    "                print('Best Cost: {0}'.format(current_best))\n",
    "                print('MEAN: {0}, STD:{1}'.format(pred_mean,pred_std))\n",
    "                counter = counter+1\n",
    "                if counter == len(Time_Target_List):\n",
    "                    print(\"Done!\")\n",
    "                    break\n",
    "                else:\n",
    "                    Target = Time_Target_List[counter]\n",
    "        \n",
    "#         new_loss = self.sess.run([self.average_pred])\n",
    "#         print('Loss in epoch {0}: {1}'.format(\"Initial\", new_loss)) \n",
    "#         for epoch in range(epoch):\n",
    "#             training = self.sess.run([self.optimizer])\n",
    "#             self.sess.run(tf.assign(a, tf.clip_by_value(a, 0, 10)))\n",
    "#             if True:\n",
    "#                 new_loss = self.sess.run([self.average_pred])\n",
    "#                 print('Loss in epoch {0}: {1}'.format(epoch, new_loss))  \n",
    "#         minimum_costs_id=self.sess.run(tf.argmax(self.pred,0))\n",
    "#         print(minimum_costs_id)\n",
    "#         print('Optimal Action Squence:{0}'.format(self.sess.run(self.action)[minimum_costs_id[0]]))\n",
    "#         action = self.sess.run(self.action)[minimum_costs_id[0]]\n",
    "#         np.savetxt(\"HVAC_ACTION.csv\",action,delimiter=\",\",fmt='%2.5f')\n",
    "#         pred_list = self.sess.run(self.pred)\n",
    "#         pred_list=np.sort(pred_list.flatten())[::-1]\n",
    "#         pred_list=pred_list[:5]\n",
    "#         pred_mean = np.mean(pred_list)\n",
    "#         pred_std = np.std(pred_list)\n",
    "#         print('Best Cost: {0}'.format(pred_list[0]))\n",
    "#         print('Sorted Costs:{0}'.format(pred_list))\n",
    "#         print('MEAN: {0}, STD:{1}'.format(pred_mean,pred_std))\n",
    "#         print('The last state:{0}'.format(self.sess.run(self.last_state)))\n",
    "#         print('Rewards each time step:{0}'.format(self.sess.run(self.outputs)))\n",
    "#         reward = self.sess.run(self.outputs)[minimum_costs_id[0]]\n",
    "#         np.savetxt(\"HVAC_REWARD.csv\",reward,delimiter=\",\",fmt='%7.5f')\n",
    "#         #print('Intermediate states:{0}'.format(self.sess.run(self.intern_states)[minimum_costs_id[0]]))\n",
    "#         interm = self.sess.run(self.intern_states)[minimum_costs_id[0]]\n",
    "#         np.savetxt(\"HVAC_INTERM.csv\",interm,delimiter=\",\",fmt='%2.5f')"
   ]
  },
  {
   "cell_type": "code",
   "execution_count": 16,
   "metadata": {
    "collapsed": false
   },
   "outputs": [
    {
     "name": "stdout",
     "output_type": "stream",
     "text": [
      "Tensor(\"Reshape:0\", shape=(100, 96, 60), dtype=float32)\n",
      "self.adj shape:(60, 60)\n",
      "action batch size:Tensor(\"strided_slice:0\", shape=(), dtype=int32)\n",
      "Initial_state shape:Tensor(\"add_6:0\", shape=(100, 60), dtype=float32)\n",
      "state shape:(100, 60)\n",
      "neighbor_info shape:(100, 60)\n",
      "hall_info shape:(100, 60)\n",
      "self.pred:Tensor(\"Sum_2:0\", shape=(100, 1), dtype=float32)\n",
      "Q-loss\n"
     ]
    }
   ],
   "source": [
    "sess = tf.InteractiveSession()\n",
    "initial_a = tf.truncated_normal(shape=[576000],mean=5.0, stddev=1.0).eval() \n",
    "a = tf.Variable(initial_a,name=\"action\")\n",
    "rnn_inst = ActionOptimizer(a, 96,100,\"Qloss\")  "
   ]
  },
  {
   "cell_type": "code",
   "execution_count": 17,
   "metadata": {
    "collapsed": false
   },
   "outputs": [
    {
     "name": "stdout",
     "output_type": "stream",
     "text": [
      "Loss in epoch Initial: [-678714.06]\n",
      "Compile to backend complete!\n",
      "Time: 15\n",
      "Best Cost: -52576.1328125\n",
      "MEAN: -52743.61328125, STD:104.7284164428711\n",
      "Time: 30\n",
      "Best Cost: -44027.0546875\n",
      "MEAN: -45697.34375, STD:928.7515258789062\n",
      "Time: 60\n",
      "Best Cost: -41449.15625\n",
      "MEAN: -41989.40234375, STD:287.32110595703125\n",
      "Time: 120\n",
      "Best Cost: -39299.4375\n",
      "MEAN: -40135.1953125, STD:467.24072265625\n",
      "Time: 240\n",
      "Best Cost: -35615.4765625\n",
      "MEAN: -38474.69921875, STD:1684.4619140625\n",
      "Time: 480\n",
      "Best Cost: -35615.4765625\n",
      "MEAN: -38683.0078125, STD:1428.0198974609375\n",
      "Time: 960\n",
      "Best Cost: -35615.4765625\n",
      "MEAN: -38644.4609375, STD:466.4219665527344\n",
      "Done!\n"
     ]
    }
   ],
   "source": [
    "rnn_inst.Optimize()"
   ]
  },
  {
   "cell_type": "code",
   "execution_count": null,
   "metadata": {
    "collapsed": false
   },
   "outputs": [
    {
     "name": "stdout",
     "output_type": "stream",
     "text": [
      "Tensor(\"Reshape:0\", shape=(100, 96, 60), dtype=float32)\n",
      "self.adj shape:(60, 60)\n",
      "action batch size:Tensor(\"strided_slice:0\", shape=(), dtype=int32)\n",
      "Initial_state shape:Tensor(\"add:0\", shape=(100, 60), dtype=float32)\n",
      "state shape:(100, 60)\n",
      "neighbor_info shape:(100, 60)\n",
      "hall_info shape:(100, 60)\n",
      "self.pred:Tensor(\"Sum:0\", shape=(100, 1), dtype=float32)\n",
      "MSE-loss\n",
      "()\n"
     ]
    }
   ],
   "source": [
    "tf.reset_default_graph()\n",
    "a = tf.Variable(initial_a,name=\"action\")\n",
    "rnn_inst = ActionOptimizer(a, 96,100,\"MSE\") "
   ]
  },
  {
   "cell_type": "code",
   "execution_count": null,
   "metadata": {
    "collapsed": false
   },
   "outputs": [
    {
     "name": "stdout",
     "output_type": "stream",
     "text": [
      "Loss in epoch Initial: [-678714.06]\n",
      "Compile to backend complete!\n",
      "Time: 15\n",
      "Best Cost: -51001.4375\n",
      "MEAN: -51744.91796875, STD:661.349609375\n",
      "Time: 30\n",
      "Best Cost: -44096.3203125\n",
      "MEAN: -45665.70703125, STD:786.9991455078125\n"
     ]
    }
   ],
   "source": [
    "rnn_inst.Optimize()"
   ]
  },
  {
   "cell_type": "code",
   "execution_count": null,
   "metadata": {
    "collapsed": true
   },
   "outputs": [],
   "source": []
  }
 ],
 "metadata": {
  "kernelspec": {
   "display_name": "Python 3",
   "language": "python",
   "name": "python3"
  },
  "language_info": {
   "codemirror_mode": {
    "name": "ipython",
    "version": 3
   },
   "file_extension": ".py",
   "mimetype": "text/x-python",
   "name": "python",
   "nbconvert_exporter": "python",
   "pygments_lexer": "ipython3",
   "version": "3.4.3"
  }
 },
 "nbformat": 4,
 "nbformat_minor": 2
}
