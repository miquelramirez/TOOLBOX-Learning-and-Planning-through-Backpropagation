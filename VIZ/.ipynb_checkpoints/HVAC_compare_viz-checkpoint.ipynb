{
 "cells": [
  {
   "cell_type": "code",
   "execution_count": 1,
   "metadata": {
    "collapsed": false
   },
   "outputs": [],
   "source": [
    "%matplotlib inline\n",
    "import random\n",
    "import os\n",
    "import json\n",
    "import sys\n",
    "import string\n",
    "import unicodedata\n",
    "import pandas as pd\n",
    "import numpy as np\n",
    "import matplotlib.pyplot as plt\n",
    "import matplotlib.patches as patches\n",
    "import matplotlib as mpl"
   ]
  },
  {
   "cell_type": "code",
   "execution_count": 2,
   "metadata": {
    "collapsed": true
   },
   "outputs": [],
   "source": [
    "#Given local path, find full path\n",
    "def PathFinder(path):\n",
    "    #python 2\n",
    "    #script_dir = os.path.dirname('__file__')\n",
    "    #fullpath = os.path.join(script_dir,path)\n",
    "    #python 3\n",
    "    fullpath=os.path.abspath(path)\n",
    "    print(fullpath)\n",
    "    return fullpath\n",
    "\n",
    "#Read Data for Deep Learning\n",
    "def ReadData(path):\n",
    "    fullpath=PathFinder(path)\n",
    "    return pd.read_csv(fullpath, sep=',', header=0,index_col=False)"
   ]
  },
  {
   "cell_type": "code",
   "execution_count": 3,
   "metadata": {
    "collapsed": false
   },
   "outputs": [
    {
     "name": "stdout",
     "output_type": "stream",
     "text": [
      "/home/wuga/Documents/Notebook/VAE-PLANNING/DATA/VIZ/HVAC_compare.txt\n"
     ]
    }
   ],
   "source": [
    "data_final_df=ReadData('../DATA/VIZ/HVAC_compare.txt')"
   ]
  },
  {
   "cell_type": "code",
   "execution_count": 4,
   "metadata": {
    "collapsed": false
   },
   "outputs": [
    {
     "data": {
      "text/html": [
       "<div>\n",
       "<table border=\"1\" class=\"dataframe\">\n",
       "  <thead>\n",
       "    <tr style=\"text-align: right;\">\n",
       "      <th></th>\n",
       "      <th>Domain_Type</th>\n",
       "      <th>Horizon</th>\n",
       "      <th>GD</th>\n",
       "      <th>FMC</th>\n",
       "      <th>Heuristic</th>\n",
       "    </tr>\n",
       "  </thead>\n",
       "  <tbody>\n",
       "    <tr>\n",
       "      <th>0</th>\n",
       "      <td>Nonlinear</td>\n",
       "      <td>12</td>\n",
       "      <td>-18617.0742</td>\n",
       "      <td>-49443</td>\n",
       "      <td>-19634.2235</td>\n",
       "    </tr>\n",
       "    <tr>\n",
       "      <th>1</th>\n",
       "      <td>Nonlinear</td>\n",
       "      <td>24</td>\n",
       "      <td>-20394.2421</td>\n",
       "      <td>-123700</td>\n",
       "      <td>-22264.7828</td>\n",
       "    </tr>\n",
       "    <tr>\n",
       "      <th>2</th>\n",
       "      <td>Nonlinear</td>\n",
       "      <td>48</td>\n",
       "      <td>-25141.4218</td>\n",
       "      <td>-275500</td>\n",
       "      <td>-27591.0318</td>\n",
       "    </tr>\n",
       "    <tr>\n",
       "      <th>3</th>\n",
       "      <td>Nonlinear</td>\n",
       "      <td>96</td>\n",
       "      <td>-34706.9882</td>\n",
       "      <td>-595200</td>\n",
       "      <td>-38243.5554</td>\n",
       "    </tr>\n",
       "  </tbody>\n",
       "</table>\n",
       "</div>"
      ],
      "text/plain": [
       "  Domain_Type  Horizon          GD     FMC   Heuristic\n",
       "0   Nonlinear       12 -18617.0742  -49443 -19634.2235\n",
       "1   Nonlinear       24 -20394.2421 -123700 -22264.7828\n",
       "2   Nonlinear       48 -25141.4218 -275500 -27591.0318\n",
       "3   Nonlinear       96 -34706.9882 -595200 -38243.5554"
      ]
     },
     "execution_count": 4,
     "metadata": {},
     "output_type": "execute_result"
    }
   ],
   "source": [
    "data_final_df"
   ]
  },
  {
   "cell_type": "code",
   "execution_count": 5,
   "metadata": {
    "collapsed": false
   },
   "outputs": [
    {
     "data": {
      "image/png": "[encoded data removed]",
      "text/plain": [
       "<matplotlib.figure.Figure at 0x7f6210f7e898>"
      ]
     },
     "metadata": {},
     "output_type": "display_data"
    }
   ],
   "source": [
    "dfs = data_final_df.groupby(['Domain_Type'])\n",
    "counter=0\n",
    "leg=list(range(3))\n",
    "for name,group in dfs:\n",
    "    plot = group[['Domain_Type','Horizon','GD','FMC','Heuristic']].plot(kind='bar', color=['blue','green','red'],x=['Domain_Type','Horizon'], legend=False)\n",
    "    fig = plot.get_figure()\n",
    "    ax = fig.add_subplot(111)\n",
    "    ax.yaxis.tick_right()\n",
    "    fig.set_size_inches(4, 4)\n",
    "    plt.xticks(rotation=10)\n",
    "    #plt.yticks(rotation=15)\n",
    "    plt.ylabel('Total Reward')\n",
    "    #plt.xlabel('Domain,Size,Horizon')\n",
    "    plt.gca().invert_yaxis()\n",
    "    plt.xlabel('Problem Instance')\n",
    "    plt.tight_layout()\n",
    "    if counter ==0:\n",
    "        plt.legend(fancybox=True,loc='upper left', prop={'size':7})\n",
    "    #leg[counter].get_frame().set_alpha(0.5)\n",
    "    counter=counter+1\n",
    "    plt.savefig('../PLOTS/HVAC_'+name+'_BAR.eps',format='eps')"
   ]
  }
 ],
 "metadata": {
  "kernelspec": {
   "display_name": "Python 3",
   "language": "python",
   "name": "python3"
  },
  "language_info": {
   "codemirror_mode": {
    "name": "ipython",
    "version": 3
   },
   "file_extension": ".py",
   "mimetype": "text/x-python",
   "name": "python",
   "nbconvert_exporter": "python",
   "pygments_lexer": "ipython3",
   "version": "3.4.3"
  }
 },
 "nbformat": 4,
 "nbformat_minor": 2
}
