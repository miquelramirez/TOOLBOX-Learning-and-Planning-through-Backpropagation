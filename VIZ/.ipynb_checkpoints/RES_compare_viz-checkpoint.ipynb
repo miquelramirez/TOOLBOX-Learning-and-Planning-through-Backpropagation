{
 "cells": [
  {
   "cell_type": "code",
   "execution_count": 1,
   "metadata": {
    "collapsed": false
   },
   "outputs": [],
   "source": [
    "%matplotlib inline\n",
    "import random\n",
    "import os\n",
    "import json\n",
    "import sys\n",
    "import string\n",
    "import unicodedata\n",
    "import pandas as pd\n",
    "import numpy as np\n",
    "import matplotlib.pyplot as plt\n",
    "import matplotlib.patches as patches\n",
    "import matplotlib as mpl\n",
    "import seaborn as sns"
   ]
  },
  {
   "cell_type": "code",
   "execution_count": 2,
   "metadata": {
    "collapsed": true
   },
   "outputs": [],
   "source": [
    "#Given local path, find full path\n",
    "def PathFinder(path):\n",
    "    #python 2\n",
    "    #script_dir = os.path.dirname('__file__')\n",
    "    #fullpath = os.path.join(script_dir,path)\n",
    "    #python 3\n",
    "    fullpath=os.path.abspath(path)\n",
    "    print(fullpath)\n",
    "    return fullpath\n",
    "\n",
    "#Read Data for Deep Learning\n",
    "def ReadData(path):\n",
    "    fullpath=PathFinder(path)\n",
    "    return pd.read_csv(fullpath, sep=',', header=0,index_col=False)"
   ]
  },
  {
   "cell_type": "code",
   "execution_count": 3,
   "metadata": {
    "collapsed": false
   },
   "outputs": [
    {
     "name": "stdout",
     "output_type": "stream",
     "text": [
      "/home/wuga/Documents/Notebook/VAE-PLANNING/DATA/VIZ/RES_compare.txt\n"
     ]
    }
   ],
   "source": [
    "data_final_df=ReadData('../DATA/VIZ/RES_compare.txt')"
   ]
  },
  {
   "cell_type": "code",
   "execution_count": 4,
   "metadata": {
    "collapsed": false
   },
   "outputs": [
    {
     "data": {
      "text/html": [
       "<div>\n",
       "<table border=\"1\" class=\"dataframe\">\n",
       "  <thead>\n",
       "    <tr style=\"text-align: right;\">\n",
       "      <th></th>\n",
       "      <th>Domain_Type</th>\n",
       "      <th>Horizon</th>\n",
       "      <th>TF</th>\n",
       "      <th>MILP</th>\n",
       "      <th>FMC</th>\n",
       "      <th>Heuristic</th>\n",
       "    </tr>\n",
       "  </thead>\n",
       "  <tbody>\n",
       "    <tr>\n",
       "      <th>0</th>\n",
       "      <td>Linear</td>\n",
       "      <td>30</td>\n",
       "      <td>-1777.4105</td>\n",
       "      <td>-1777.41</td>\n",
       "      <td>0.0</td>\n",
       "      <td>-1863.2897</td>\n",
       "    </tr>\n",
       "    <tr>\n",
       "      <th>1</th>\n",
       "      <td>Linear</td>\n",
       "      <td>60</td>\n",
       "      <td>-2254.9523</td>\n",
       "      <td>-2254.96</td>\n",
       "      <td>0.0</td>\n",
       "      <td>-2373.5592</td>\n",
       "    </tr>\n",
       "    <tr>\n",
       "      <th>2</th>\n",
       "      <td>Linear</td>\n",
       "      <td>120</td>\n",
       "      <td>-3097.4951</td>\n",
       "      <td>-3097.50</td>\n",
       "      <td>0.0</td>\n",
       "      <td>-3281.5565</td>\n",
       "    </tr>\n",
       "    <tr>\n",
       "      <th>3</th>\n",
       "      <td>Nonlinear</td>\n",
       "      <td>30</td>\n",
       "      <td>-1056.6219</td>\n",
       "      <td>0.00</td>\n",
       "      <td>-1039.3</td>\n",
       "      <td>-1610.4642</td>\n",
       "    </tr>\n",
       "    <tr>\n",
       "      <th>4</th>\n",
       "      <td>Nonlinear</td>\n",
       "      <td>60</td>\n",
       "      <td>-1490.1115</td>\n",
       "      <td>0.00</td>\n",
       "      <td>-2479.4</td>\n",
       "      <td>-2589.7871</td>\n",
       "    </tr>\n",
       "    <tr>\n",
       "      <th>5</th>\n",
       "      <td>Nonlinear</td>\n",
       "      <td>120</td>\n",
       "      <td>-2353.7919</td>\n",
       "      <td>0.00</td>\n",
       "      <td>-124520.0</td>\n",
       "      <td>-4548.4012</td>\n",
       "    </tr>\n",
       "  </tbody>\n",
       "</table>\n",
       "</div>"
      ],
      "text/plain": [
       "  Domain_Type  Horizon         TF     MILP       FMC  Heuristic\n",
       "0      Linear       30 -1777.4105 -1777.41       0.0 -1863.2897\n",
       "1      Linear       60 -2254.9523 -2254.96       0.0 -2373.5592\n",
       "2      Linear      120 -3097.4951 -3097.50       0.0 -3281.5565\n",
       "3   Nonlinear       30 -1056.6219     0.00   -1039.3 -1610.4642\n",
       "4   Nonlinear       60 -1490.1115     0.00   -2479.4 -2589.7871\n",
       "5   Nonlinear      120 -2353.7919     0.00 -124520.0 -4548.4012"
      ]
     },
     "execution_count": 4,
     "metadata": {},
     "output_type": "execute_result"
    }
   ],
   "source": [
    "data_final_df"
   ]
  },
  {
   "cell_type": "code",
   "execution_count": 5,
   "metadata": {
    "collapsed": false
   },
   "outputs": [
    {
     "data": {
      "image/png": "[encoded data removed]",
      "text/plain": [
       "<matplotlib.figure.Figure at 0x7f087f5f33c8>"
      ]
     },
     "metadata": {},
     "output_type": "display_data"
    },
    {
     "data": {
      "image/png": "[encoded data removed]",
      "text/plain": [
       "<matplotlib.figure.Figure at 0x7f087d4fde48>"
      ]
     },
     "metadata": {},
     "output_type": "display_data"
    }
   ],
   "source": [
    "dfs = data_final_df.groupby(['Domain_Type'])\n",
    "current_palette = sns.color_palette()\n",
    "counter=0\n",
    "leg=list(range(3))\n",
    "for name,group in dfs:\n",
    "    if name == 'Linear' or name =='Bilinear':\n",
    "        plot = group[['Domain_Type','Horizon','Heuristic','MILP','TF']].plot(kind='bar', color=current_palette,x=['Horizon'], legend=False)\n",
    "    else:\n",
    "        current_palette[1]=current_palette[3]\n",
    "        plot = group[['Domain_Type','Horizon','Heuristic','FMC','TF']].plot(kind='bar', color=current_palette,x=['Horizon'], legend=False)\n",
    "    fig = plot.get_figure()\n",
    "    ax = fig.add_subplot(111)\n",
    "    ax.yaxis.tick_right()\n",
    "    if name == 'Nonlinear':\n",
    "        ax.set_ylim([-10000,0])\n",
    "    fig.set_size_inches(4, 2)\n",
    "    if name == 'Linear' or name =='Bilinear':\n",
    "        hatches = ['//', 'x','\\\\']\n",
    "    else:\n",
    "        hatches = ['//','+','\\\\']\n",
    "    for i,thisbar in enumerate(plot.patches):\n",
    "        if(i<3):\n",
    "            thisbar.set_hatch(hatches[0])\n",
    "        elif(i<6):\n",
    "            thisbar.set_hatch(hatches[1])\n",
    "        else:\n",
    "            thisbar.set_hatch(hatches[2])\n",
    "    plt.xticks(rotation=0)\n",
    "    #plt.yticks(rotation=15)\n",
    "    plt.ylabel('Total Reward')\n",
    "    #plt.xlabel('Domain,Size,Horizon')\n",
    "    plt.gca().invert_yaxis()\n",
    "    plt.xlabel('Horizon')\n",
    "    plt.tight_layout()\n",
    "    #if counter ==1:\n",
    "    #    plt.legend(fancybox=True,loc='upper left', prop={'size':7})\n",
    "    #leg[counter].get_frame().set_alpha(0.5)\n",
    "    counter=counter+1\n",
    "    plt.savefig('../PLOTS/RES_'+name+'_BAR.eps',format='eps')"
   ]
  },
  {
   "cell_type": "code",
   "execution_count": null,
   "metadata": {
    "collapsed": true
   },
   "outputs": [],
   "source": []
  }
 ],
 "metadata": {
  "kernelspec": {
   "display_name": "Python 3",
   "language": "python",
   "name": "python3"
  },
  "language_info": {
   "codemirror_mode": {
    "name": "ipython",
    "version": 3
   },
   "file_extension": ".py",
   "mimetype": "text/x-python",
   "name": "python",
   "nbconvert_exporter": "python",
   "pygments_lexer": "ipython3",
   "version": "3.4.3"
  }
 },
 "nbformat": 4,
 "nbformat_minor": 2
}
