{
 "cells": [
  {
   "cell_type": "code",
   "execution_count": 1,
   "metadata": {
    "collapsed": false
   },
   "outputs": [],
   "source": [
    "%matplotlib inline\n",
    "import random\n",
    "import os\n",
    "import json\n",
    "import sys\n",
    "import string\n",
    "import unicodedata\n",
    "import numpy as np\n",
    "import pandas as pd\n",
    "import seaborn as sns\n",
    "import itertools\n",
    "import matplotlib.pyplot as plt\n",
    "import matplotlib.ticker as mtick"
   ]
  },
  {
   "cell_type": "code",
   "execution_count": 2,
   "metadata": {
    "collapsed": true
   },
   "outputs": [],
   "source": [
    "#Given local path, find full path\n",
    "def PathFinder(path):\n",
    "    script_dir = os.path.dirname('__file__')\n",
    "    fullpath = os.path.join(script_dir,path)\n",
    "    return fullpath\n",
    "\n",
    "#Read Data for Deep Learning\n",
    "def ReadData(path):\n",
    "    fullpath=PathFinder(path)\n",
    "    return pd.read_csv(fullpath,delimiter=',')"
   ]
  },
  {
   "cell_type": "code",
   "execution_count": 3,
   "metadata": {
    "collapsed": false
   },
   "outputs": [],
   "source": [
    "df=ReadData('../DATA/VIZ/RES_curve/RES_curve.txt')"
   ]
  },
  {
   "cell_type": "code",
   "execution_count": null,
   "metadata": {
    "collapsed": false
   },
   "outputs": [],
   "source": []
  },
  {
   "cell_type": "code",
   "execution_count": null,
   "metadata": {
    "collapsed": false
   },
   "outputs": [],
   "source": []
  },
  {
   "cell_type": "code",
   "execution_count": 4,
   "metadata": {
    "collapsed": false
   },
   "outputs": [
    {
     "data": {
      "text/html": [
       "<div>\n",
       "<table border=\"1\" class=\"dataframe\">\n",
       "  <thead>\n",
       "    <tr style=\"text-align: right;\">\n",
       "      <th></th>\n",
       "      <th>Time</th>\n",
       "      <th>TF</th>\n",
       "      <th>FMC</th>\n",
       "    </tr>\n",
       "  </thead>\n",
       "  <tbody>\n",
       "    <tr>\n",
       "      <th>0</th>\n",
       "      <td>15s</td>\n",
       "      <td>-4439.0585</td>\n",
       "      <td>-8913.4</td>\n",
       "    </tr>\n",
       "    <tr>\n",
       "      <th>1</th>\n",
       "      <td>30s</td>\n",
       "      <td>-3424.6591</td>\n",
       "      <td>-7492.5</td>\n",
       "    </tr>\n",
       "    <tr>\n",
       "      <th>2</th>\n",
       "      <td>60s</td>\n",
       "      <td>-2920.1115</td>\n",
       "      <td>-7028.8</td>\n",
       "    </tr>\n",
       "    <tr>\n",
       "      <th>3</th>\n",
       "      <td>2m</td>\n",
       "      <td>-2307.9462</td>\n",
       "      <td>-5497.6</td>\n",
       "    </tr>\n",
       "    <tr>\n",
       "      <th>4</th>\n",
       "      <td>4m</td>\n",
       "      <td>-1876.5528</td>\n",
       "      <td>-4675.3</td>\n",
       "    </tr>\n",
       "    <tr>\n",
       "      <th>5</th>\n",
       "      <td>8m</td>\n",
       "      <td>-1471.7763</td>\n",
       "      <td>-4224.9</td>\n",
       "    </tr>\n",
       "    <tr>\n",
       "      <th>6</th>\n",
       "      <td>16m</td>\n",
       "      <td>-1471.7763</td>\n",
       "      <td>-2479.4</td>\n",
       "    </tr>\n",
       "  </tbody>\n",
       "</table>\n",
       "</div>"
      ],
      "text/plain": [
       "  Time         TF     FMC\n",
       "0  15s -4439.0585 -8913.4\n",
       "1  30s -3424.6591 -7492.5\n",
       "2  60s -2920.1115 -7028.8\n",
       "3   2m -2307.9462 -5497.6\n",
       "4   4m -1876.5528 -4675.3\n",
       "5   8m -1471.7763 -4224.9\n",
       "6  16m -1471.7763 -2479.4"
      ]
     },
     "execution_count": 4,
     "metadata": {},
     "output_type": "execute_result"
    }
   ],
   "source": [
    "df"
   ]
  },
  {
   "cell_type": "code",
   "execution_count": 6,
   "metadata": {
    "collapsed": false
   },
   "outputs": [
    {
     "data": {
      "image/png": "[encoded data removed]",
      "text/plain": [
       "<matplotlib.figure.Figure at 0x7f02c8f5ca20>"
      ]
     },
     "metadata": {},
     "output_type": "display_data"
    }
   ],
   "source": [
    "current_palette = sns.color_palette(\"Set2\", 4)\n",
    "ax=df[['TF','FMC']].plot(color=current_palette,figsize=(4,3.5))\n",
    "ax.yaxis.tick_right()\n",
    "ax.set_xticklabels(df['Time'])\n",
    "#ax.yaxis.set_major_formatter(mtick.FormatStrFormatter('%.1e'))\n",
    "plt.ylabel('Total Reward')\n",
    "plt.xlabel('Time')\n",
    "plt.tight_layout()\n",
    "plt.gca().invert_yaxis()\n",
    "plt.legend(fancybox=True,loc='upper right', prop={'size':10})\n",
    "plt.savefig('../PLOTS/RES_timing.eps',format='eps')"
   ]
  },
  {
   "cell_type": "code",
   "execution_count": null,
   "metadata": {
    "collapsed": true
   },
   "outputs": [],
   "source": []
  },
  {
   "cell_type": "code",
   "execution_count": null,
   "metadata": {
    "collapsed": true
   },
   "outputs": [],
   "source": []
  }
 ],
 "metadata": {
  "kernelspec": {
   "display_name": "Python 3",
   "language": "python",
   "name": "python3"
  },
  "language_info": {
   "codemirror_mode": {
    "name": "ipython",
    "version": 3
   },
   "file_extension": ".py",
   "mimetype": "text/x-python",
   "name": "python",
   "nbconvert_exporter": "python",
   "pygments_lexer": "ipython3",
   "version": "3.4.3"
  }
 },
 "nbformat": 4,
 "nbformat_minor": 2
}
