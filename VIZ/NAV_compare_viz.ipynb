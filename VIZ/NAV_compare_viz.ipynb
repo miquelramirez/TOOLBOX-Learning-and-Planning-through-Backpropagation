{
 "cells": [
  {
   "cell_type": "code",
   "execution_count": 1,
   "metadata": {
    "collapsed": false
   },
   "outputs": [],
   "source": [
    "%matplotlib inline\n",
    "import random\n",
    "import os\n",
    "import json\n",
    "import sys\n",
    "import string\n",
    "import unicodedata\n",
    "import pandas as pd\n",
    "import numpy as np\n",
    "import matplotlib.pyplot as plt\n",
    "import matplotlib.patches as patches\n",
    "import matplotlib as mpl\n",
    "import seaborn as sns"
   ]
  },
  {
   "cell_type": "code",
   "execution_count": 2,
   "metadata": {
    "collapsed": true
   },
   "outputs": [],
   "source": [
    "#Given local path, find full path\n",
    "def PathFinder(path):\n",
    "    #python 2\n",
    "    #script_dir = os.path.dirname('__file__')\n",
    "    #fullpath = os.path.join(script_dir,path)\n",
    "    #python 3\n",
    "    fullpath=os.path.abspath(path)\n",
    "    print(fullpath)\n",
    "    return fullpath\n",
    "\n",
    "#Read Data for Deep Learning\n",
    "def ReadData(path):\n",
    "    fullpath=PathFinder(path)\n",
    "    return pd.read_csv(fullpath, sep=',', header=0,index_col=False)"
   ]
  },
  {
   "cell_type": "code",
   "execution_count": 3,
   "metadata": {
    "collapsed": false
   },
   "outputs": [
    {
     "name": "stdout",
     "output_type": "stream",
     "text": [
      "/home/wuga/Documents/Notebook/VAE-PLANNING/DATA/VIZ/NAV_compare.txt\n"
     ]
    }
   ],
   "source": [
    "data_final_df=ReadData('../DATA/VIZ/NAV_compare.txt')"
   ]
  },
  {
   "cell_type": "code",
   "execution_count": 4,
   "metadata": {
    "collapsed": false
   },
   "outputs": [
    {
     "data": {
      "text/html": [
       "<div>\n",
       "<table border=\"1\" class=\"dataframe\">\n",
       "  <thead>\n",
       "    <tr style=\"text-align: right;\">\n",
       "      <th></th>\n",
       "      <th>Domain_Type</th>\n",
       "      <th>Horizon</th>\n",
       "      <th>GD</th>\n",
       "      <th>MILP</th>\n",
       "      <th>FMC</th>\n",
       "      <th>Heuristic</th>\n",
       "    </tr>\n",
       "  </thead>\n",
       "  <tbody>\n",
       "    <tr>\n",
       "      <th>0</th>\n",
       "      <td>Linear</td>\n",
       "      <td>30</td>\n",
       "      <td>-201.7576</td>\n",
       "      <td>-184.400</td>\n",
       "      <td>-1.0000</td>\n",
       "      <td>-244.9999</td>\n",
       "    </tr>\n",
       "    <tr>\n",
       "      <th>1</th>\n",
       "      <td>Linear</td>\n",
       "      <td>60</td>\n",
       "      <td>-339.3773</td>\n",
       "      <td>-304.220</td>\n",
       "      <td>-1.0000</td>\n",
       "      <td>-469.5000</td>\n",
       "    </tr>\n",
       "    <tr>\n",
       "      <th>2</th>\n",
       "      <td>Linear</td>\n",
       "      <td>120</td>\n",
       "      <td>-545.2414</td>\n",
       "      <td>-453.000</td>\n",
       "      <td>-1.0000</td>\n",
       "      <td>-867.7800</td>\n",
       "    </tr>\n",
       "    <tr>\n",
       "      <th>3</th>\n",
       "      <td>Bilinear</td>\n",
       "      <td>30</td>\n",
       "      <td>-185.6707</td>\n",
       "      <td>-184.028</td>\n",
       "      <td>-1.0000</td>\n",
       "      <td>-240.9839</td>\n",
       "    </tr>\n",
       "    <tr>\n",
       "      <th>4</th>\n",
       "      <td>Bilinear</td>\n",
       "      <td>60</td>\n",
       "      <td>-303.5162</td>\n",
       "      <td>-306.987</td>\n",
       "      <td>-1.0000</td>\n",
       "      <td>-459.6587</td>\n",
       "    </tr>\n",
       "    <tr>\n",
       "      <th>5</th>\n",
       "      <td>Bilinear</td>\n",
       "      <td>120</td>\n",
       "      <td>-462.7990</td>\n",
       "      <td>-451.643</td>\n",
       "      <td>-1.0000</td>\n",
       "      <td>-867.9993</td>\n",
       "    </tr>\n",
       "    <tr>\n",
       "      <th>6</th>\n",
       "      <td>Nonlinear</td>\n",
       "      <td>30</td>\n",
       "      <td>-152.5529</td>\n",
       "      <td>-1.000</td>\n",
       "      <td>-155.2236</td>\n",
       "      <td>-196.2686</td>\n",
       "    </tr>\n",
       "    <tr>\n",
       "      <th>7</th>\n",
       "      <td>Nonlinear</td>\n",
       "      <td>60</td>\n",
       "      <td>-249.9112</td>\n",
       "      <td>-1.000</td>\n",
       "      <td>-253.8902</td>\n",
       "      <td>-326.6541</td>\n",
       "    </tr>\n",
       "    <tr>\n",
       "      <th>8</th>\n",
       "      <td>Nonlinear</td>\n",
       "      <td>120</td>\n",
       "      <td>-376.3792</td>\n",
       "      <td>-1.000</td>\n",
       "      <td>-377.0878</td>\n",
       "      <td>-488.4085</td>\n",
       "    </tr>\n",
       "  </tbody>\n",
       "</table>\n",
       "</div>"
      ],
      "text/plain": [
       "  Domain_Type  Horizon        GD     MILP       FMC  Heuristic\n",
       "0      Linear       30 -201.7576 -184.400   -1.0000  -244.9999\n",
       "1      Linear       60 -339.3773 -304.220   -1.0000  -469.5000\n",
       "2      Linear      120 -545.2414 -453.000   -1.0000  -867.7800\n",
       "3    Bilinear       30 -185.6707 -184.028   -1.0000  -240.9839\n",
       "4    Bilinear       60 -303.5162 -306.987   -1.0000  -459.6587\n",
       "5    Bilinear      120 -462.7990 -451.643   -1.0000  -867.9993\n",
       "6   Nonlinear       30 -152.5529   -1.000 -155.2236  -196.2686\n",
       "7   Nonlinear       60 -249.9112   -1.000 -253.8902  -326.6541\n",
       "8   Nonlinear      120 -376.3792   -1.000 -377.0878  -488.4085"
      ]
     },
     "execution_count": 4,
     "metadata": {},
     "output_type": "execute_result"
    }
   ],
   "source": [
    "data_final_df"
   ]
  },
  {
   "cell_type": "code",
   "execution_count": 8,
   "metadata": {
    "collapsed": false
   },
   "outputs": [
    {
     "data": {
      "image/png": "[encoded data removed]",
      "text/plain": [
       "<matplotlib.figure.Figure at 0x7f3321a7d5f8>"
      ]
     },
     "metadata": {},
     "output_type": "display_data"
    },
    {
     "data": {
      "image/png": "[encoded data removed]",
      "text/plain": [
       "<matplotlib.figure.Figure at 0x7f3321a0e940>"
      ]
     },
     "metadata": {},
     "output_type": "display_data"
    },
    {
     "data": {
      "image/png": "[encoded data removed]",
      "text/plain": [
       "<matplotlib.figure.Figure at 0x7f332199cac8>"
      ]
     },
     "metadata": {},
     "output_type": "display_data"
    }
   ],
   "source": [
    "dfs = data_final_df.groupby(['Domain_Type'])\n",
    "counter=0\n",
    "current_palette = sns.color_palette()\n",
    "leg=list(range(3))\n",
    "for name,group in dfs:\n",
    "    plot = group[['Domain_Type','Horizon','MILP','GD','Heuristic','FMC']].plot(kind='bar', color=current_palette,x=['Horizon'], legend=False)\n",
    "    fig = plot.get_figure()\n",
    "    ax = fig.add_subplot(111)\n",
    "    ax.yaxis.tick_right()\n",
    "    fig.set_size_inches(4, 2)\n",
    "    plt.xticks(rotation=0)\n",
    "    #plt.yticks(rotation=15)\n",
    "    plt.ylabel('Total Reward')\n",
    "    #plt.xlabel('Domain,Size,Horizon')\n",
    "    plt.gca().invert_yaxis()\n",
    "    plt.xlabel('Horizon')\n",
    "    plt.tight_layout()\n",
    "    if counter ==1 or counter ==2:\n",
    "        plt.legend(fancybox=True,loc='upper left', prop={'size':7})\n",
    "    #leg[counter].get_frame().set_alpha(0.5)\n",
    "    counter=counter+1\n",
    "    plt.savefig('../PLOTS/NAV_'+name+'_BAR.eps',format='eps')"
   ]
  },
  {
   "cell_type": "code",
   "execution_count": null,
   "metadata": {
    "collapsed": true
   },
   "outputs": [],
   "source": []
  }
 ],
 "metadata": {
  "kernelspec": {
   "display_name": "Python 3",
   "language": "python",
   "name": "python3"
  },
  "language_info": {
   "codemirror_mode": {
    "name": "ipython",
    "version": 3
   },
   "file_extension": ".py",
   "mimetype": "text/x-python",
   "name": "python",
   "nbconvert_exporter": "python",
   "pygments_lexer": "ipython3",
   "version": "3.4.3"
  }
 },
 "nbformat": 4,
 "nbformat_minor": 2
}
