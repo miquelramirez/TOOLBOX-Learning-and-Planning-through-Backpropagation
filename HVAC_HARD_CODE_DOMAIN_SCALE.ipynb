{
 "cells": [
  {
   "cell_type": "code",
   "execution_count": 1,
   "metadata": {
    "collapsed": true
   },
   "outputs": [],
   "source": [
    "%matplotlib inline\n",
    "import matplotlib.pyplot as plt\n",
    "import tensorflow as tf\n",
    "import numpy as np\n",
    "from sklearn.metrics import confusion_matrix\n",
    "import time\n",
    "from datetime import timedelta\n",
    "import math\n",
    "import os\n",
    "import pandas as pd\n",
    "#Functional coding\n",
    "import random\n",
    "import functools\n",
    "from functools import partial\n",
    "from tensorflow.python.ops import array_ops \n",
    "from scipy.stats import truncnorm"
   ]
  },
  {
   "cell_type": "code",
   "execution_count": 2,
   "metadata": {
    "collapsed": false
   },
   "outputs": [
    {
     "data": {
      "text/plain": [
       "True"
      ]
     },
     "execution_count": 2,
     "metadata": {},
     "output_type": "execute_result"
    }
   ],
   "source": [
    "'a' in ['a','b','c']"
   ]
  },
  {
   "cell_type": "code",
   "execution_count": 3,
   "metadata": {
    "collapsed": true
   },
   "outputs": [],
   "source": [
    "Datapath=\"DATA/HVAC/SCALE/HVAC_Data.txt\"\n",
    "Labelpath=\"DATA/HVAC/SCALE/HVAC_Label.txt\"\n",
    "Rewardpath=\"DATA/HVAC/SCALE/HVAC_Reward.txt\""
   ]
  },
  {
   "cell_type": "code",
   "execution_count": 4,
   "metadata": {
    "collapsed": true
   },
   "outputs": [],
   "source": [
    "#Given local path, find full path\n",
    "def PathFinder(path):\n",
    "    #python 2\n",
    "    #script_dir = os.path.dirname('__file__')\n",
    "    #fullpath = os.path.join(script_dir,path)\n",
    "    #python 3\n",
    "    fullpath=os.path.abspath(path)\n",
    "    print(fullpath)\n",
    "    return fullpath\n",
    "\n",
    "#Read Data for Deep Learning\n",
    "def ReadData(path):\n",
    "    fullpath=PathFinder(path)\n",
    "    return pd.read_csv(fullpath, sep=',', header=0)"
   ]
  },
  {
   "cell_type": "code",
   "execution_count": 5,
   "metadata": {
    "collapsed": false
   },
   "outputs": [
    {
     "name": "stdout",
     "output_type": "stream",
     "text": [
      "/home/wuga/Documents/Notebook/VAE-PLANNING/DATA/HVAC/SCALE/HVAC_Data.txt\n",
      "/home/wuga/Documents/Notebook/VAE-PLANNING/DATA/HVAC/SCALE/HVAC_Label.txt\n",
      "/home/wuga/Documents/Notebook/VAE-PLANNING/DATA/HVAC/SCALE/HVAC_Reward.txt\n"
     ]
    }
   ],
   "source": [
    "S_A_pd = ReadData(Datapath)\n",
    "SP_pd = ReadData(Labelpath)\n",
    "R_pd = ReadData(Rewardpath)\n",
    "S_A_matrix=S_A_pd.as_matrix()\n",
    "SP_matrix=SP_pd.as_matrix()\n",
    "R_matrix=R_pd.as_matrix()"
   ]
  },
  {
   "cell_type": "code",
   "execution_count": 6,
   "metadata": {
    "collapsed": true
   },
   "outputs": [],
   "source": [
    "default_settings = {                \n",
    "    \"cap\": tf.constant(80.0,dtype=tf.float32), \n",
    "    \"outside_resist\" : tf.constant(4.0,dtype=tf.float32),\n",
    "    \"hall_resist\" : tf.constant(2.0,dtype=tf.float32),\n",
    "    \"wall_resist\" : tf.constant(1.5,dtype=tf.float32),\n",
    "    \"cap_air\" : tf.constant(1.006,dtype=tf.float32), \n",
    "    \"cost_air\" : tf.constant(1.0,dtype=tf.float32), \n",
    "    \"time_delta\" : tf.constant(1.0,dtype=tf.float32),\n",
    "    \"temp_air\" : tf.constant(40.0,dtype=tf.float32),\n",
    "    \"temp_up\" : tf.constant(23.5,dtype=tf.float32),\n",
    "    \"temp_low\" : tf.constant(20.0,dtype=tf.float32),\n",
    "    \"temp_outside\" : tf.constant(6.0,dtype=tf.float32),\n",
    "    \"temp_hall\" : tf.constant(10.0,dtype=tf.float32),\n",
    "    \"penalty\" : tf.constant(20000.0,dtype=tf.float32),\n",
    "    \"air_max\" : tf.constant(10.0,dtype=tf.float32)\n",
    "   }"
   ]
  },
  {
   "cell_type": "code",
   "execution_count": 7,
   "metadata": {
    "collapsed": false
   },
   "outputs": [],
   "source": [
    "class HVAC(object):\n",
    "    def __init__(self, \n",
    "                 adj_outside, #Adjacent to outside \n",
    "                 adj_hall, #Adjacent to hall\n",
    "                 adj, #Adjacent between rooms\n",
    "                 rooms, #Room names\n",
    "                 default_settings):\n",
    "        self.__dict__.update(default_settings)\n",
    "        self.adj_outside = adj_outside\n",
    "        self.adj_hall = adj_hall\n",
    "        self.adj = adj\n",
    "        self.rooms = rooms\n",
    "        self.zero = tf.constant(0,dtype=tf.float32)\n",
    "        \n",
    "    def ADJ(self, space1, space2):\n",
    "        for pair in self.adj:\n",
    "            if space1 in pair and space2 in pair:\n",
    "                return True\n",
    "        return False\n",
    "                 \n",
    "    def ADJ_OUTSIDE(self,  space):\n",
    "        if space in self.adj_outside:\n",
    "            return True\n",
    "        else:\n",
    "            return False\n",
    "            \n",
    "    def ADJ_HALL(self, space):\n",
    "        if space in self.adj_hall:\n",
    "            return True\n",
    "        else:\n",
    "            return False  \n",
    "        \n",
    "    def R_OUTSIDE(self, space):\n",
    "        return self.outside_resist\n",
    "    \n",
    "    def R_HALL(self, space):\n",
    "        return self.hall_resist\n",
    "    \n",
    "    def R_WALL(self, space1, space2):\n",
    "        return self.wall_resist\n",
    "        \n",
    "    def CAP(self, space):\n",
    "        return self.cap\n",
    "    \n",
    "    def CAP_AIR(self):\n",
    "        return self.cap_air\n",
    "    \n",
    "    def COST_AIR(self):\n",
    "        return self.cost_air\n",
    "    \n",
    "    def TIME_DELTA(self):\n",
    "        return self.time_delta\n",
    "    \n",
    "    def TEMP_AIR(self):\n",
    "        return self.temp_air\n",
    "    \n",
    "    def TEMP_UP(self, space):\n",
    "        return self.temp_up\n",
    "    \n",
    "    def TEMP_LOW(self, space):\n",
    "        return self.temp_low\n",
    "    \n",
    "    def TEMP_OUTSIDE(self, space):\n",
    "        return self.temp_outside\n",
    "    \n",
    "    def TEMP_HALL(self, space):\n",
    "        return self.temp_hall\n",
    "    \n",
    "    def PENALTY(self):\n",
    "        return self.penalty\n",
    "    \n",
    "    def AIR_MAX(self, space):\n",
    "        return self.air_max\n",
    "    \n",
    "    # Single state function, need map to matrix later\n",
    "    def _transition(self, space, states, actions):\n",
    "        \n",
    "        previous_state = states[space]\n",
    "        room_id = self.rooms[space]\n",
    "        heating_info = actions[space]*self.CAP_AIR()*(self.TEMP_AIR()-previous_state)\n",
    "        neighbor_info = self.zero\n",
    "        for i,p in enumerate(self.rooms):\n",
    "            if self.ADJ(room_id,p):\n",
    "                neighbor_info += (states[i]-previous_state)/self.R_WALL(room_id,p)\n",
    "        outside_info = self.zero\n",
    "        if self.ADJ_OUTSIDE(room_id):\n",
    "            outside_info=(self.TEMP_OUTSIDE(room_id)-previous_state)/self.R_OUTSIDE(room_id)\n",
    "        wall_info = self.zero\n",
    "        if self.ADJ_HALL(room_id):\n",
    "            wall_info=(self.TEMP_HALL(room_id)-previous_state)/self.R_HALL(room_id)\n",
    "            \n",
    "        new_state = previous_state + self.TIME_DELTA()/self.CAP(room_id)*(heating_info + neighbor_info + outside_info + wall_info)\n",
    "        return new_state\n",
    "    \n",
    "    # For single data point\n",
    "    def _vector_trans(self, state_size, states_packed, actions_packed):\n",
    "        new_states = []\n",
    "        states = tf.unpack(states_packed)\n",
    "        actions = tf.unpack(actions_packed)\n",
    "        for i in range(state_size):\n",
    "            new_states.append(self._transition(i,states,actions))\n",
    "        return tf.pack(new_states)\n",
    "    \n",
    "    def Transition(self, states, actions):\n",
    "        new_states = []\n",
    "        batch_size,state_size = states.get_shape()\n",
    "        states_list = tf.unpack(states)\n",
    "        actions_list = tf.unpack(actions)\n",
    "        for i in range(batch_size):\n",
    "            new_states.append(self._vector_trans(state_size,states_list[i],actions_list[i]))\n",
    "        return tf.pack(new_states)\n",
    "    \n",
    "    # For single data point\n",
    "    def _reward(self, state_size, states_packed, actions_packed):\n",
    "        reward = self.zero\n",
    "        states = tf.unpack(states_packed)\n",
    "        actions = tf.unpack(actions_packed)\n",
    "        \n",
    "        #For each room\n",
    "        for i in range(state_size):\n",
    "            room_id = self.rooms[i]\n",
    "            #Penalty for breaking upper or lower bound constraints\n",
    "            break_penalty = tf.cond(tf.logical_or(states[i] <self.TEMP_LOW(room_id), states[i] > self.TEMP_UP(room_id)), lambda: self.PENALTY(), lambda: self.zero)\n",
    "                \n",
    "            #Penalty for distance to centre(no bug)\n",
    "            dist_penalty = tf.abs(((self.TEMP_UP(room_id)+self.TEMP_LOW(room_id))/tf.constant(2.0, dtype=tf.float32))-states[i])\n",
    "            \n",
    "            #Penalty for energy cost\n",
    "            ener_penalty = actions[i]*self.COST_AIR()\n",
    "            \n",
    "            #break_penalty+tf.constant(10.0, tf.float32)*dist_penalty\n",
    "            reward -= (break_penalty+tf.constant(10.0, tf.float32)*dist_penalty+ener_penalty)\n",
    "            \n",
    "        return tf.pack([reward])\n",
    "            \n",
    "    def Reward(self, states,actions):\n",
    "        new_rewards = []\n",
    "        batch_size,state_size = states.get_shape()\n",
    "        states_list = tf.unpack(states)\n",
    "        actions_list = tf.unpack(actions)\n",
    "        for i in range(batch_size):\n",
    "            new_rewards.append(self._reward(state_size,states_list[i],actions_list[i]))\n",
    "        return tf.pack(new_rewards)\n",
    "            \n",
    "    \n",
    "                "
   ]
  },
  {
   "cell_type": "code",
   "execution_count": 8,
   "metadata": {
    "collapsed": false
   },
   "outputs": [],
   "source": [
    "adj_hall = [101,102,103,106,107,107,110,\\\n",
    "               201,202,203,206,207,207,210,\\\n",
    "               301,302,303,306,307,307,310,\\\n",
    "               401,402,403,406,407,407,410,\\\n",
    "               501,502,503,506,507,507,510]\n",
    "adj_outside = [101,102,103,104,105,106,108,110,111,112,\\\n",
    "              201,202,203,204,205,206,208,210,211,212,\\\n",
    "              301,302,303,304,305,306,308,310,311,312,\\\n",
    "              401,402,403,404,405,406,408,410,411,412,\\\n",
    "              501,502,503,504,505,506,508,510,511,512]\n",
    "adj = [[101,102],[102,103],[103,104],[104,105],[106,107],[107,108],[107,109],[108,109],[110,111],[111,112],\\\n",
    "       [201,202],[202,203],[203,204],[204,205],[206,207],[207,208],[207,209],[208,209],[210,211],[211,212],\\\n",
    "       [301,302],[302,303],[303,304],[304,305],[306,307],[307,308],[307,309],[308,309],[310,311],[311,312],\\\n",
    "       [401,402],[402,403],[403,404],[404,405],[406,407],[407,408],[407,409],[408,409],[410,411],[411,412],\\\n",
    "       [501,502],[502,503],[503,504],[504,505],[506,507],[507,508],[507,509],[508,509],[510,511],[511,512],\\\n",
    "       [101,201],[102,202],[103,203],[104,204],[105,205],[106,206],[107,207],[108,208],[109,209],[110,201],\\\n",
    "       [111,211],[112,212],[201,301],[202,302],[203,303],[204,304],[205,305],[206,306],[207,307],[208,308],\\\n",
    "       [209,309],[210,301],[211,311],[212,312],[301,401],[302,402],[303,403],[304,404],[305,405],[306,406],\\\n",
    "       [307,407],[308,408],[309,409],[310,401],[311,411],[312,412],[401,501],[402,502],[403,503],[404,504],\\\n",
    "       [405,505],[406,506],[407,507],[408,508],[409,509],[410,501],[411,511],[412,512]]\n",
    "rooms = list(range(101,113))+list(range(201,213))+list(range(301,313))+list(range(401,413))+list(range(501,513))"
   ]
  },
  {
   "cell_type": "code",
   "execution_count": 9,
   "metadata": {
    "collapsed": false
   },
   "outputs": [
    {
     "data": {
      "text/plain": [
       "60"
      ]
     },
     "execution_count": 9,
     "metadata": {},
     "output_type": "execute_result"
    }
   ],
   "source": [
    "len(rooms)"
   ]
  },
  {
   "cell_type": "code",
   "execution_count": 10,
   "metadata": {
    "collapsed": true
   },
   "outputs": [],
   "source": [
    "# States\n",
    "states = tf.placeholder(tf.float32,[10, 60],name=\"States\")\n",
    "\n",
    "# Actions\n",
    "actions = tf.placeholder(tf.float32,[10, 60],name=\"Actions\")"
   ]
  },
  {
   "cell_type": "code",
   "execution_count": 11,
   "metadata": {
    "collapsed": false
   },
   "outputs": [],
   "source": [
    "hvac_inst = HVAC(adj_outside,adj_hall,adj,rooms,default_settings)"
   ]
  },
  {
   "cell_type": "code",
   "execution_count": 12,
   "metadata": {
    "collapsed": false
   },
   "outputs": [
    {
     "name": "stdout",
     "output_type": "stream",
     "text": [
      "[9.9875002]\n",
      "[array([  9.98750019,   9.98750019,   9.98750019,   9.98750019,\n",
      "        12.16804218,   9.98750019,  13.77250004,   9.98750019,\n",
      "        10.        ,   9.98750019,  13.76000023,   9.98750019,\n",
      "        12.593853  ,   9.98750019,   9.98750019,  13.76000023,\n",
      "         9.98750019,   9.98750019,  12.32941437,  13.76000023,\n",
      "        13.77250004,  13.76000023,   9.98750019,   9.98750019,\n",
      "         9.98750019,   9.98750019,  13.41104984,   9.98750019,\n",
      "         9.98750019,   9.98750019,  13.77250004,  13.33965206,\n",
      "        10.        ,   9.98750019,   9.98750019,   9.98750019,\n",
      "         9.98750019,   9.98750019,   9.98750019,   9.98750019,\n",
      "        12.20146179,   9.98750019,  12.92123222,   9.98750019,\n",
      "        13.77250004,   9.98750019,   9.98750019,   9.98750019,\n",
      "        13.76000023,   9.98750019,  13.76000023,   9.98750019,\n",
      "         9.98750019,  13.54452419,  10.        ,  13.76000023,\n",
      "        13.77250004,   9.98750019,   9.98750019,   9.98750019], dtype=float32)]\n",
      "[array([  9.98750019,   9.98750019,   9.98750019,   9.98750019,\n",
      "        12.16804218,   9.98750019,  13.77250004,   9.98750019,\n",
      "        10.        ,   9.98750019,  13.76000023,   9.98750019,\n",
      "        12.593853  ,   9.98750019,   9.98750019,  13.76000023,\n",
      "         9.98750019,   9.98750019,  12.32941437,  13.76000023,\n",
      "        13.77250004,  13.76000023,   9.98750019,   9.98750019,\n",
      "         9.98750019,   9.98750019,  13.41104984,   9.98750019,\n",
      "         9.98750019,   9.98750019,  13.77250004,  13.33965206,\n",
      "        10.        ,   9.98750019,   9.98750019,   9.98750019,\n",
      "         9.98750019,   9.98750019,   9.98750019,   9.98750019,\n",
      "        12.20146179,   9.98750019,  12.92123222,   9.98750019,\n",
      "        13.77250004,   9.98750019,   9.98750019,   9.98750019,\n",
      "        13.76000023,   9.98750019,  13.76000023,   9.98750019,\n",
      "         9.98750019,  13.54452419,  10.        ,  13.76000023,\n",
      "        13.77250004,   9.98750019,   9.98750019,   9.98750019], dtype=float32)]\n"
     ]
    }
   ],
   "source": [
    "states_list=tf.unpack(states)\n",
    "actions_list = tf.unpack(actions)\n",
    "sess = tf.InteractiveSession()\n",
    "sess.run(tf.global_variables_initializer())\n",
    "feed_dict={states:S_A_matrix[:10,60:], actions:S_A_matrix[:10,:60]}\n",
    "new_state = hvac_inst._transition(0,states_list[0],actions_list[0])\n",
    "print(sess.run([new_state], feed_dict=feed_dict))\n",
    "print(sess.run([states_list[1]], feed_dict=feed_dict))\n",
    "print(sess.run([states_list[1]], feed_dict=feed_dict))\n"
   ]
  },
  {
   "cell_type": "code",
   "execution_count": 13,
   "metadata": {
    "collapsed": false
   },
   "outputs": [
    {
     "data": {
      "text/plain": [
       "False"
      ]
     },
     "execution_count": 13,
     "metadata": {},
     "output_type": "execute_result"
    }
   ],
   "source": [
    "hvac_inst.ADJ(4,5)"
   ]
  },
  {
   "cell_type": "code",
   "execution_count": 14,
   "metadata": {
    "collapsed": false
   },
   "outputs": [],
   "source": [
    "new_states=hvac_inst.Transition(states,actions)"
   ]
  },
  {
   "cell_type": "code",
   "execution_count": 15,
   "metadata": {
    "collapsed": false
   },
   "outputs": [
    {
     "data": {
      "text/plain": [
       "TensorShape([Dimension(10), Dimension(60)])"
      ]
     },
     "execution_count": 15,
     "metadata": {},
     "output_type": "execute_result"
    }
   ],
   "source": [
    "states.get_shape()"
   ]
  },
  {
   "cell_type": "code",
   "execution_count": 16,
   "metadata": {
    "collapsed": false
   },
   "outputs": [],
   "source": [
    "feed_dict={states:S_A_matrix[:10,60:], actions:S_A_matrix[:10,:60]}\n",
    "state_prim = sess.run(new_states,feed_dict=feed_dict )"
   ]
  },
  {
   "cell_type": "code",
   "execution_count": 17,
   "metadata": {
    "collapsed": false
   },
   "outputs": [
    {
     "name": "stdout",
     "output_type": "stream",
     "text": [
      "[[  0.           0.           0.           0.           5.78009843   0.\n",
      "   10.           0.           0.           0.          10.           0.\n",
      "    6.90882118   0.           0.          10.           0.           0.\n",
      "    6.17472453  10.          10.          10.           0.           0.\n",
      "    0.           0.           9.07501518   0.           0.           0.\n",
      "   10.           8.88575833   0.           0.           0.           0.\n",
      "    0.           0.           0.           0.           5.86868578   0.\n",
      "    7.7434905    0.          10.           0.           0.           0.\n",
      "   10.           0.          10.           0.           0.           9.42882599\n",
      "    0.          10.          10.           0.           0.           0.        ]\n",
      " [ 10.           0.          10.          10.           0.           0.\n",
      "    0.           0.           0.           0.           0.           8.16794895\n",
      "    0.           0.           0.           0.           0.           0.\n",
      "    6.21227432  10.           0.           0.           0.           0.\n",
      "    0.           0.          10.           0.           0.          10.\n",
      "    0.           0.           0.           0.           0.          10.\n",
      "    0.           8.62530401   0.           0.           0.          10.\n",
      "    0.           0.           0.           0.           8.24356951\n",
      "    7.29214837   0.           0.           0.           5.41302781  10.\n",
      "    6.11837392  10.           6.29528666  10.           0.           0.\n",
      "   10.        ]\n",
      " [ 10.           5.93413974  10.           0.           0.           0.\n",
      "    0.          10.           0.          10.           0.           0.\n",
      "    0.           5.85469142   0.           0.           0.           0.\n",
      "   10.           0.          10.           0.          10.           0.\n",
      "   10.           0.           6.85282018   0.           0.          10.\n",
      "    6.68562729   0.          10.          10.           0.          10.\n",
      "    0.           0.           0.           0.           0.           0.\n",
      "    0.           0.           0.           0.           0.           0.\n",
      "    0.           0.           0.          10.           0.           0.\n",
      "    0.           0.           0.          10.           9.22115078\n",
      "    5.14582526]]\n"
     ]
    }
   ],
   "source": [
    "print(S_A_matrix[:3,:60])"
   ]
  },
  {
   "cell_type": "code",
   "execution_count": 18,
   "metadata": {
    "collapsed": false
   },
   "outputs": [
    {
     "name": "stdout",
     "output_type": "stream",
     "text": [
      "[[ 10.          10.          10.          10.          10.          10.\n",
      "   10.          10.          10.          10.          10.          10.\n",
      "   10.          10.          10.          10.          10.          10.\n",
      "   10.          10.          10.          10.          10.          10.\n",
      "   10.          10.          10.          10.          10.          10.\n",
      "   10.          10.          10.          10.          10.          10.\n",
      "   10.          10.          10.          10.          10.          10.\n",
      "   10.          10.          10.          10.          10.          10.\n",
      "   10.          10.          10.          10.          10.          10.\n",
      "   10.          10.          10.          10.          10.          10.        ]\n",
      " [  9.9875       9.9875       9.9875       9.9875      12.16804213   9.9875\n",
      "   13.7725       9.9875      10.           9.9875      13.76         9.9875\n",
      "   12.59385279   9.9875       9.9875      13.76         9.9875       9.9875\n",
      "   12.32941483  13.76        13.7725      13.76         9.9875       9.9875\n",
      "    9.9875       9.9875      13.41104948   9.9875       9.9875       9.9875\n",
      "   13.7725      13.33965233  10.           9.9875       9.9875       9.9875\n",
      "    9.9875       9.9875       9.9875       9.9875      12.20146171   9.9875\n",
      "   12.92123179   9.9875      13.7725       9.9875       9.9875       9.9875\n",
      "   13.76         9.9875      13.76         9.9875       9.9875      13.5445246\n",
      "   10.          13.76        13.7725       9.9875       9.9875       9.9875    ]\n",
      " [ 13.77090867   9.97511719  13.74918906  13.79871962  12.11242463\n",
      "   10.00665885  13.64237533  10.0381224   10.06277083  10.02827429\n",
      "   13.6414375   13.0891192   12.47015699   9.99683679  10.03508427  13.61\n",
      "   10.02464775   9.99463314  14.50494682  16.98867223  13.673917    13.649375\n",
      "   10.03791406   9.97503906  10.02827429  10.00364677  16.5960131\n",
      "   10.03500614   9.99348874  13.78073073  13.66321603  13.26806084\n",
      "   10.12214294   9.97511719   9.97503906  13.74911094  10.00655469\n",
      "   13.23036892  10.03508427   9.99348874  12.1267331   13.8032787\n",
      "   12.84392277  10.0904006   13.67884881  10.00655469  13.08622145\n",
      "   12.72714827  13.6179375   10.03799219  13.6179375   12.04939216\n",
      "   13.76756062  15.47506108  13.88915214  15.75032648  17.01548833\n",
      "    9.97511719   9.97503906  13.74911094]]\n"
     ]
    }
   ],
   "source": [
    "print(S_A_matrix[:3,60:])"
   ]
  },
  {
   "cell_type": "code",
   "execution_count": 19,
   "metadata": {
    "collapsed": false
   },
   "outputs": [],
   "source": [
    "new_rewards = hvac_inst.Reward(states,actions)"
   ]
  },
  {
   "cell_type": "code",
   "execution_count": 20,
   "metadata": {
    "collapsed": false
   },
   "outputs": [
    {
     "data": {
      "text/plain": [
       "array([[-1207229.875 ],\n",
       "       [-1206554.125 ],\n",
       "       [-1205923.5   ],\n",
       "       [-1205307.    ],\n",
       "       [-1184718.375 ],\n",
       "       [-1204114.    ],\n",
       "       [-1123538.75  ],\n",
       "       [-1023068.9375],\n",
       "       [ -922670.1875],\n",
       "       [ -882369.75  ]], dtype=float32)"
      ]
     },
     "execution_count": 20,
     "metadata": {},
     "output_type": "execute_result"
    }
   ],
   "source": [
    "feed_dict={states:S_A_matrix[:10,60:], actions:S_A_matrix[:10,:60]}\n",
    "sess.run(new_rewards,feed_dict=feed_dict )"
   ]
  },
  {
   "cell_type": "code",
   "execution_count": 21,
   "metadata": {
    "collapsed": true
   },
   "outputs": [],
   "source": [
    "class HVACCell(tf.nn.rnn_cell.RNNCell):\n",
    "\n",
    "    def __init__(self, adj_outside,adj_hall,adj,rooms,default_settings):\n",
    "        self._num_state_units = len(rooms)\n",
    "        self._num_reward_units = 1+len(rooms)\n",
    "        self.hvac = HVAC(adj_outside,adj_hall,adj,rooms,default_settings)\n",
    "\n",
    "    @property\n",
    "    def state_size(self):\n",
    "        return self._num_state_units\n",
    "\n",
    "    @property\n",
    "    def output_size(self):\n",
    "        return self._num_reward_units\n",
    "\n",
    "    def __call__(self, inputs, state, scope=None):\n",
    "        next_state =  self.hvac.Transition(state, inputs)\n",
    "        reward = self.hvac.Reward(state, inputs)      \n",
    "        return tf.concat(1,[reward,next_state]), next_state\n",
    "    "
   ]
  },
  {
   "cell_type": "code",
   "execution_count": 22,
   "metadata": {
    "collapsed": true
   },
   "outputs": [],
   "source": [
    "hvac_inst_cell = HVACCell(adj_outside,adj_hall,adj,rooms,default_settings)"
   ]
  },
  {
   "cell_type": "code",
   "execution_count": 23,
   "metadata": {
    "collapsed": false
   },
   "outputs": [
    {
     "data": {
      "text/plain": [
       "(<tf.Tensor 'concat:0' shape=(2, 61) dtype=float32>,\n",
       " <tf.Tensor 'pack_25:0' shape=(2, 60) dtype=float32>)"
      ]
     },
     "execution_count": 23,
     "metadata": {},
     "output_type": "execute_result"
    }
   ],
   "source": [
    "a = tf.Variable(tf.constant(0.0, dtype=tf.float32,shape=[2,60]),name=\"action\")\n",
    "initial_state = hvac_inst_cell.zero_state(2, dtype=tf.float32)+tf.constant([[random.randint(0,30) for _ in range(60)]],dtype=tf.float32)\n",
    "hvac_inst_cell(a,initial_state )\n",
    "#print(initial_state.get_shape())"
   ]
  },
  {
   "cell_type": "code",
   "execution_count": 24,
   "metadata": {
    "collapsed": true
   },
   "outputs": [],
   "source": [
    "class ActionOptimizer(object):\n",
    "    def __init__(self,\n",
    "                a, # Actions\n",
    "                num_step, # Number of RNN step, this is a fixed step RNN sequence, 12 for navigation\n",
    "                learning_rate=0.1): \n",
    "        self.action = tf.reshape(a,[-1,num_step,60]) #Reshape rewards\n",
    "        print(self.action)\n",
    "        self.num_step = num_step\n",
    "        self.learning_rate = learning_rate\n",
    "        self._p_create_rnn_graph()\n",
    "        self._p_create_loss()\n",
    "        self.sess = tf.InteractiveSession()\n",
    "        self.sess.run(tf.global_variables_initializer())\n",
    "    \n",
    "    def _p_create_rnn_graph(self):\n",
    "        cell = HVACCell(adj_outside,adj_hall,adj,rooms,default_settings)\n",
    "        initial_state = cell.zero_state(1, dtype=tf.float32)+tf.constant([[truncnorm.rvs(-5/3,5/3,loc=15, scale=2.5) for _ in range(60)]],dtype=tf.float32)\n",
    "        print('action batch size:{0}'.format(array_ops.shape(self.action)[0]))\n",
    "        print('Initial_state shape:{0}'.format(initial_state))\n",
    "        rnn_outputs, state = tf.nn.dynamic_rnn(cell, self.action, dtype=tf.float32,initial_state=initial_state)\n",
    "        #need output intermediate states as well\n",
    "        concated = tf.concat(0,rnn_outputs)\n",
    "        something_unpacked =  tf.unpack(concated, axis=2)\n",
    "        self.outputs = tf.reshape(something_unpacked[0],[-1,self.num_step,1])\n",
    "        self.intern_states = tf.pack(something_unpacked[1:61], axis=2)\n",
    "        self.last_state = state\n",
    "        self.pred = tf.reduce_sum(self.outputs,1)\n",
    "        print(\"self.pred:{0}\".format(self.pred))\n",
    "            \n",
    "    def _p_create_loss(self):\n",
    "\n",
    "        objective = tf.reduce_mean(self.pred) \n",
    "        self.loss = -objective\n",
    "        print(self.loss.get_shape())\n",
    "        #self.loss = -objective\n",
    "        self.optimizer = tf.train.RMSPropOptimizer(self.learning_rate).minimize(self.loss, var_list=[a])\n",
    "        \n",
    "    def Optimize(self,epoch=100):\n",
    "        \n",
    "        new_loss = self.sess.run([self.loss])\n",
    "        print('Loss in epoch {0}: {1}'.format(\"Initial\", new_loss)) \n",
    "        for epoch in range(epoch):\n",
    "            training = self.sess.run([self.optimizer])\n",
    "            self.sess.run(tf.assign(a, tf.clip_by_value(a, 0, 10)))\n",
    "            if True:\n",
    "                new_loss = self.sess.run([self.loss])\n",
    "                print('Loss in epoch {0}: {1}'.format(epoch, new_loss))  \n",
    "        minimum_costs_id=self.sess.run(tf.argmax(self.pred,0))\n",
    "        print(minimum_costs_id)\n",
    "        print('Optimal Action Squence:{0}'.format(self.sess.run(self.action)[minimum_costs_id[0]]))\n",
    "        print('The last state:{0}'.format(self.sess.run(self.last_state)))\n",
    "        print('Rewards each time step:{0}'.format(self.sess.run(self.outputs)))\n",
    "        #print('Intermediate states:{0}'.format(self.sess.run(self.intern_states)[minimum_costs_id[0]]))\n",
    "        interm = self.sess.run(self.intern_states)[minimum_costs_id[0]]\n",
    "        np.savetxt(\"HVAC_INTERM.csv\",interm,delimiter=\",\",fmt='%2.5f')"
   ]
  },
  {
   "cell_type": "code",
   "execution_count": 25,
   "metadata": {
    "collapsed": false
   },
   "outputs": [
    {
     "name": "stdout",
     "output_type": "stream",
     "text": [
      "Tensor(\"Reshape:0\", shape=(1, 20, 60), dtype=float32)\n",
      "action batch size:Tensor(\"strided_slice_5:0\", shape=(), dtype=int32)\n",
      "Initial_state shape:Tensor(\"add_8120:0\", shape=(1, 60), dtype=float32)\n",
      "self.pred:Tensor(\"Sum:0\", shape=(1, 1), dtype=float32)\n",
      "()\n"
     ]
    }
   ],
   "source": [
    "a = tf.Variable(tf.constant(5.0, dtype=tf.float32,shape=[1200]),name=\"action\")\n",
    "rnn_inst = ActionOptimizer(a, 20)  "
   ]
  },
  {
   "cell_type": "code",
   "execution_count": 26,
   "metadata": {
    "collapsed": false
   },
   "outputs": [
    {
     "name": "stdout",
     "output_type": "stream",
     "text": [
      "Loss in epoch Initial: [20349212.0]\n",
      "Loss in epoch 0: [19884916.0]\n",
      "Loss in epoch 1: [19601718.0]\n",
      "Loss in epoch 2: [19478976.0]\n",
      "Loss in epoch 3: [19316536.0]\n",
      "Loss in epoch 4: [19094314.0]\n",
      "Loss in epoch 5: [18852240.0]\n",
      "Loss in epoch 6: [18550262.0]\n",
      "Loss in epoch 7: [18208380.0]\n",
      "Loss in epoch 8: [18026602.0]\n",
      "Loss in epoch 9: [17724902.0]\n",
      "Loss in epoch 10: [17463260.0]\n",
      "Loss in epoch 11: [17181656.0]\n",
      "Loss in epoch 12: [16840114.0]\n",
      "Loss in epoch 13: [16438634.0]\n",
      "Loss in epoch 14: [16097205.0]\n",
      "Loss in epoch 15: [15595823.0]\n",
      "Loss in epoch 16: [15014467.0]\n",
      "Loss in epoch 17: [14473160.0]\n",
      "Loss in epoch 18: [13891896.0]\n",
      "Loss in epoch 19: [13250670.0]\n",
      "Loss in epoch 20: [12489473.0]\n",
      "Loss in epoch 21: [11708302.0]\n",
      "Loss in epoch 22: [10767160.0]\n",
      "Loss in epoch 23: [9706046.0]\n",
      "Loss in epoch 24: [8664964.0]\n",
      "Loss in epoch 25: [8063904.0]\n",
      "Loss in epoch 26: [7662860.5]\n",
      "Loss in epoch 27: [6881838.5]\n",
      "Loss in epoch 28: [6540826.0]\n",
      "Loss in epoch 29: [6239820.0]\n",
      "Loss in epoch 30: [5998827.0]\n",
      "Loss in epoch 31: [5877850.0]\n",
      "Loss in epoch 32: [5496968.5]\n",
      "Loss in epoch 33: [5216547.0]\n",
      "Loss in epoch 34: [5095810.0]\n",
      "Loss in epoch 35: [4895479.0]\n",
      "Loss in epoch 36: [4795408.0]\n",
      "Loss in epoch 37: [4615243.5]\n",
      "Loss in epoch 38: [4654577.0]\n",
      "Loss in epoch 39: [4514455.0]\n",
      "Loss in epoch 40: [4474356.0]\n",
      "Loss in epoch 41: [4354180.5]\n",
      "Loss in epoch 42: [4413977.0]\n",
      "Loss in epoch 43: [4354056.5]\n",
      "Loss in epoch 44: [4333794.0]\n",
      "Loss in epoch 45: [4293761.5]\n",
      "Loss in epoch 46: [4313588.5]\n",
      "Loss in epoch 47: [4273515.0]\n",
      "Loss in epoch 48: [4173452.2]\n",
      "Loss in epoch 49: [4253319.0]\n",
      "Loss in epoch 50: [4113270.8]\n",
      "Loss in epoch 51: [4133247.2]\n",
      "Loss in epoch 52: [3953076.0]\n",
      "Loss in epoch 53: [4033078.5]\n",
      "Loss in epoch 54: [3912959.0]\n",
      "Loss in epoch 55: [3912978.0]\n",
      "Loss in epoch 56: [3852807.5]\n",
      "Loss in epoch 57: [3852813.5]\n",
      "Loss in epoch 58: [3772751.5]\n",
      "Loss in epoch 59: [3792791.2]\n",
      "Loss in epoch 60: [3732626.5]\n",
      "Loss in epoch 61: [3712624.0]\n",
      "Loss in epoch 62: [3692505.0]\n",
      "Loss in epoch 63: [3652586.5]\n",
      "Loss in epoch 64: [3672331.0]\n",
      "Loss in epoch 65: [3632511.0]\n",
      "Loss in epoch 66: [3592366.0]\n",
      "Loss in epoch 67: [3612406.2]\n",
      "Loss in epoch 68: [3532336.0]\n",
      "Loss in epoch 69: [3592284.0]\n",
      "Loss in epoch 70: [3512245.8]\n",
      "Loss in epoch 71: [3532228.0]\n",
      "Loss in epoch 72: [3512109.8]\n",
      "Loss in epoch 73: [3452219.2]\n",
      "Loss in epoch 74: [3471969.5]\n",
      "Loss in epoch 75: [3452121.0]\n",
      "Loss in epoch 76: [3451943.5]\n",
      "Loss in epoch 77: [3432082.0]\n",
      "Loss in epoch 78: [3431934.0]\n",
      "Loss in epoch 79: [3431980.0]\n",
      "Loss in epoch 80: [3411948.2]\n",
      "Loss in epoch 81: [3411881.2]\n",
      "Loss in epoch 82: [3391808.5]\n",
      "Loss in epoch 83: [3371899.8]\n",
      "Loss in epoch 84: [3391825.8]\n",
      "Loss in epoch 85: [3371813.0]\n",
      "Loss in epoch 86: [3391709.0]\n",
      "Loss in epoch 87: [3351763.8]\n",
      "Loss in epoch 88: [3371711.0]\n",
      "Loss in epoch 89: [3351719.2]\n",
      "Loss in epoch 90: [3371583.5]\n",
      "Loss in epoch 91: [3351637.2]\n",
      "Loss in epoch 92: [3351574.2]\n",
      "Loss in epoch 93: [3331634.2]\n",
      "Loss in epoch 94: [3351524.5]\n",
      "Loss in epoch 95: [3331590.5]\n",
      "Loss in epoch 96: [3351517.5]\n",
      "Loss in epoch 97: [3331449.5]\n",
      "Loss in epoch 98: [3331453.5]\n",
      "Loss in epoch 99: [3331579.5]\n",
      "Loss in epoch 100: [3331445.0]\n",
      "Loss in epoch 101: [3311491.2]\n",
      "Loss in epoch 102: [3331404.5]\n",
      "Loss in epoch 103: [3271510.8]\n",
      "Loss in epoch 104: [3311325.0]\n",
      "Loss in epoch 105: [3271398.5]\n",
      "Loss in epoch 106: [3291314.0]\n",
      "Loss in epoch 107: [3251407.2]\n",
      "Loss in epoch 108: [3291277.0]\n",
      "Loss in epoch 109: [3251352.0]\n",
      "Loss in epoch 110: [3271223.0]\n",
      "Loss in epoch 111: [3251288.8]\n",
      "Loss in epoch 112: [3231262.8]\n",
      "Loss in epoch 113: [3251291.5]\n",
      "Loss in epoch 114: [3231215.0]\n",
      "Loss in epoch 115: [3231305.5]\n",
      "Loss in epoch 116: [3231191.2]\n",
      "Loss in epoch 117: [3251209.5]\n",
      "Loss in epoch 118: [3231233.5]\n",
      "Loss in epoch 119: [3191201.0]\n",
      "Loss in epoch 120: [3231139.5]\n",
      "Loss in epoch 121: [3171188.5]\n",
      "Loss in epoch 122: [3231083.5]\n",
      "Loss in epoch 123: [3151123.0]\n",
      "Loss in epoch 124: [3171115.2]\n",
      "Loss in epoch 125: [3171121.5]\n",
      "Loss in epoch 126: [3191093.5]\n",
      "Loss in epoch 127: [3151101.5]\n",
      "Loss in epoch 128: [3110973.5]\n",
      "Loss in epoch 129: [3151141.5]\n",
      "[0]\n",
      "Optimal Action Squence:[[  5.92921734   8.14134502  10.         ...,   8.14690781   9.5638237   10.        ]\n",
      " [  4.34617758   6.0763979    7.87256718 ...,   6.16294241   7.28308678\n",
      "    8.3406086 ]\n",
      " [  2.88865829   4.13732147   5.418221   ...,   4.29323626   5.02494049\n",
      "    5.92440796]\n",
      " ..., \n",
      " [  0.56541824   0.68214315   0.60046512 ...,   0.58860695   0.08536064\n",
      "    0.22975738]\n",
      " [  0.16944909   0.39463034   0.26073354 ...,   0.43317744   0.05960689\n",
      "    0.05872254]\n",
      " [  0.           0.           0.         ...,   0.           0.           0.        ]]\n",
      "The last state:[[ 21.60920143  21.79248238  21.6407795   21.75126076  21.78274727\n",
      "   21.38342094  21.62162399  21.66845131  22.00828934  21.30320549\n",
      "   21.37003136  21.3597374   21.38940048  21.37864304  21.35611343\n",
      "   21.77477264  21.67753983  21.66516495  21.69529152  21.70567894\n",
      "   22.1064167   21.26059151  21.42728615  21.30122185  21.31178856\n",
      "   21.23049927  21.32552719  21.77317429  21.7770195   21.67760468\n",
      "   21.66601944  21.68980789  22.09796524  21.25285912  21.37063408\n",
      "   21.37336159  21.21622086  21.24108696  21.29220581  21.83337402\n",
      "   21.85517883  21.6828022   21.76821327  21.99316978  22.12367249\n",
      "   21.20731163  21.31539345  21.32977104  21.20717621  21.2288456\n",
      "   21.27031326  21.71643448  21.77749252  21.79771423  21.78027725\n",
      "   21.79992867  22.12332916  21.6416626   21.67226028  21.69098663]]\n",
      "Rewards each time step:[[[ -1.20455025e+06]\n",
      "  [ -1.14278800e+06]\n",
      "  [ -8.01494188e+05]\n",
      "  [ -6.46078796e+02]\n",
      "  [ -1.71966400e+02]\n",
      "  [ -7.30966187e+01]\n",
      "  [ -7.12109528e+01]\n",
      "  [ -6.94578400e+01]\n",
      "  [ -7.43081436e+01]\n",
      "  [ -7.96246490e+01]\n",
      "  [ -8.41525879e+01]\n",
      "  [ -8.92106018e+01]\n",
      "  [ -9.73110657e+01]\n",
      "  [ -1.05582390e+02]\n",
      "  [ -1.13480095e+02]\n",
      "  [ -1.20993866e+02]\n",
      "  [ -1.28300949e+02]\n",
      "  [ -1.32581177e+02]\n",
      "  [ -1.26951591e+02]\n",
      "  [ -1.24791397e+02]]]\n"
     ]
    }
   ],
   "source": [
    "rnn_inst.Optimize(130)"
   ]
  },
  {
   "cell_type": "code",
   "execution_count": null,
   "metadata": {
    "collapsed": true
   },
   "outputs": [],
   "source": []
  }
 ],
 "metadata": {
  "kernelspec": {
   "display_name": "Python 3",
   "language": "python",
   "name": "python3"
  },
  "language_info": {
   "codemirror_mode": {
    "name": "ipython",
    "version": 3
   },
   "file_extension": ".py",
   "mimetype": "text/x-python",
   "name": "python",
   "nbconvert_exporter": "python",
   "pygments_lexer": "ipython3",
   "version": "3.4.3"
  }
 },
 "nbformat": 4,
 "nbformat_minor": 2
}
